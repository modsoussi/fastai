{
 "cells": [
  {
   "cell_type": "code",
   "execution_count": 69,
   "id": "4714e7b9-9632-4a10-8931-63de1d149843",
   "metadata": {},
   "outputs": [],
   "source": [
    "! pip install -Uqq fastbook"
   ]
  },
  {
   "cell_type": "code",
   "execution_count": 70,
   "id": "f482040f-00e3-4847-9f20-6e1b7dadcb42",
   "metadata": {},
   "outputs": [],
   "source": [
    "import torch\n",
    "from fastbook import *"
   ]
  },
  {
   "cell_type": "code",
   "execution_count": 71,
   "id": "862a4a9f-550f-433a-b975-f7941b562e63",
   "metadata": {},
   "outputs": [],
   "source": [
    "path = untar_data(URLs.MNIST_SAMPLE)"
   ]
  },
  {
   "cell_type": "code",
   "execution_count": 72,
   "id": "5e76da19-98ed-4bc5-a6a4-ae47075664b9",
   "metadata": {},
   "outputs": [],
   "source": [
    "Path.BASE_PATH = path"
   ]
  },
  {
   "cell_type": "code",
   "execution_count": 73,
   "id": "6cd38d5c-0553-4ba0-8cba-0ed3dc6eda24",
   "metadata": {},
   "outputs": [
    {
     "data": {
      "text/plain": [
       "(#3) [Path('valid'),Path('labels.csv'),Path('train')]"
      ]
     },
     "execution_count": 73,
     "metadata": {},
     "output_type": "execute_result"
    }
   ],
   "source": [
    "path.ls()"
   ]
  },
  {
   "cell_type": "code",
   "execution_count": 74,
   "id": "de8343cd-029e-4012-a150-bae2a735eefc",
   "metadata": {},
   "outputs": [
    {
     "data": {
      "text/plain": [
       "(#2) [Path('train/7'),Path('train/3')]"
      ]
     },
     "execution_count": 74,
     "metadata": {},
     "output_type": "execute_result"
    }
   ],
   "source": [
    "(path/'train').ls()"
   ]
  },
  {
   "cell_type": "code",
   "execution_count": 75,
   "id": "9d91f8de-d67d-4451-b5e4-c65e6a489b62",
   "metadata": {},
   "outputs": [],
   "source": [
    "threes = [tensor(Image.open(o)) for o in (path/'train'/'3').ls().sorted()]\n",
    "sevens = [tensor(Image.open(o)) for o in (path/'train'/'7').ls().sorted()]"
   ]
  },
  {
   "cell_type": "code",
   "execution_count": 76,
   "id": "f0cb729b-41ad-42b9-a6d3-09489cf76102",
   "metadata": {},
   "outputs": [
    {
     "data": {
      "text/plain": [
       "torch.Size([12396, 784])"
      ]
     },
     "execution_count": 76,
     "metadata": {},
     "output_type": "execute_result"
    }
   ],
   "source": [
    "train_x = torch.cat([torch.stack(threes).float()/255, torch.stack(sevens).float()/255]).view(-1, 28*28)\n",
    "train_x.shape"
   ]
  },
  {
   "cell_type": "code",
   "execution_count": 77,
   "id": "e4a90469-7f17-4204-ab43-6e66a9657b2c",
   "metadata": {},
   "outputs": [
    {
     "data": {
      "text/plain": [
       "torch.Size([12396, 2])"
      ]
     },
     "execution_count": 77,
     "metadata": {},
     "output_type": "execute_result"
    }
   ],
   "source": [
    "train_y = tensor([1.,0.]*len(threes) + [0., 1.]*len(sevens)).view(-1, 2)\n",
    "train_y.shape"
   ]
  },
  {
   "cell_type": "code",
   "execution_count": 78,
   "id": "933e0dd2-f537-4f23-83e5-9b65f67a10bb",
   "metadata": {},
   "outputs": [],
   "source": [
    "def binary_cross_entropy(preds, targ):\n",
    "    preds = preds.sigmoid()\n",
    "    return -torch.where(targ==1., preds, 1-preds).log().mean()"
   ]
  },
  {
   "cell_type": "code",
   "execution_count": 79,
   "id": "9c489e75-8cad-4063-ad88-2294ad9ad11f",
   "metadata": {},
   "outputs": [],
   "source": [
    "def init_params(size, std=1.):\n",
    "    return (torch.randn(size)*std).requires_grad_()"
   ]
  },
  {
   "cell_type": "code",
   "execution_count": 80,
   "id": "15658dd9-0e52-4380-a532-ae05e1a12c7c",
   "metadata": {},
   "outputs": [],
   "source": [
    "w = init_params((28*28, 2))\n",
    "b = init_params(2)"
   ]
  },
  {
   "cell_type": "code",
   "execution_count": 81,
   "id": "cd44f079-b173-40f0-81aa-68e0489257ca",
   "metadata": {},
   "outputs": [
    {
     "data": {
      "text/plain": [
       "torch.Size([784, 2])"
      ]
     },
     "execution_count": 81,
     "metadata": {},
     "output_type": "execute_result"
    }
   ],
   "source": [
    "w.shape"
   ]
  },
  {
   "cell_type": "code",
   "execution_count": 82,
   "id": "1375d5f6-d394-4be7-9ecb-d0c2d5d28041",
   "metadata": {},
   "outputs": [],
   "source": [
    "def linear(xb): return xb@w + b"
   ]
  },
  {
   "cell_type": "code",
   "execution_count": 83,
   "id": "570e5a3b-a695-4748-917f-437c81f0c9c1",
   "metadata": {},
   "outputs": [
    {
     "data": {
      "text/plain": [
       "(tensor([[ -6.9969,   6.8148],\n",
       "         [-14.1226,  11.8438],\n",
       "         [ -6.3983,   3.4259],\n",
       "         [ -7.2866,  -3.3239],\n",
       "         [ -4.9341,  10.7746]], grad_fn=<AddBackward0>),\n",
       " tensor([[9.1388e-04, 9.9890e-01],\n",
       "         [7.3559e-07, 9.9999e-01],\n",
       "         [1.6616e-03, 9.6850e-01],\n",
       "         [6.8416e-04, 3.4762e-02],\n",
       "         [7.1454e-03, 9.9998e-01]], grad_fn=<SigmoidBackward0>))"
      ]
     },
     "execution_count": 83,
     "metadata": {},
     "output_type": "execute_result"
    }
   ],
   "source": [
    "preds = linear(train_x[:5])\n",
    "preds, preds.sigmoid()"
   ]
  },
  {
   "cell_type": "code",
   "execution_count": 84,
   "id": "7dfd6811-df35-4cb1-859a-77b3637f8b82",
   "metadata": {},
   "outputs": [
    {
     "data": {
      "text/plain": [
       "tensor([[1., 0.],\n",
       "        [1., 0.],\n",
       "        [1., 0.],\n",
       "        [1., 0.],\n",
       "        [1., 0.]])"
      ]
     },
     "execution_count": 84,
     "metadata": {},
     "output_type": "execute_result"
    }
   ],
   "source": [
    "train_y[:5]"
   ]
  },
  {
   "cell_type": "code",
   "execution_count": 85,
   "id": "9a81c0b5-9c4e-4ab4-b598-89a6ef634382",
   "metadata": {},
   "outputs": [
    {
     "data": {
      "text/plain": [
       "(tensor(7.2678, grad_fn=<NegBackward0>),\n",
       " tensor(7.2677, grad_fn=<BinaryCrossEntropyWithLogitsBackward0>))"
      ]
     },
     "execution_count": 85,
     "metadata": {},
     "output_type": "execute_result"
    }
   ],
   "source": [
    "xb, yb = train_x[:5], train_y[:5]\n",
    "acts = linear(xb)\n",
    "\n",
    "binary_cross_entropy(acts, yb), torch.nn.BCEWithLogitsLoss()(acts, yb)"
   ]
  },
  {
   "cell_type": "code",
   "execution_count": 86,
   "id": "9ab3303f-13c3-483d-9b8a-7bf923586c59",
   "metadata": {},
   "outputs": [],
   "source": [
    "def step(xb, yb, model):\n",
    "    preds = model(xb)\n",
    "    loss = binary_cross_entropy(preds, yb)\n",
    "    loss.backward()"
   ]
  },
  {
   "cell_type": "code",
   "execution_count": 87,
   "id": "ebfd8755-2588-43e1-8109-ee608edd7bee",
   "metadata": {},
   "outputs": [
    {
     "data": {
      "text/plain": [
       "(tensor([[0., nan],\n",
       "         [0., nan],\n",
       "         [0., nan],\n",
       "         ...,\n",
       "         [0., nan],\n",
       "         [0., nan],\n",
       "         [0., nan]]),\n",
       " tensor([-0.0984,     nan]))"
      ]
     },
     "execution_count": 87,
     "metadata": {},
     "output_type": "execute_result"
    }
   ],
   "source": [
    "step(train_x, train_y, linear)\n",
    "w.grad, b.grad"
   ]
  },
  {
   "cell_type": "code",
   "execution_count": 37,
   "id": "3e654434-a6c4-4f22-9b56-c2af375f478d",
   "metadata": {},
   "outputs": [],
   "source": [
    "def batch_accuracy(preds, targ):\n",
    "    preds = preds.sigmoid()\n",
    "    return ((preds > 0.5) == targ.bool()).float().mean()"
   ]
  },
  {
   "cell_type": "code",
   "execution_count": 38,
   "id": "7d67a42f-7af8-461c-81a2-f86fd3c455c9",
   "metadata": {},
   "outputs": [
    {
     "data": {
      "text/plain": [
       "tensor(1.)"
      ]
     },
     "execution_count": 38,
     "metadata": {},
     "output_type": "execute_result"
    }
   ],
   "source": [
    "batch_accuracy(linear(train_x[:5]), train_y[:5])"
   ]
  },
  {
   "cell_type": "code",
   "execution_count": 111,
   "id": "4f2c9d2a-ee71-4b81-adfc-7a355d334ff0",
   "metadata": {},
   "outputs": [
    {
     "data": {
      "text/plain": [
       "tensor([[nan, nan],\n",
       "        [nan, nan],\n",
       "        [nan, nan],\n",
       "        [nan, nan],\n",
       "        [nan, nan]], grad_fn=<AddBackward0>)"
      ]
     },
     "execution_count": 111,
     "metadata": {},
     "output_type": "execute_result"
    }
   ],
   "source": [
    "preds = linear(train_x[:5])\n",
    "preds"
   ]
  },
  {
   "cell_type": "code",
   "execution_count": null,
   "id": "c72bf51f-e533-4a24-b672-abec30d1aa2c",
   "metadata": {},
   "outputs": [],
   "source": []
  }
 ],
 "metadata": {
  "kernelspec": {
   "display_name": "fastai",
   "language": "python",
   "name": "python3"
  },
  "language_info": {
   "codemirror_mode": {
    "name": "ipython",
    "version": 3
   },
   "file_extension": ".py",
   "mimetype": "text/x-python",
   "name": "python",
   "nbconvert_exporter": "python",
   "pygments_lexer": "ipython3",
   "version": "3.9.13"
  },
  "vscode": {
   "interpreter": {
    "hash": "8868b0e47ad2d977ef6a70a1daecfc7182971b5999309f287656c1620744575c"
   }
  }
 },
 "nbformat": 4,
 "nbformat_minor": 5
}
