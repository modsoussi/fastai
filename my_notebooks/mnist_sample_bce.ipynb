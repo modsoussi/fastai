{
 "cells": [
  {
   "cell_type": "code",
   "execution_count": 22,
   "id": "4714e7b9-9632-4a10-8931-63de1d149843",
   "metadata": {},
   "outputs": [],
   "source": [
    "! pip install -Uqq fastbook"
   ]
  },
  {
   "cell_type": "code",
   "execution_count": 23,
   "id": "f482040f-00e3-4847-9f20-6e1b7dadcb42",
   "metadata": {},
   "outputs": [],
   "source": [
    "import torch\n",
    "from fastbook import *"
   ]
  },
  {
   "cell_type": "code",
   "execution_count": 24,
   "id": "862a4a9f-550f-433a-b975-f7941b562e63",
   "metadata": {},
   "outputs": [],
   "source": [
    "path = untar_data(URLs.MNIST_SAMPLE)"
   ]
  },
  {
   "cell_type": "code",
   "execution_count": 25,
   "id": "5e76da19-98ed-4bc5-a6a4-ae47075664b9",
   "metadata": {},
   "outputs": [],
   "source": [
    "Path.BASE_PATH = path"
   ]
  },
  {
   "cell_type": "code",
   "execution_count": 26,
   "id": "6cd38d5c-0553-4ba0-8cba-0ed3dc6eda24",
   "metadata": {},
   "outputs": [
    {
     "data": {
      "text/plain": [
       "(#3) [Path('train'),Path('labels.csv'),Path('valid')]"
      ]
     },
     "execution_count": 26,
     "metadata": {},
     "output_type": "execute_result"
    }
   ],
   "source": [
    "path.ls()"
   ]
  },
  {
   "cell_type": "code",
   "execution_count": 27,
   "id": "de8343cd-029e-4012-a150-bae2a735eefc",
   "metadata": {},
   "outputs": [
    {
     "data": {
      "text/plain": [
       "(#2) [Path('train/7'),Path('train/3')]"
      ]
     },
     "execution_count": 27,
     "metadata": {},
     "output_type": "execute_result"
    }
   ],
   "source": [
    "(path/'train').ls()"
   ]
  },
  {
   "cell_type": "code",
   "execution_count": 38,
   "id": "9d91f8de-d67d-4451-b5e4-c65e6a489b62",
   "metadata": {},
   "outputs": [],
   "source": [
    "threes = [tensor(Image.open(o)) for o in (path/'train'/'3').ls().sorted()]\n",
    "sevens = [tensor(Image.open(o)) for o in (path/'train'/'7').ls().sorted()]"
   ]
  },
  {
   "cell_type": "code",
   "execution_count": 51,
   "id": "f0cb729b-41ad-42b9-a6d3-09489cf76102",
   "metadata": {},
   "outputs": [
    {
     "data": {
      "text/plain": [
       "torch.Size([12396, 784])"
      ]
     },
     "execution_count": 51,
     "metadata": {},
     "output_type": "execute_result"
    }
   ],
   "source": [
    "train_x = torch.cat([torch.stack(threes).float()/255, torch.stack(sevens).float()/255]).view(-1, 28*28)\n",
    "train_x.shape"
   ]
  },
  {
   "cell_type": "code",
   "execution_count": 52,
   "id": "e4a90469-7f17-4204-ab43-6e66a9657b2c",
   "metadata": {},
   "outputs": [
    {
     "data": {
      "text/plain": [
       "torch.Size([12396, 2])"
      ]
     },
     "execution_count": 52,
     "metadata": {},
     "output_type": "execute_result"
    }
   ],
   "source": [
    "train_y = tensor([1,0]*len(threes) + [0, 1]*len(sevens)).view(-1, 2)\n",
    "train_y.shape"
   ]
  },
  {
   "cell_type": "code",
   "execution_count": 53,
   "id": "933e0dd2-f537-4f23-83e5-9b65f67a10bb",
   "metadata": {},
   "outputs": [],
   "source": [
    "def binary_cross_entropy(preds, targ):\n",
    "    preds = preds.sigmoid()\n",
    "    return -torch.where(targ==1., preds, 1-preds).log().mean()"
   ]
  },
  {
   "cell_type": "code",
   "execution_count": 54,
   "id": "9c489e75-8cad-4063-ad88-2294ad9ad11f",
   "metadata": {},
   "outputs": [],
   "source": [
    "def init_params(size, std=1.):\n",
    "    return (torch.randn(size)*std).requires_grad_()"
   ]
  },
  {
   "cell_type": "code",
   "execution_count": 101,
   "id": "15658dd9-0e52-4380-a532-ae05e1a12c7c",
   "metadata": {},
   "outputs": [],
   "source": [
    "w = init_params((28*28, 2))\n",
    "b = init_params(2)"
   ]
  },
  {
   "cell_type": "code",
   "execution_count": 102,
   "id": "cd44f079-b173-40f0-81aa-68e0489257ca",
   "metadata": {},
   "outputs": [
    {
     "data": {
      "text/plain": [
       "torch.Size([784, 2])"
      ]
     },
     "execution_count": 102,
     "metadata": {},
     "output_type": "execute_result"
    }
   ],
   "source": [
    "w.shape"
   ]
  },
  {
   "cell_type": "code",
   "execution_count": 103,
   "id": "1375d5f6-d394-4be7-9ecb-d0c2d5d28041",
   "metadata": {},
   "outputs": [],
   "source": [
    "def linear(xb): return xb@w + b"
   ]
  },
  {
   "cell_type": "code",
   "execution_count": 104,
   "id": "570e5a3b-a695-4748-917f-437c81f0c9c1",
   "metadata": {},
   "outputs": [
    {
     "data": {
      "text/plain": [
       "tensor([[ 0.4582, 13.1073],\n",
       "        [-8.3981,  6.7378],\n",
       "        [ 4.2423, 17.5388],\n",
       "        [-1.1856,  6.2586],\n",
       "        [-7.6100, 13.1619]], grad_fn=<AddBackward0>)"
      ]
     },
     "execution_count": 104,
     "metadata": {},
     "output_type": "execute_result"
    }
   ],
   "source": [
    "preds = linear(train_x[:5])\n",
    "preds"
   ]
  },
  {
   "cell_type": "code",
   "execution_count": 105,
   "id": "7dfd6811-df35-4cb1-859a-77b3637f8b82",
   "metadata": {},
   "outputs": [
    {
     "data": {
      "text/plain": [
       "tensor([[1, 0],\n",
       "        [1, 0],\n",
       "        [1, 0],\n",
       "        [1, 0],\n",
       "        [1, 0]])"
      ]
     },
     "execution_count": 105,
     "metadata": {},
     "output_type": "execute_result"
    }
   ],
   "source": [
    "train_y[:5]"
   ]
  },
  {
   "cell_type": "code",
   "execution_count": 106,
   "id": "9a81c0b5-9c4e-4ab4-b598-89a6ef634382",
   "metadata": {},
   "outputs": [
    {
     "data": {
      "text/plain": [
       "tensor(inf, grad_fn=<NegBackward0>)"
      ]
     },
     "execution_count": 106,
     "metadata": {},
     "output_type": "execute_result"
    }
   ],
   "source": [
    "binary_cross_entropy(linear(train_x[:5]), train_y[:5])"
   ]
  },
  {
   "cell_type": "code",
   "execution_count": 107,
   "id": "9ab3303f-13c3-483d-9b8a-7bf923586c59",
   "metadata": {},
   "outputs": [],
   "source": [
    "def step(xb, yb, model):\n",
    "    preds = model(xb)\n",
    "    loss = binary_cross_entropy(preds, yb)\n",
    "    loss.backward()"
   ]
  },
  {
   "cell_type": "code",
   "execution_count": 108,
   "id": "ebfd8755-2588-43e1-8109-ee608edd7bee",
   "metadata": {},
   "outputs": [
    {
     "data": {
      "text/plain": [
       "tensor([0., 0.])"
      ]
     },
     "execution_count": 108,
     "metadata": {},
     "output_type": "execute_result"
    }
   ],
   "source": [
    "step(train_x, train_y, linear)\n",
    "\n",
    "w.data -= w.grad*1.\n",
    "b.data -= b.grad*1.\n",
    "\n",
    "w.grad.zero_()\n",
    "b.grad.zero_()"
   ]
  },
  {
   "cell_type": "code",
   "execution_count": 109,
   "id": "3e654434-a6c4-4f22-9b56-c2af375f478d",
   "metadata": {},
   "outputs": [],
   "source": [
    "def batch_accuracy(preds, targ):\n",
    "    preds = preds.sigmoid()\n",
    "    return ((preds > 0.5) == targ.bool()).float().mean()"
   ]
  },
  {
   "cell_type": "code",
   "execution_count": 110,
   "id": "7d67a42f-7af8-461c-81a2-f86fd3c455c9",
   "metadata": {},
   "outputs": [
    {
     "data": {
      "text/plain": [
       "tensor(0.5000)"
      ]
     },
     "execution_count": 110,
     "metadata": {},
     "output_type": "execute_result"
    }
   ],
   "source": [
    "batch_accuracy(linear(train_x[:5]), train_y[:5])"
   ]
  },
  {
   "cell_type": "code",
   "execution_count": 111,
   "id": "4f2c9d2a-ee71-4b81-adfc-7a355d334ff0",
   "metadata": {},
   "outputs": [
    {
     "data": {
      "text/plain": [
       "tensor([[nan, nan],\n",
       "        [nan, nan],\n",
       "        [nan, nan],\n",
       "        [nan, nan],\n",
       "        [nan, nan]], grad_fn=<AddBackward0>)"
      ]
     },
     "execution_count": 111,
     "metadata": {},
     "output_type": "execute_result"
    }
   ],
   "source": [
    "preds = linear(train_x[:5])\n",
    "preds"
   ]
  },
  {
   "cell_type": "code",
   "execution_count": null,
   "id": "c72bf51f-e533-4a24-b672-abec30d1aa2c",
   "metadata": {},
   "outputs": [],
   "source": []
  }
 ],
 "metadata": {
  "kernelspec": {
   "display_name": "Python 3 (ipykernel)",
   "language": "python",
   "name": "python3"
  },
  "language_info": {
   "codemirror_mode": {
    "name": "ipython",
    "version": 3
   },
   "file_extension": ".py",
   "mimetype": "text/x-python",
   "name": "python",
   "nbconvert_exporter": "python",
   "pygments_lexer": "ipython3",
   "version": "3.9.13"
  }
 },
 "nbformat": 4,
 "nbformat_minor": 5
}
