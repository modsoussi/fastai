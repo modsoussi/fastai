{
 "cells": [
  {
   "cell_type": "code",
   "execution_count": 588,
   "id": "4714e7b9-9632-4a10-8931-63de1d149843",
   "metadata": {},
   "outputs": [],
   "source": [
    "! pip install -Uqq fastbook"
   ]
  },
  {
   "cell_type": "code",
   "execution_count": 589,
   "id": "f482040f-00e3-4847-9f20-6e1b7dadcb42",
   "metadata": {},
   "outputs": [],
   "source": [
    "import torch\n",
    "from fastbook import *"
   ]
  },
  {
   "cell_type": "code",
   "execution_count": 590,
   "id": "862a4a9f-550f-433a-b975-f7941b562e63",
   "metadata": {},
   "outputs": [],
   "source": [
    "path = untar_data(URLs.MNIST_SAMPLE)"
   ]
  },
  {
   "cell_type": "code",
   "execution_count": 591,
   "id": "5e76da19-98ed-4bc5-a6a4-ae47075664b9",
   "metadata": {},
   "outputs": [],
   "source": [
    "Path.BASE_PATH = path"
   ]
  },
  {
   "cell_type": "code",
   "execution_count": 592,
   "id": "6cd38d5c-0553-4ba0-8cba-0ed3dc6eda24",
   "metadata": {},
   "outputs": [
    {
     "data": {
      "text/plain": [
       "(#3) [Path('valid'),Path('labels.csv'),Path('train')]"
      ]
     },
     "execution_count": 592,
     "metadata": {},
     "output_type": "execute_result"
    }
   ],
   "source": [
    "path.ls()"
   ]
  },
  {
   "cell_type": "code",
   "execution_count": 593,
   "id": "de8343cd-029e-4012-a150-bae2a735eefc",
   "metadata": {},
   "outputs": [
    {
     "data": {
      "text/plain": [
       "(#2) [Path('train/7'),Path('train/3')]"
      ]
     },
     "execution_count": 593,
     "metadata": {},
     "output_type": "execute_result"
    }
   ],
   "source": [
    "(path/'train').ls()"
   ]
  },
  {
   "cell_type": "code",
   "execution_count": 594,
   "id": "9d91f8de-d67d-4451-b5e4-c65e6a489b62",
   "metadata": {},
   "outputs": [],
   "source": [
    "threes = [tensor(Image.open(o)) for o in (path/'train'/'3').ls().sorted()]\n",
    "sevens = [tensor(Image.open(o)) for o in (path/'train'/'7').ls().sorted()]"
   ]
  },
  {
   "cell_type": "code",
   "execution_count": 595,
   "id": "f0cb729b-41ad-42b9-a6d3-09489cf76102",
   "metadata": {},
   "outputs": [
    {
     "data": {
      "text/plain": [
       "torch.Size([12396, 784])"
      ]
     },
     "execution_count": 595,
     "metadata": {},
     "output_type": "execute_result"
    }
   ],
   "source": [
    "train_x = torch.cat([torch.stack(threes).float()/255, torch.stack(sevens).float()/255]).view(-1, 28*28)\n",
    "train_x.shape"
   ]
  },
  {
   "cell_type": "code",
   "execution_count": 596,
   "id": "e4a90469-7f17-4204-ab43-6e66a9657b2c",
   "metadata": {},
   "outputs": [
    {
     "data": {
      "text/plain": [
       "torch.Size([12396, 2])"
      ]
     },
     "execution_count": 596,
     "metadata": {},
     "output_type": "execute_result"
    }
   ],
   "source": [
    "train_y = tensor([1.,0.]*len(threes) + [0., 1.]*len(sevens)).view(-1, 2)\n",
    "train_y.shape"
   ]
  },
  {
   "cell_type": "code",
   "execution_count": 597,
   "id": "933e0dd2-f537-4f23-83e5-9b65f67a10bb",
   "metadata": {},
   "outputs": [],
   "source": [
    "def binary_cross_entropy(preds, targ):\n",
    "    preds = preds.sigmoid()\n",
    "    return -torch.where(targ==1., preds, 1-preds).log().mean()"
   ]
  },
  {
   "cell_type": "code",
   "execution_count": 598,
   "id": "9c489e75-8cad-4063-ad88-2294ad9ad11f",
   "metadata": {},
   "outputs": [],
   "source": [
    "def init_params(size, std=1.):\n",
    "    return (torch.randn(size)*std).requires_grad_()"
   ]
  },
  {
   "cell_type": "code",
   "execution_count": 599,
   "id": "15658dd9-0e52-4380-a532-ae05e1a12c7c",
   "metadata": {},
   "outputs": [],
   "source": [
    "w = init_params((28*28, 2))\n",
    "b = init_params(2)"
   ]
  },
  {
   "cell_type": "code",
   "execution_count": 600,
   "id": "cd44f079-b173-40f0-81aa-68e0489257ca",
   "metadata": {},
   "outputs": [
    {
     "data": {
      "text/plain": [
       "torch.Size([784, 2])"
      ]
     },
     "execution_count": 600,
     "metadata": {},
     "output_type": "execute_result"
    }
   ],
   "source": [
    "w.shape"
   ]
  },
  {
   "cell_type": "code",
   "execution_count": 601,
   "id": "1375d5f6-d394-4be7-9ecb-d0c2d5d28041",
   "metadata": {},
   "outputs": [],
   "source": [
    "def mk_linear(w, b, xb): return xb@w + b"
   ]
  },
  {
   "cell_type": "code",
   "execution_count": 602,
   "id": "0bc5b448",
   "metadata": {},
   "outputs": [],
   "source": [
    "linear = partial(mk_linear, w, b)"
   ]
  },
  {
   "cell_type": "code",
   "execution_count": 603,
   "id": "570e5a3b-a695-4748-917f-437c81f0c9c1",
   "metadata": {},
   "outputs": [
    {
     "data": {
      "text/plain": [
       "(tensor([[-3.2130, 13.8309],\n",
       "         [-3.3259, -3.4895],\n",
       "         [-4.0412, -2.0192],\n",
       "         [-5.7149,  6.4236],\n",
       "         [-8.0018,  7.8936]], grad_fn=<AddBackward0>),\n",
       " tensor([[3.8680e-02, 1.0000e+00],\n",
       "         [3.4692e-02, 2.9613e-02],\n",
       "         [1.7273e-02, 1.1720e-01],\n",
       "         [3.2858e-03, 9.9838e-01],\n",
       "         [3.3476e-04, 9.9963e-01]], grad_fn=<SigmoidBackward0>))"
      ]
     },
     "execution_count": 603,
     "metadata": {},
     "output_type": "execute_result"
    }
   ],
   "source": [
    "preds = linear(train_x[:5])\n",
    "preds, preds.sigmoid()"
   ]
  },
  {
   "cell_type": "code",
   "execution_count": 604,
   "id": "7dfd6811-df35-4cb1-859a-77b3637f8b82",
   "metadata": {},
   "outputs": [
    {
     "data": {
      "text/plain": [
       "tensor([[1., 0.],\n",
       "        [1., 0.],\n",
       "        [1., 0.],\n",
       "        [1., 0.],\n",
       "        [1., 0.]])"
      ]
     },
     "execution_count": 604,
     "metadata": {},
     "output_type": "execute_result"
    }
   ],
   "source": [
    "train_y[:5]"
   ]
  },
  {
   "cell_type": "code",
   "execution_count": 620,
   "id": "9a81c0b5-9c4e-4ab4-b598-89a6ef634382",
   "metadata": {},
   "outputs": [
    {
     "data": {
      "text/plain": [
       "(tensor(4.9873, grad_fn=<NegBackward0>),\n",
       " tensor(4.9891, grad_fn=<BinaryCrossEntropyWithLogitsBackward0>))"
      ]
     },
     "execution_count": 620,
     "metadata": {},
     "output_type": "execute_result"
    }
   ],
   "source": [
    "xb, yb = train_x[:5], train_y[:5]\n",
    "acts = linear(xb)\n",
    "\n",
    "binary_cross_entropy(acts, yb), torch.nn.BCEWithLogitsLoss()(acts, yb)"
   ]
  },
  {
   "cell_type": "code",
   "execution_count": 621,
   "id": "267039db",
   "metadata": {},
   "outputs": [
    {
     "data": {
      "text/plain": [
       "tensor([[0., 0.],\n",
       "        [0., 1.],\n",
       "        [0., 1.],\n",
       "        [0., 0.],\n",
       "        [0., 0.]])"
      ]
     },
     "execution_count": 621,
     "metadata": {},
     "output_type": "execute_result"
    }
   ],
   "source": [
    "((acts.sigmoid() > 0.5) == yb.bool()).float()"
   ]
  },
  {
   "cell_type": "code",
   "execution_count": 607,
   "id": "9ab3303f-13c3-483d-9b8a-7bf923586c59",
   "metadata": {},
   "outputs": [],
   "source": [
    "def step(xb, yb, model):\n",
    "    preds = model(xb)\n",
    "    loss = binary_cross_entropy(preds, yb)\n",
    "    loss.backward()"
   ]
  },
  {
   "cell_type": "code",
   "execution_count": 673,
   "id": "ebfd8755-2588-43e1-8109-ee608edd7bee",
   "metadata": {},
   "outputs": [
    {
     "data": {
      "text/plain": [
       "tensor(0.4431, grad_fn=<NegBackward0>)"
      ]
     },
     "execution_count": 673,
     "metadata": {},
     "output_type": "execute_result"
    }
   ],
   "source": [
    "step(xb,yb,linear)\n",
    "\n",
    "w.data -= w.grad * 1e-2\n",
    "b.data -= b.grad * 1e-2\n",
    "\n",
    "w.grad.zero_()\n",
    "b.grad.zero_()\n",
    "\n",
    "binary_cross_entropy(linear(xb), yb)"
   ]
  },
  {
   "cell_type": "code",
   "execution_count": 674,
   "id": "3e654434-a6c4-4f22-9b56-c2af375f478d",
   "metadata": {},
   "outputs": [],
   "source": [
    "def batch_accuracy(preds, targ):\n",
    "    preds = preds.sigmoid()\n",
    "    return ((preds > 0.5) == targ.bool()).float().mean()"
   ]
  },
  {
   "cell_type": "code",
   "execution_count": 675,
   "id": "7d67a42f-7af8-461c-81a2-f86fd3c455c9",
   "metadata": {},
   "outputs": [
    {
     "data": {
      "text/plain": [
       "tensor(0.9000)"
      ]
     },
     "execution_count": 675,
     "metadata": {},
     "output_type": "execute_result"
    }
   ],
   "source": [
    "batch_accuracy(linear(xb), yb)"
   ]
  },
  {
   "cell_type": "code",
   "execution_count": 677,
   "id": "4f2c9d2a-ee71-4b81-adfc-7a355d334ff0",
   "metadata": {},
   "outputs": [
    {
     "data": {
      "text/plain": [
       "(tensor([[  4.5735,   3.7344],\n",
       "         [  4.1176, -11.8216],\n",
       "         [  3.2663, -10.0291],\n",
       "         [  3.2561,  -4.0170],\n",
       "         [  0.6096,  -2.0676]], grad_fn=<AddBackward0>),\n",
       " tensor([[9.8978e-01, 9.7667e-01],\n",
       "         [9.8398e-01, 7.3441e-06],\n",
       "         [9.6326e-01, 4.4094e-05],\n",
       "         [9.6289e-01, 1.7688e-02],\n",
       "         [6.4784e-01, 1.1229e-01]], grad_fn=<SigmoidBackward0>))"
      ]
     },
     "execution_count": 677,
     "metadata": {},
     "output_type": "execute_result"
    }
   ],
   "source": [
    "preds = linear(xb)\n",
    "preds, preds.sigmoid()"
   ]
  },
  {
   "cell_type": "code",
   "execution_count": 708,
   "id": "9d0ae8ff",
   "metadata": {},
   "outputs": [],
   "source": [
    "tl = DataLoader(list(zip(train_x, train_y)), batch_size=256)"
   ]
  },
  {
   "cell_type": "code",
   "execution_count": 709,
   "id": "a83460da",
   "metadata": {},
   "outputs": [],
   "source": [
    "v_threes = [tensor(Image.open(o)) for o in (path/'valid'/'3').ls().sorted()]\n",
    "v_sevens = [tensor(Image.open(o)) for o in (path/'valid'/'7').ls().sorted()]\n",
    "\n",
    "valid_x = torch.cat([torch.stack(v_threes).float()/255, torch.stack(v_sevens).float()/255]).view(-1, 28*28)\n",
    "valid_y = tensor([1.,0.]*len(v_threes) + [0., 1.]*len(v_sevens)).view(-1, 2)\n",
    "\n",
    "vl = DataLoader(list(zip(valid_x, valid_y)), batch_size=256)"
   ]
  },
  {
   "cell_type": "code",
   "execution_count": 686,
   "id": "5e7ff125",
   "metadata": {},
   "outputs": [],
   "source": [
    "dls = DataLoaders(tl, vl)"
   ]
  },
  {
   "cell_type": "code",
   "execution_count": 705,
   "id": "e106b357",
   "metadata": {},
   "outputs": [],
   "source": [
    "def validate_epoch(model):\n",
    "  acc = [batch_accuracy(model(xb), yb) for xb,yb in vl]\n",
    "  loss = [binary_cross_entropy(model(xb), yb) for xb,yb in vl]\n",
    "  return torch.stack(acc).mean(), torch.stack(loss).mean()"
   ]
  },
  {
   "cell_type": "code",
   "execution_count": 688,
   "id": "bfd82a9b",
   "metadata": {},
   "outputs": [],
   "source": [
    "def train(dl, model, params, lr=1e-3, num_epochs=5):\n",
    "  for i in range(num_epochs):\n",
    "    for xb, yb in dl:\n",
    "      step(xb, yb, model)\n",
    "      for p in params:\n",
    "        p.data -= p.grad * lr\n",
    "        p.grad.zero_()\n",
    "  \n",
    "    print(validate_epoch(model), end='\\n')\n",
    "  "
   ]
  },
  {
   "cell_type": "code",
   "execution_count": 690,
   "id": "65c14d01",
   "metadata": {},
   "outputs": [
    {
     "data": {
      "text/plain": [
       "(torch.Size([15, 784]), torch.Size([15, 2]))"
      ]
     },
     "execution_count": 690,
     "metadata": {},
     "output_type": "execute_result"
    }
   ],
   "source": [
    "xb, yb = tl.one_batch()\n",
    "xb.shape, yb.shape"
   ]
  },
  {
   "cell_type": "code",
   "execution_count": 692,
   "id": "558d7622",
   "metadata": {},
   "outputs": [
    {
     "data": {
      "text/plain": [
       "tensor([[  4.5735,   3.7344],\n",
       "        [  4.1176, -11.8216],\n",
       "        [  3.2663, -10.0291],\n",
       "        [  3.2561,  -4.0170],\n",
       "        [  0.6096,  -2.0676],\n",
       "        [  1.6932,  -1.5450],\n",
       "        [  8.8809, -16.2097],\n",
       "        [ 12.5846,  -6.5463],\n",
       "        [ 11.1319,  -7.3350],\n",
       "        [ 11.9663,  -3.2735],\n",
       "        [ -0.0646,  -3.6699],\n",
       "        [  2.9784,  -2.7221],\n",
       "        [  4.9295,  -7.9564],\n",
       "        [ -0.4258,  -5.9329],\n",
       "        [  6.0316,  -1.2440]], grad_fn=<AddBackward0>)"
      ]
     },
     "execution_count": 692,
     "metadata": {},
     "output_type": "execute_result"
    }
   ],
   "source": [
    "preds = linear(xb)\n",
    "preds"
   ]
  },
  {
   "cell_type": "code",
   "execution_count": 693,
   "id": "e94adcfe",
   "metadata": {},
   "outputs": [
    {
     "data": {
      "text/plain": [
       "tensor([[9.8978e-01, 9.7667e-01],\n",
       "        [9.8398e-01, 7.3441e-06],\n",
       "        [9.6326e-01, 4.4094e-05],\n",
       "        [9.6289e-01, 1.7688e-02],\n",
       "        [6.4784e-01, 1.1229e-01],\n",
       "        [8.4465e-01, 1.7581e-01],\n",
       "        [9.9986e-01, 9.1247e-08],\n",
       "        [1.0000e+00, 1.4334e-03],\n",
       "        [9.9999e-01, 6.5189e-04],\n",
       "        [9.9999e-01, 3.6493e-02],\n",
       "        [4.8385e-01, 2.4847e-02],\n",
       "        [9.5159e-01, 6.1682e-02],\n",
       "        [9.9282e-01, 3.5031e-04],\n",
       "        [3.9513e-01, 2.6438e-03],\n",
       "        [9.9760e-01, 2.2374e-01]], grad_fn=<SigmoidBackward0>)"
      ]
     },
     "execution_count": 693,
     "metadata": {},
     "output_type": "execute_result"
    }
   ],
   "source": [
    "preds = preds.sigmoid()\n",
    "preds"
   ]
  },
  {
   "cell_type": "code",
   "execution_count": 710,
   "id": "328d03ce",
   "metadata": {},
   "outputs": [],
   "source": [
    "w1 = init_params((28*28, 2))\n",
    "b1 = init_params(2)\n",
    "linear1 = partial(mk_linear, w1, b1)\n",
    "params = w1,b1"
   ]
  },
  {
   "cell_type": "code",
   "execution_count": 726,
   "id": "76b3e35e",
   "metadata": {},
   "outputs": [
    {
     "data": {
      "text/plain": [
       "tensor([1.0000])"
      ]
     },
     "execution_count": 726,
     "metadata": {},
     "output_type": "execute_result"
    }
   ],
   "source": [
    "torch.sigmoid(torch.tensor([15]))"
   ]
  },
  {
   "cell_type": "code",
   "execution_count": 706,
   "id": "c797dced",
   "metadata": {},
   "outputs": [
    {
     "name": "stdout",
     "output_type": "stream",
     "text": [
      "(tensor(0.5000), tensor(nan, grad_fn=<MeanBackward0>))\n",
      "(tensor(0.5000), tensor(nan, grad_fn=<MeanBackward0>))\n",
      "(tensor(0.5000), tensor(nan, grad_fn=<MeanBackward0>))\n",
      "(tensor(0.5000), tensor(nan, grad_fn=<MeanBackward0>))\n",
      "(tensor(0.5000), tensor(nan, grad_fn=<MeanBackward0>))\n"
     ]
    }
   ],
   "source": [
    "train(tl, linear1, params, num_epochs=5, lr=1.)"
   ]
  },
  {
   "cell_type": "code",
   "execution_count": 489,
   "id": "27950041",
   "metadata": {},
   "outputs": [
    {
     "data": {
      "text/plain": [
       "tensor(0.3000)"
      ]
     },
     "execution_count": 489,
     "metadata": {},
     "output_type": "execute_result"
    }
   ],
   "source": [
    "batch_accuracy(linear(xb), yb)"
   ]
  }
 ],
 "metadata": {
  "kernelspec": {
   "display_name": "fastai",
   "language": "python",
   "name": "python3"
  },
  "language_info": {
   "codemirror_mode": {
    "name": "ipython",
    "version": 3
   },
   "file_extension": ".py",
   "mimetype": "text/x-python",
   "name": "python",
   "nbconvert_exporter": "python",
   "pygments_lexer": "ipython3",
   "version": "3.9.13"
  },
  "vscode": {
   "interpreter": {
    "hash": "8868b0e47ad2d977ef6a70a1daecfc7182971b5999309f287656c1620744575c"
   }
  }
 },
 "nbformat": 4,
 "nbformat_minor": 5
}
