{
 "cells": [
  {
   "cell_type": "code",
   "execution_count": 15,
   "metadata": {},
   "outputs": [],
   "source": [
    "class Test:\n",
    "  def __init__(self, x, y):\n",
    "    self._x = x\n",
    "    self._y = y\n",
    "    \n",
    "  @property\n",
    "  def x(self):\n",
    "    return self._x\n",
    "  \n",
    "  @x.setter\n",
    "  def x(self, v):\n",
    "    self._x = v\n",
    "  \n",
    "  @property\n",
    "  def y(self):\n",
    "    return self._y\n",
    "  \n",
    "  @y.setter\n",
    "  def y(self, v):\n",
    "    self._y = 2**v\n",
    "  "
   ]
  },
  {
   "cell_type": "code",
   "execution_count": 16,
   "metadata": {},
   "outputs": [
    {
     "name": "stdout",
     "output_type": "stream",
     "text": [
      "2\n",
      "3\n"
     ]
    }
   ],
   "source": [
    "t = Test(2, 3)\n",
    "\n",
    "print(t.x)\n",
    "print(t.y)"
   ]
  },
  {
   "cell_type": "code",
   "execution_count": 17,
   "metadata": {},
   "outputs": [
    {
     "name": "stdout",
     "output_type": "stream",
     "text": [
      "4\n"
     ]
    }
   ],
   "source": [
    "t.x = 4\n",
    "\n",
    "print(t.x)"
   ]
  },
  {
   "cell_type": "code",
   "execution_count": 18,
   "metadata": {},
   "outputs": [
    {
     "name": "stdout",
     "output_type": "stream",
     "text": [
      "32\n"
     ]
    }
   ],
   "source": [
    "t.y = 5\n",
    "\n",
    "print(t.y)"
   ]
  }
 ],
 "metadata": {
  "kernelspec": {
   "display_name": "base",
   "language": "python",
   "name": "python3"
  },
  "language_info": {
   "codemirror_mode": {
    "name": "ipython",
    "version": 3
   },
   "file_extension": ".py",
   "mimetype": "text/x-python",
   "name": "python",
   "nbconvert_exporter": "python",
   "pygments_lexer": "ipython3",
   "version": "3.11.8"
  }
 },
 "nbformat": 4,
 "nbformat_minor": 2
}
