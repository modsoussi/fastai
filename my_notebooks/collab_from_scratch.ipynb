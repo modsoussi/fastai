{
 "cells": [
  {
   "cell_type": "code",
   "execution_count": 1,
   "metadata": {},
   "outputs": [],
   "source": [
    "from fastbook import untar_data, URLs, Learner, MSELossFlat\n",
    "import pandas as pd\n",
    "import torch\n",
    "import random\n",
    "import torch.nn.functional as F"
   ]
  },
  {
   "cell_type": "code",
   "execution_count": 2,
   "metadata": {},
   "outputs": [
    {
     "data": {
      "text/plain": [
       "(#23) [Path('/Users/modsoussi/.fastai/data/ml-100k/u.item'),Path('/Users/modsoussi/.fastai/data/ml-100k/u3.test'),Path('/Users/modsoussi/.fastai/data/ml-100k/u1.base'),Path('/Users/modsoussi/.fastai/data/ml-100k/u.info'),Path('/Users/modsoussi/.fastai/data/ml-100k/u2.test'),Path('/Users/modsoussi/.fastai/data/ml-100k/u5.test'),Path('/Users/modsoussi/.fastai/data/ml-100k/u.genre'),Path('/Users/modsoussi/.fastai/data/ml-100k/ub.test'),Path('/Users/modsoussi/.fastai/data/ml-100k/ua.base'),Path('/Users/modsoussi/.fastai/data/ml-100k/u.data')...]"
      ]
     },
     "execution_count": 2,
     "metadata": {},
     "output_type": "execute_result"
    }
   ],
   "source": [
    "path = untar_data(URLs.ML_100k)\n",
    "\n",
    "path.ls()"
   ]
  },
  {
   "cell_type": "code",
   "execution_count": 3,
   "metadata": {},
   "outputs": [
    {
     "data": {
      "text/html": [
       "<div>\n",
       "<style scoped>\n",
       "    .dataframe tbody tr th:only-of-type {\n",
       "        vertical-align: middle;\n",
       "    }\n",
       "\n",
       "    .dataframe tbody tr th {\n",
       "        vertical-align: top;\n",
       "    }\n",
       "\n",
       "    .dataframe thead th {\n",
       "        text-align: right;\n",
       "    }\n",
       "</style>\n",
       "<table border=\"1\" class=\"dataframe\">\n",
       "  <thead>\n",
       "    <tr style=\"text-align: right;\">\n",
       "      <th></th>\n",
       "      <th>user</th>\n",
       "      <th>movie</th>\n",
       "      <th>rating</th>\n",
       "      <th>timestamp</th>\n",
       "    </tr>\n",
       "  </thead>\n",
       "  <tbody>\n",
       "    <tr>\n",
       "      <th>0</th>\n",
       "      <td>196</td>\n",
       "      <td>242</td>\n",
       "      <td>3</td>\n",
       "      <td>881250949</td>\n",
       "    </tr>\n",
       "    <tr>\n",
       "      <th>1</th>\n",
       "      <td>186</td>\n",
       "      <td>302</td>\n",
       "      <td>3</td>\n",
       "      <td>891717742</td>\n",
       "    </tr>\n",
       "    <tr>\n",
       "      <th>2</th>\n",
       "      <td>22</td>\n",
       "      <td>377</td>\n",
       "      <td>1</td>\n",
       "      <td>878887116</td>\n",
       "    </tr>\n",
       "    <tr>\n",
       "      <th>3</th>\n",
       "      <td>244</td>\n",
       "      <td>51</td>\n",
       "      <td>2</td>\n",
       "      <td>880606923</td>\n",
       "    </tr>\n",
       "    <tr>\n",
       "      <th>4</th>\n",
       "      <td>166</td>\n",
       "      <td>346</td>\n",
       "      <td>1</td>\n",
       "      <td>886397596</td>\n",
       "    </tr>\n",
       "  </tbody>\n",
       "</table>\n",
       "</div>"
      ],
      "text/plain": [
       "   user  movie  rating  timestamp\n",
       "0   196    242       3  881250949\n",
       "1   186    302       3  891717742\n",
       "2    22    377       1  878887116\n",
       "3   244     51       2  880606923\n",
       "4   166    346       1  886397596"
      ]
     },
     "execution_count": 3,
     "metadata": {},
     "output_type": "execute_result"
    }
   ],
   "source": [
    "ratings = pd.read_csv(path/'u.data', delimiter='\\t', header=None, names=['user', 'movie', 'rating', 'timestamp'])\n",
    "\n",
    "ratings.head()"
   ]
  },
  {
   "cell_type": "code",
   "execution_count": 4,
   "metadata": {},
   "outputs": [
    {
     "data": {
      "text/html": [
       "<div>\n",
       "<style scoped>\n",
       "    .dataframe tbody tr th:only-of-type {\n",
       "        vertical-align: middle;\n",
       "    }\n",
       "\n",
       "    .dataframe tbody tr th {\n",
       "        vertical-align: top;\n",
       "    }\n",
       "\n",
       "    .dataframe thead th {\n",
       "        text-align: right;\n",
       "    }\n",
       "</style>\n",
       "<table border=\"1\" class=\"dataframe\">\n",
       "  <thead>\n",
       "    <tr style=\"text-align: right;\">\n",
       "      <th></th>\n",
       "      <th>movie</th>\n",
       "      <th>title</th>\n",
       "    </tr>\n",
       "  </thead>\n",
       "  <tbody>\n",
       "    <tr>\n",
       "      <th>0</th>\n",
       "      <td>1</td>\n",
       "      <td>Toy Story (1995)</td>\n",
       "    </tr>\n",
       "    <tr>\n",
       "      <th>1</th>\n",
       "      <td>2</td>\n",
       "      <td>GoldenEye (1995)</td>\n",
       "    </tr>\n",
       "    <tr>\n",
       "      <th>2</th>\n",
       "      <td>3</td>\n",
       "      <td>Four Rooms (1995)</td>\n",
       "    </tr>\n",
       "    <tr>\n",
       "      <th>3</th>\n",
       "      <td>4</td>\n",
       "      <td>Get Shorty (1995)</td>\n",
       "    </tr>\n",
       "    <tr>\n",
       "      <th>4</th>\n",
       "      <td>5</td>\n",
       "      <td>Copycat (1995)</td>\n",
       "    </tr>\n",
       "  </tbody>\n",
       "</table>\n",
       "</div>"
      ],
      "text/plain": [
       "   movie              title\n",
       "0      1   Toy Story (1995)\n",
       "1      2   GoldenEye (1995)\n",
       "2      3  Four Rooms (1995)\n",
       "3      4  Get Shorty (1995)\n",
       "4      5     Copycat (1995)"
      ]
     },
     "execution_count": 4,
     "metadata": {},
     "output_type": "execute_result"
    }
   ],
   "source": [
    "movies = pd.read_csv(path/'u.item', delimiter='|', header=None, names=['movie', 'title'], encoding='latin-1', usecols=(0,1))\n",
    "\n",
    "movies.head()"
   ]
  },
  {
   "cell_type": "code",
   "execution_count": 5,
   "metadata": {},
   "outputs": [
    {
     "data": {
      "text/html": [
       "<div>\n",
       "<style scoped>\n",
       "    .dataframe tbody tr th:only-of-type {\n",
       "        vertical-align: middle;\n",
       "    }\n",
       "\n",
       "    .dataframe tbody tr th {\n",
       "        vertical-align: top;\n",
       "    }\n",
       "\n",
       "    .dataframe thead th {\n",
       "        text-align: right;\n",
       "    }\n",
       "</style>\n",
       "<table border=\"1\" class=\"dataframe\">\n",
       "  <thead>\n",
       "    <tr style=\"text-align: right;\">\n",
       "      <th></th>\n",
       "      <th>user</th>\n",
       "      <th>movie</th>\n",
       "      <th>rating</th>\n",
       "      <th>timestamp</th>\n",
       "      <th>title</th>\n",
       "    </tr>\n",
       "  </thead>\n",
       "  <tbody>\n",
       "    <tr>\n",
       "      <th>0</th>\n",
       "      <td>196</td>\n",
       "      <td>242</td>\n",
       "      <td>3</td>\n",
       "      <td>881250949</td>\n",
       "      <td>Kolya (1996)</td>\n",
       "    </tr>\n",
       "    <tr>\n",
       "      <th>1</th>\n",
       "      <td>63</td>\n",
       "      <td>242</td>\n",
       "      <td>3</td>\n",
       "      <td>875747190</td>\n",
       "      <td>Kolya (1996)</td>\n",
       "    </tr>\n",
       "    <tr>\n",
       "      <th>2</th>\n",
       "      <td>226</td>\n",
       "      <td>242</td>\n",
       "      <td>5</td>\n",
       "      <td>883888671</td>\n",
       "      <td>Kolya (1996)</td>\n",
       "    </tr>\n",
       "    <tr>\n",
       "      <th>3</th>\n",
       "      <td>154</td>\n",
       "      <td>242</td>\n",
       "      <td>3</td>\n",
       "      <td>879138235</td>\n",
       "      <td>Kolya (1996)</td>\n",
       "    </tr>\n",
       "    <tr>\n",
       "      <th>4</th>\n",
       "      <td>306</td>\n",
       "      <td>242</td>\n",
       "      <td>5</td>\n",
       "      <td>876503793</td>\n",
       "      <td>Kolya (1996)</td>\n",
       "    </tr>\n",
       "  </tbody>\n",
       "</table>\n",
       "</div>"
      ],
      "text/plain": [
       "   user  movie  rating  timestamp         title\n",
       "0   196    242       3  881250949  Kolya (1996)\n",
       "1    63    242       3  875747190  Kolya (1996)\n",
       "2   226    242       5  883888671  Kolya (1996)\n",
       "3   154    242       3  879138235  Kolya (1996)\n",
       "4   306    242       5  876503793  Kolya (1996)"
      ]
     },
     "execution_count": 5,
     "metadata": {},
     "output_type": "execute_result"
    }
   ],
   "source": [
    "ratings = ratings.merge(movies)\n",
    "ratings.head()"
   ]
  },
  {
   "cell_type": "code",
   "execution_count": 6,
   "metadata": {},
   "outputs": [
    {
     "data": {
      "text/html": [
       "<div>\n",
       "<style scoped>\n",
       "    .dataframe tbody tr th:only-of-type {\n",
       "        vertical-align: middle;\n",
       "    }\n",
       "\n",
       "    .dataframe tbody tr th {\n",
       "        vertical-align: top;\n",
       "    }\n",
       "\n",
       "    .dataframe thead th {\n",
       "        text-align: right;\n",
       "    }\n",
       "</style>\n",
       "<table border=\"1\" class=\"dataframe\">\n",
       "  <thead>\n",
       "    <tr style=\"text-align: right;\">\n",
       "      <th></th>\n",
       "      <th>movie</th>\n",
       "      <th>title</th>\n",
       "    </tr>\n",
       "  </thead>\n",
       "  <tbody>\n",
       "    <tr>\n",
       "      <th>267</th>\n",
       "      <td>268</td>\n",
       "      <td>Chasing Amy (1997)</td>\n",
       "    </tr>\n",
       "    <tr>\n",
       "      <th>302</th>\n",
       "      <td>303</td>\n",
       "      <td>Ulee's Gold (1997)</td>\n",
       "    </tr>\n",
       "    <tr>\n",
       "      <th>347</th>\n",
       "      <td>348</td>\n",
       "      <td>Desperate Measures (1998)</td>\n",
       "    </tr>\n",
       "    <tr>\n",
       "      <th>499</th>\n",
       "      <td>500</td>\n",
       "      <td>Fly Away Home (1996)</td>\n",
       "    </tr>\n",
       "    <tr>\n",
       "      <th>669</th>\n",
       "      <td>670</td>\n",
       "      <td>Body Snatchers (1993)</td>\n",
       "    </tr>\n",
       "    <tr>\n",
       "      <th>679</th>\n",
       "      <td>680</td>\n",
       "      <td>Kull the Conqueror (1997)</td>\n",
       "    </tr>\n",
       "    <tr>\n",
       "      <th>864</th>\n",
       "      <td>865</td>\n",
       "      <td>Ice Storm, The (1997)</td>\n",
       "    </tr>\n",
       "    <tr>\n",
       "      <th>880</th>\n",
       "      <td>881</td>\n",
       "      <td>Money Talks (1997)</td>\n",
       "    </tr>\n",
       "    <tr>\n",
       "      <th>1002</th>\n",
       "      <td>1003</td>\n",
       "      <td>That Darn Cat! (1997)</td>\n",
       "    </tr>\n",
       "    <tr>\n",
       "      <th>1256</th>\n",
       "      <td>1257</td>\n",
       "      <td>Designated Mourner, The (1997)</td>\n",
       "    </tr>\n",
       "    <tr>\n",
       "      <th>1605</th>\n",
       "      <td>1606</td>\n",
       "      <td>Deceiver (1997)</td>\n",
       "    </tr>\n",
       "    <tr>\n",
       "      <th>1606</th>\n",
       "      <td>1607</td>\n",
       "      <td>Hurricane Streets (1998)</td>\n",
       "    </tr>\n",
       "    <tr>\n",
       "      <th>1616</th>\n",
       "      <td>1617</td>\n",
       "      <td>Hugo Pool (1997)</td>\n",
       "    </tr>\n",
       "    <tr>\n",
       "      <th>1624</th>\n",
       "      <td>1625</td>\n",
       "      <td>Nightwatch (1997)</td>\n",
       "    </tr>\n",
       "    <tr>\n",
       "      <th>1649</th>\n",
       "      <td>1650</td>\n",
       "      <td>Butcher Boy, The (1998)</td>\n",
       "    </tr>\n",
       "    <tr>\n",
       "      <th>1653</th>\n",
       "      <td>1654</td>\n",
       "      <td>Chairman of the Board (1998)</td>\n",
       "    </tr>\n",
       "    <tr>\n",
       "      <th>1657</th>\n",
       "      <td>1658</td>\n",
       "      <td>Substance of Fire, The (1996)</td>\n",
       "    </tr>\n",
       "    <tr>\n",
       "      <th>1679</th>\n",
       "      <td>1680</td>\n",
       "      <td>Sliding Doors (1998)</td>\n",
       "    </tr>\n",
       "  </tbody>\n",
       "</table>\n",
       "</div>"
      ],
      "text/plain": [
       "      movie                           title\n",
       "267     268              Chasing Amy (1997)\n",
       "302     303              Ulee's Gold (1997)\n",
       "347     348       Desperate Measures (1998)\n",
       "499     500            Fly Away Home (1996)\n",
       "669     670           Body Snatchers (1993)\n",
       "679     680       Kull the Conqueror (1997)\n",
       "864     865           Ice Storm, The (1997)\n",
       "880     881              Money Talks (1997)\n",
       "1002   1003           That Darn Cat! (1997)\n",
       "1256   1257  Designated Mourner, The (1997)\n",
       "1605   1606                 Deceiver (1997)\n",
       "1606   1607        Hurricane Streets (1998)\n",
       "1616   1617                Hugo Pool (1997)\n",
       "1624   1625               Nightwatch (1997)\n",
       "1649   1650         Butcher Boy, The (1998)\n",
       "1653   1654    Chairman of the Board (1998)\n",
       "1657   1658   Substance of Fire, The (1996)\n",
       "1679   1680            Sliding Doors (1998)"
      ]
     },
     "execution_count": 6,
     "metadata": {},
     "output_type": "execute_result"
    }
   ],
   "source": [
    "movies[movies['title'].duplicated()]"
   ]
  },
  {
   "cell_type": "code",
   "execution_count": 7,
   "metadata": {},
   "outputs": [],
   "source": [
    "class CollabBase(torch.nn.Module):\n",
    "  def __init__(self, n_users, n_items, n_factors=50) -> None:\n",
    "    super().__init__()\n",
    "    \n",
    "    self.user_embs = torch.nn.Embedding(n_users, n_factors)\n",
    "    self.item_embs = torch.nn.Embedding(n_items, n_factors)\n",
    "    \n",
    "  def forward(self, x) -> None:\n",
    "    users = self.user_embs(x[:, 0])\n",
    "    items = self.item_embs(x[:, 1])\n",
    "    \n",
    "    return (users*items).sum(dim=1, keepdim=True)"
   ]
  },
  {
   "cell_type": "code",
   "execution_count": 8,
   "metadata": {},
   "outputs": [
    {
     "data": {
      "text/plain": [
       "(944, 1683)"
      ]
     },
     "execution_count": 8,
     "metadata": {},
     "output_type": "execute_result"
    }
   ],
   "source": [
    "n_users = ratings['user'].unique().size + 1\n",
    "n_movies = movies['movie'].unique().size + 1\n",
    "\n",
    "n_users, n_movies"
   ]
  },
  {
   "cell_type": "code",
   "execution_count": 9,
   "metadata": {},
   "outputs": [],
   "source": [
    "collab_base_model = CollabBase(n_users, n_movies, n_factors=5)"
   ]
  },
  {
   "cell_type": "code",
   "execution_count": 10,
   "metadata": {},
   "outputs": [],
   "source": [
    "train_x = torch.tensor(ratings[['user','movie']].to_numpy())\n",
    "train_y = torch.tensor(ratings['rating'].to_numpy(), dtype=torch.float32).reshape(100000, 1)"
   ]
  },
  {
   "cell_type": "code",
   "execution_count": 11,
   "metadata": {},
   "outputs": [
    {
     "data": {
      "text/plain": [
       "tensor([[196, 242],\n",
       "        [ 63, 242],\n",
       "        [226, 242],\n",
       "        [154, 242],\n",
       "        [306, 242]])"
      ]
     },
     "execution_count": 11,
     "metadata": {},
     "output_type": "execute_result"
    }
   ],
   "source": [
    "train_x[:5]"
   ]
  },
  {
   "cell_type": "code",
   "execution_count": 12,
   "metadata": {},
   "outputs": [
    {
     "data": {
      "text/plain": [
       "tensor([[3.],\n",
       "        [3.],\n",
       "        [5.],\n",
       "        [3.],\n",
       "        [5.]])"
      ]
     },
     "execution_count": 12,
     "metadata": {},
     "output_type": "execute_result"
    }
   ],
   "source": [
    "train_y[:5]"
   ]
  },
  {
   "cell_type": "code",
   "execution_count": 13,
   "metadata": {},
   "outputs": [
    {
     "data": {
      "text/plain": [
       "tensor([[-1.3344],\n",
       "        [ 0.7741],\n",
       "        [ 1.9214],\n",
       "        [ 1.7741],\n",
       "        [ 5.5323]], grad_fn=<SliceBackward0>)"
      ]
     },
     "execution_count": 13,
     "metadata": {},
     "output_type": "execute_result"
    }
   ],
   "source": [
    "preds = collab_base_model(train_x)\n",
    "\n",
    "preds[:5]"
   ]
  },
  {
   "cell_type": "code",
   "execution_count": 14,
   "metadata": {},
   "outputs": [],
   "source": [
    "def loss_fn(preds: torch.torch.torch.Tensor, acts: torch.Tensor):\n",
    "  return ((preds-acts)**2).mean()"
   ]
  },
  {
   "cell_type": "code",
   "execution_count": 15,
   "metadata": {},
   "outputs": [
    {
     "data": {
      "text/plain": [
       "tensor(18.7232, grad_fn=<MeanBackward0>)"
      ]
     },
     "execution_count": 15,
     "metadata": {},
     "output_type": "execute_result"
    }
   ],
   "source": [
    "loss = loss_fn(preds, train_y)\n",
    "loss"
   ]
  },
  {
   "cell_type": "code",
   "execution_count": 16,
   "metadata": {},
   "outputs": [],
   "source": [
    "loss.backward()"
   ]
  },
  {
   "cell_type": "code",
   "execution_count": 17,
   "metadata": {},
   "outputs": [
    {
     "name": "stdout",
     "output_type": "stream",
     "text": [
      "tensor([[ 0.0000,  0.0000,  0.0000,  0.0000,  0.0000],\n",
      "        [-0.0073, -0.0022, -0.0078, -0.0069,  0.0067],\n",
      "        [-0.0014, -0.0011, -0.0014, -0.0008, -0.0006],\n",
      "        ...,\n",
      "        [-0.0008,  0.0003,  0.0002,  0.0005, -0.0005],\n",
      "        [-0.0020,  0.0018, -0.0004, -0.0024, -0.0015],\n",
      "        [ 0.0127, -0.0021, -0.0049,  0.0041, -0.0030]])\n",
      "tensor([[ 0.0000e+00,  0.0000e+00,  0.0000e+00,  0.0000e+00,  0.0000e+00],\n",
      "        [ 1.4865e-02,  1.0719e-02, -3.9424e-03, -3.0932e-02,  2.1619e-02],\n",
      "        [ 8.4124e-04, -4.0043e-04,  1.1712e-03, -4.1002e-03,  5.1003e-04],\n",
      "        ...,\n",
      "        [-1.0124e-05, -2.4185e-05,  1.4304e-06,  1.4304e-05, -1.3315e-05],\n",
      "        [-2.9709e-05, -1.3993e-06,  6.2898e-05,  3.3715e-05,  5.3659e-06],\n",
      "        [ 6.0848e-05,  5.2527e-05, -1.4601e-04,  3.7800e-05,  4.8249e-06]])\n"
     ]
    }
   ],
   "source": [
    "for p in collab_base_model.parameters():\n",
    "  print(p.grad)"
   ]
  },
  {
   "cell_type": "code",
   "execution_count": 18,
   "metadata": {},
   "outputs": [],
   "source": [
    "def calculate_norm(model: torch.nn.Module):\n",
    "  total_norm = 0\n",
    "  for p in model.parameters():\n",
    "    p_norm = p.grad.data.norm(2)\n",
    "    total_norm += p_norm.item()**2\n",
    "\n",
    "  return total_norm**(1./2)"
   ]
  },
  {
   "cell_type": "code",
   "execution_count": 19,
   "metadata": {},
   "outputs": [
    {
     "data": {
      "text/plain": [
       "0.2892694744365496"
      ]
     },
     "execution_count": 19,
     "metadata": {},
     "output_type": "execute_result"
    }
   ],
   "source": [
    "norm = calculate_norm(collab_base_model)\n",
    "norm"
   ]
  },
  {
   "cell_type": "code",
   "execution_count": 20,
   "metadata": {},
   "outputs": [],
   "source": [
    "batch_x = train_x[:64]\n",
    "batch_y = train_y[:64]"
   ]
  },
  {
   "cell_type": "code",
   "execution_count": 21,
   "metadata": {},
   "outputs": [
    {
     "data": {
      "text/plain": [
       "7.739633367014832"
      ]
     },
     "execution_count": 21,
     "metadata": {},
     "output_type": "execute_result"
    }
   ],
   "source": [
    "preds = collab_base_model(batch_x)\n",
    "loss = loss_fn(preds, batch_y)\n",
    "\n",
    "for p in collab_base_model.parameters():\n",
    "  p.grad.zero_()\n",
    "  \n",
    "loss.backward()\n",
    "\n",
    "total_norm = calculate_norm(collab_base_model)\n",
    "total_norm"
   ]
  },
  {
   "cell_type": "code",
   "execution_count": 22,
   "metadata": {},
   "outputs": [
    {
     "name": "stdout",
     "output_type": "stream",
     "text": [
      "tensor([[ 0.0000e+00,  0.0000e+00,  0.0000e+00,  0.0000e+00,  0.0000e+00],\n",
      "        [-8.4278e-04,  3.5593e-01, -4.0464e-01,  1.9867e-01,  1.9077e-01],\n",
      "        [-3.2935e-04,  1.3909e-01, -1.5813e-01,  7.7637e-02,  7.4551e-02],\n",
      "        ...,\n",
      "        [ 0.0000e+00,  0.0000e+00,  0.0000e+00,  0.0000e+00,  0.0000e+00],\n",
      "        [ 0.0000e+00,  0.0000e+00,  0.0000e+00,  0.0000e+00,  0.0000e+00],\n",
      "        [ 0.0000e+00,  0.0000e+00,  0.0000e+00,  0.0000e+00,  0.0000e+00]])\n",
      "tensor([[0., 0., 0., 0., 0.],\n",
      "        [0., 0., 0., 0., 0.],\n",
      "        [0., 0., 0., 0., 0.],\n",
      "        ...,\n",
      "        [0., 0., 0., 0., 0.],\n",
      "        [0., 0., 0., 0., 0.],\n",
      "        [0., 0., 0., 0., 0.]])\n"
     ]
    }
   ],
   "source": [
    "for p in collab_base_model.parameters():\n",
    "  print(p.grad.data)"
   ]
  },
  {
   "cell_type": "code",
   "execution_count": 23,
   "metadata": {},
   "outputs": [],
   "source": [
    "import torch.utils.data as data\n",
    "\n",
    "def train(model: torch.nn.Module, train_x: torch.Tensor, train_y: torch.Tensor, n_epochs=5, lr=.1, loss_fn=F.mse_loss): \n",
    "  if torch.backends.mps.is_available() and torch.backends.mps.is_built():\n",
    "    model.to('mps')\n",
    "    x = train_x.to('mps')\n",
    "    y = train_y.to('mps')\n",
    "  \n",
    "  dataset = data.TensorDataset(x,y)\n",
    "  \n",
    "  train_size = round(.8 * len(x))\n",
    "  valid_size = len(x) - train_size\n",
    "  train_set, validation_set = data.random_split(dataset, [train_size, valid_size])\n",
    "  \n",
    "  t_loader = data.DataLoader(train_set, 64, True)\n",
    "  v_loader = data.DataLoader(validation_set, 64, True)\n",
    "  \n",
    "  optimizer = torch.optim.SGD(model.parameters(), lr=lr)\n",
    "  for i in range(n_epochs):\n",
    "    model.train()\n",
    "    t_loss = 0.0\n",
    "    for xb, yb in t_loader:\n",
    "      optimizer.zero_grad()\n",
    "      preds = model(xb)\n",
    "      loss = loss_fn(preds, yb)\n",
    "      loss.backward()\n",
    "      optimizer.step()\n",
    "      t_loss += loss.item()\n",
    "    \n",
    "    t_loss /= len(t_loader)\n",
    "    \n",
    "    model.eval()\n",
    "    v_loss = 0.0\n",
    "    with torch.no_grad():\n",
    "      for vbx, vby in v_loader:\n",
    "        preds = model(vbx)\n",
    "        loss = loss_fn(preds, vby)\n",
    "        v_loss += loss.item()\n",
    "      \n",
    "    v_loss /= len(v_loader)\n",
    "    \n",
    "    print(f\"t_loss: {t_loss} - v_loss: {v_loss}\")\n",
    "    \n",
    "  model.cpu()"
   ]
  },
  {
   "cell_type": "code",
   "execution_count": 24,
   "metadata": {},
   "outputs": [
    {
     "name": "stdout",
     "output_type": "stream",
     "text": [
      "t_loss: 50.46656357879639 - v_loss: 38.44492514369587\n",
      "t_loss: 26.66637059173584 - v_loss: 29.74944227419722\n",
      "t_loss: 17.401744944000246 - v_loss: 23.87759691610123\n",
      "t_loss: 11.715404865264892 - v_loss: 19.51360463639037\n",
      "t_loss: 8.20644040813446 - v_loss: 16.521111908812113\n"
     ]
    }
   ],
   "source": [
    "test_model = CollabBase(n_users, n_movies, n_factors=50)\n",
    "\n",
    "train(test_model, train_x, train_y, lr=5e-2, loss_fn=F.mse_loss)"
   ]
  },
  {
   "cell_type": "code",
   "execution_count": 25,
   "metadata": {},
   "outputs": [],
   "source": [
    "class CollabBaseWithSigmoid(torch.nn.Module):\n",
    "  def __init__(self, n_users, n_items, n_factors=50, y_range=(0, 5.5)) -> None:\n",
    "    super().__init__()\n",
    "    \n",
    "    self.user_embs = torch.nn.Parameter(torch.zeros((n_users, n_factors)).normal_(0, .1))\n",
    "    self.item_embs = torch.nn.Parameter(torch.zeros((n_items, n_factors)).normal_(0, .1))\n",
    "    self.y_range = y_range\n",
    "    \n",
    "  def forward(self, x):\n",
    "    users = self.user_embs[x[:,0]]\n",
    "    items = self.item_embs[x[:, 1]]\n",
    "    \n",
    "    return F.sigmoid((users*items).sum(dim=1, keepdim=True))*(self.y_range[1]-self.y_range[0])+self.y_range[0]\n",
    "    "
   ]
  },
  {
   "cell_type": "code",
   "execution_count": 26,
   "metadata": {},
   "outputs": [],
   "source": [
    "test_model = CollabBaseWithSigmoid(n_users, n_movies)\n",
    "\n",
    "# train(test_model, train_x=train_x, train_y=train_y, lr=.1)\n",
    "preds = test_model(train_x)\n",
    "loss = F.mse_loss(preds, train_y)\n",
    "loss.backward()"
   ]
  },
  {
   "cell_type": "code",
   "execution_count": 27,
   "metadata": {},
   "outputs": [
    {
     "data": {
      "text/plain": [
       "tensor([[2.6456],\n",
       "        [2.7745],\n",
       "        [2.7752],\n",
       "        [2.6335],\n",
       "        [2.7593]], grad_fn=<SliceBackward0>)"
      ]
     },
     "execution_count": 27,
     "metadata": {},
     "output_type": "execute_result"
    }
   ],
   "source": [
    "preds[:5]"
   ]
  },
  {
   "cell_type": "code",
   "execution_count": 28,
   "metadata": {},
   "outputs": [
    {
     "name": "stdout",
     "output_type": "stream",
     "text": [
      "tensor([[ 0.0000e+00,  0.0000e+00,  0.0000e+00,  ...,  0.0000e+00,  0.0000e+00,  0.0000e+00],\n",
      "        [ 9.7796e-05, -4.2377e-07,  7.7484e-05,  ..., -4.3495e-06, -1.7913e-05,  1.0256e-04],\n",
      "        [-7.1929e-06, -1.0483e-05, -3.7816e-05,  ..., -3.6810e-05,  1.1849e-05,  2.1148e-05],\n",
      "        ...,\n",
      "        [ 1.2515e-05,  2.3932e-05,  2.9909e-05,  ...,  1.9447e-05,  1.5321e-06,  5.3283e-06],\n",
      "        [ 8.6231e-05,  1.2214e-04,  4.4610e-05,  ...,  2.7586e-05,  3.8811e-05,  6.3183e-05],\n",
      "        [-1.9674e-05, -1.8895e-05,  7.4104e-05,  ...,  1.0754e-05,  3.4789e-05,  8.6842e-05]])\n",
      "tensor([[ 0.0000e+00,  0.0000e+00,  0.0000e+00,  ...,  0.0000e+00,  0.0000e+00,  0.0000e+00],\n",
      "        [-3.4450e-05, -1.0641e-04,  1.8842e-04,  ..., -5.7897e-05, -5.4989e-05,  3.6645e-05],\n",
      "        [-1.5647e-05, -9.0353e-05,  1.7989e-05,  ..., -1.9558e-05,  3.2111e-05, -3.6920e-05],\n",
      "        ...,\n",
      "        [ 9.4734e-07, -2.8883e-06,  1.0318e-06,  ..., -1.5823e-07, -4.7661e-07,  2.8141e-06],\n",
      "        [ 9.5175e-07,  4.0479e-07,  3.6886e-08,  ...,  1.0650e-06,  1.2085e-07, -1.4175e-07],\n",
      "        [ 3.0112e-07,  7.5950e-07, -8.6656e-07,  ...,  2.3217e-07,  5.3445e-08, -4.5285e-07]])\n"
     ]
    }
   ],
   "source": [
    "for p in test_model.parameters():\n",
    "  print(p.grad)"
   ]
  },
  {
   "cell_type": "code",
   "execution_count": 29,
   "metadata": {},
   "outputs": [
    {
     "name": "stdout",
     "output_type": "stream",
     "text": [
      "t_loss: 1.8300450504302979 - v_loss: 1.5779079076961968\n",
      "t_loss: 1.1365788624763489 - v_loss: 1.021278975108942\n",
      "t_loss: 0.846741133570671 - v_loss: 0.9377202035520024\n",
      "t_loss: 0.7149230295658111 - v_loss: 0.9106605795625681\n",
      "t_loss: 0.6072116451025009 - v_loss: 0.9065401087553737\n"
     ]
    }
   ],
   "source": [
    "test_model = CollabBaseWithSigmoid(n_users, n_movies)\n",
    "\n",
    "train(test_model, train_x=train_x, train_y=train_y, lr=5e-1, loss_fn=F.mse_loss)"
   ]
  },
  {
   "cell_type": "code",
   "execution_count": 30,
   "metadata": {},
   "outputs": [],
   "source": [
    "class CollabWithBias(torch.nn.Module):\n",
    "  def __init__(self, n_users, n_items, n_factors=50, y_range=(0,5.5)) -> None:\n",
    "    super().__init__()\n",
    "    \n",
    "    self.user_embs = torch.nn.Embedding(n_users, n_factors)\n",
    "    torch.nn.init.normal_(self.user_embs.weight, 0, .01)\n",
    "    self.user_bias = torch.nn.Embedding(n_users, 1)\n",
    "    \n",
    "    self.item_embs = torch.nn.Embedding(n_items, n_factors)\n",
    "    torch.nn.init.normal_(self.item_embs.weight, 0, .01)\n",
    "    self.item_bias = torch.nn.Embedding(n_items, 1)\n",
    "    \n",
    "    self.y_range = y_range\n",
    "    \n",
    "  def forward(self, x) -> torch.Tensor:\n",
    "    users = self.user_embs(x[:, 0])\n",
    "    user_bias = self.user_bias(x[:, 0])\n",
    "    \n",
    "    items = self.item_embs(x[:, 1])\n",
    "    item_bias = self.item_bias(x[:, 1])\n",
    "    \n",
    "    interaction = (users * items).sum(dim=1, keepdim=True)\n",
    "    interaction += user_bias + item_bias\n",
    "    \n",
    "    return F.sigmoid(interaction)*(self.y_range[1]-self.y_range[0]) + self.y_range[0]"
   ]
  },
  {
   "cell_type": "code",
   "execution_count": 44,
   "metadata": {},
   "outputs": [
    {
     "name": "stdout",
     "output_type": "stream",
     "text": [
      "t_loss: 1.8312298466205597 - v_loss: 1.2133067789169165\n",
      "t_loss: 1.0614158685684205 - v_loss: 1.0165401398183438\n",
      "t_loss: 0.951414764380455 - v_loss: 0.9597420681018037\n",
      "t_loss: 0.9107702457904816 - v_loss: 0.9326923681905095\n",
      "t_loss: 0.8879174856424331 - v_loss: 0.9156102808519674\n",
      "t_loss: 0.8676264120340347 - v_loss: 0.9057484817581055\n",
      "t_loss: 0.8402435035467147 - v_loss: 0.8888898429017478\n",
      "t_loss: 0.7985725289583206 - v_loss: 0.8730977329964074\n",
      "t_loss: 0.7466523096084595 - v_loss: 0.8583371600213523\n",
      "t_loss: 0.6865726365566254 - v_loss: 0.8503905149123159\n"
     ]
    }
   ],
   "source": [
    "test_model = CollabWithBias(n_users, n_movies)\n",
    "\n",
    "train(test_model, train_x=train_x, train_y=train_y, loss_fn=F.mse_loss, lr=5e-1, n_epochs=10)"
   ]
  },
  {
   "cell_type": "code",
   "execution_count": 49,
   "metadata": {},
   "outputs": [
    {
     "data": {
      "text/plain": [
       "tensor([ 0.3024,  0.6112,  0.0833,  ..., -0.4262, -0.2575, -0.9572], grad_fn=<SqueezeBackward0>)"
      ]
     },
     "execution_count": 49,
     "metadata": {},
     "output_type": "execute_result"
    }
   ],
   "source": [
    "movie_bias = test_model.item_bias.weight.squeeze()\n",
    "movie_bias"
   ]
  },
  {
   "cell_type": "code",
   "execution_count": 50,
   "metadata": {},
   "outputs": [
    {
     "data": {
      "text/plain": [
       "['Sudden Manhattan (1996)',\n",
       " 'Spanish Prisoner, The (1997)',\n",
       " 'Here Comes Cookie (1935)',\n",
       " 'Ripe (1996)',\n",
       " 'Best of the Best 3: No Turning Back (1995)']"
      ]
     },
     "execution_count": 50,
     "metadata": {},
     "output_type": "execute_result"
    }
   ],
   "source": [
    "idx = movie_bias.argsort()[:5].tolist()\n",
    "\n",
    "[movies['title'][i-1] for i in idx]"
   ]
  },
  {
   "cell_type": "code",
   "execution_count": 51,
   "metadata": {},
   "outputs": [
    {
     "data": {
      "text/plain": [
       "(tensor([[4.0402],\n",
       "         [3.7093],\n",
       "         [4.0906],\n",
       "         [3.8935],\n",
       "         [4.2333]], grad_fn=<AddBackward0>),\n",
       " tensor([[3.],\n",
       "         [3.],\n",
       "         [5.],\n",
       "         [3.],\n",
       "         [5.]]))"
      ]
     },
     "execution_count": 51,
     "metadata": {},
     "output_type": "execute_result"
    }
   ],
   "source": [
    "test_model(train_x[:5]), train_y[:5]"
   ]
  },
  {
   "cell_type": "code",
   "execution_count": 52,
   "metadata": {},
   "outputs": [
    {
     "name": "stdout",
     "output_type": "stream",
     "text": [
      "tensor(0.4675)\n"
     ]
    }
   ],
   "source": [
    "with torch.no_grad():\n",
    "  print(F.mse_loss(test_model(train_x[:10]), train_y[:10]))"
   ]
  }
 ],
 "metadata": {
  "kernelspec": {
   "display_name": "fastai",
   "language": "python",
   "name": "python3"
  },
  "language_info": {
   "codemirror_mode": {
    "name": "ipython",
    "version": 3
   },
   "file_extension": ".py",
   "mimetype": "text/x-python",
   "name": "python",
   "nbconvert_exporter": "python",
   "pygments_lexer": "ipython3",
   "version": "3.11.7"
  }
 },
 "nbformat": 4,
 "nbformat_minor": 2
}
