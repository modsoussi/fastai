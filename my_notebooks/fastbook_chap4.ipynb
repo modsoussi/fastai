{
 "cells": [
  {
   "cell_type": "code",
   "execution_count": 84,
   "metadata": {},
   "outputs": [],
   "source": [
    "import torch\n",
    "from fastbook import *\n",
    "import matplotlib\n",
    "\n",
    "matplotlib.rc('image', cmap='Greys')"
   ]
  },
  {
   "cell_type": "code",
   "execution_count": 85,
   "metadata": {},
   "outputs": [],
   "source": [
    "path = untar_data(URLs.MNIST_SAMPLE)"
   ]
  },
  {
   "cell_type": "code",
   "execution_count": 86,
   "metadata": {},
   "outputs": [],
   "source": [
    "Path.BASE_PATH = path"
   ]
  },
  {
   "cell_type": "code",
   "execution_count": 87,
   "metadata": {},
   "outputs": [
    {
     "data": {
      "text/plain": [
       "(#3) [Path('valid'),Path('labels.csv'),Path('train')]"
      ]
     },
     "execution_count": 87,
     "metadata": {},
     "output_type": "execute_result"
    }
   ],
   "source": [
    "path.ls()"
   ]
  },
  {
   "cell_type": "code",
   "execution_count": 88,
   "metadata": {},
   "outputs": [
    {
     "data": {
      "text/plain": [
       "(#2) [Path('train/7'),Path('train/3')]"
      ]
     },
     "execution_count": 88,
     "metadata": {},
     "output_type": "execute_result"
    }
   ],
   "source": [
    "(path/'train').ls()"
   ]
  },
  {
   "cell_type": "code",
   "execution_count": 89,
   "metadata": {},
   "outputs": [],
   "source": [
    "threes = (path/'train'/'3').ls().sorted()\n",
    "sevens = (path/'train'/'7').ls().sorted()"
   ]
  },
  {
   "cell_type": "code",
   "execution_count": 90,
   "metadata": {},
   "outputs": [],
   "source": [
    "threes_tensor = [tensor(Image.open(o), device='mps') for o in threes]\n",
    "sevens_tensor = [tensor(Image.open(o), device='mps') for o in sevens]"
   ]
  },
  {
   "cell_type": "code",
   "execution_count": 91,
   "metadata": {},
   "outputs": [
    {
     "data": {
      "text/html": [
       "<style type=\"text/css\">\n",
       "#T_86c22_row0_col0, #T_86c22_row0_col1, #T_86c22_row0_col2, #T_86c22_row0_col3, #T_86c22_row0_col4, #T_86c22_row0_col5, #T_86c22_row0_col6, #T_86c22_row0_col10, #T_86c22_row0_col11, #T_86c22_row0_col12, #T_86c22_row0_col13, #T_86c22_row0_col14, #T_86c22_row0_col15, #T_86c22_row0_col16, #T_86c22_row0_col17, #T_86c22_row1_col0, #T_86c22_row1_col1, #T_86c22_row1_col2, #T_86c22_row1_col3, #T_86c22_row1_col4, #T_86c22_row1_col5, #T_86c22_row1_col14, #T_86c22_row1_col15, #T_86c22_row1_col16, #T_86c22_row1_col17, #T_86c22_row2_col0, #T_86c22_row2_col1, #T_86c22_row2_col2, #T_86c22_row2_col3, #T_86c22_row2_col4, #T_86c22_row2_col5, #T_86c22_row2_col15, #T_86c22_row2_col16, #T_86c22_row2_col17, #T_86c22_row3_col0, #T_86c22_row3_col1, #T_86c22_row3_col2, #T_86c22_row3_col3, #T_86c22_row3_col4, #T_86c22_row3_col5, #T_86c22_row3_col6, #T_86c22_row3_col15, #T_86c22_row3_col16, #T_86c22_row3_col17, #T_86c22_row4_col0, #T_86c22_row4_col1, #T_86c22_row4_col2, #T_86c22_row4_col3, #T_86c22_row4_col4, #T_86c22_row4_col5, #T_86c22_row4_col6, #T_86c22_row4_col7, #T_86c22_row4_col15, #T_86c22_row4_col16, #T_86c22_row4_col17, #T_86c22_row5_col0, #T_86c22_row5_col1, #T_86c22_row5_col2, #T_86c22_row5_col3, #T_86c22_row5_col4, #T_86c22_row5_col5, #T_86c22_row5_col6, #T_86c22_row5_col7, #T_86c22_row5_col15, #T_86c22_row5_col16, #T_86c22_row5_col17, #T_86c22_row6_col0, #T_86c22_row6_col1, #T_86c22_row6_col2, #T_86c22_row6_col3, #T_86c22_row6_col4, #T_86c22_row6_col5, #T_86c22_row6_col6, #T_86c22_row6_col7, #T_86c22_row6_col8, #T_86c22_row6_col9, #T_86c22_row6_col15, #T_86c22_row6_col16, #T_86c22_row6_col17, #T_86c22_row7_col0, #T_86c22_row7_col1, #T_86c22_row7_col2, #T_86c22_row7_col3, #T_86c22_row7_col4, #T_86c22_row7_col5, #T_86c22_row7_col6, #T_86c22_row7_col7, #T_86c22_row7_col15, #T_86c22_row7_col16, #T_86c22_row7_col17, #T_86c22_row8_col0, #T_86c22_row8_col1, #T_86c22_row8_col2, #T_86c22_row8_col3, #T_86c22_row8_col4, #T_86c22_row8_col5, #T_86c22_row8_col15, #T_86c22_row8_col16, #T_86c22_row8_col17, #T_86c22_row9_col0, #T_86c22_row9_col1, #T_86c22_row9_col2, #T_86c22_row9_col3, #T_86c22_row9_col4, #T_86c22_row9_col5, #T_86c22_row9_col15, #T_86c22_row9_col16, #T_86c22_row9_col17, #T_86c22_row10_col0, #T_86c22_row10_col1, #T_86c22_row10_col2, #T_86c22_row10_col3, #T_86c22_row10_col4, #T_86c22_row10_col5, #T_86c22_row10_col6, #T_86c22_row10_col15, #T_86c22_row10_col16, #T_86c22_row10_col17 {\n",
       "  font-size: 6pt;\n",
       "  background-color: #ffffff;\n",
       "  color: #000000;\n",
       "}\n",
       "#T_86c22_row0_col7 {\n",
       "  font-size: 6pt;\n",
       "  background-color: #e8e8e8;\n",
       "  color: #000000;\n",
       "}\n",
       "#T_86c22_row0_col8 {\n",
       "  font-size: 6pt;\n",
       "  background-color: #a2a2a2;\n",
       "  color: #f1f1f1;\n",
       "}\n",
       "#T_86c22_row0_col9 {\n",
       "  font-size: 6pt;\n",
       "  background-color: #2e2e2e;\n",
       "  color: #f1f1f1;\n",
       "}\n",
       "#T_86c22_row1_col6, #T_86c22_row1_col8, #T_86c22_row1_col9, #T_86c22_row1_col10, #T_86c22_row1_col11, #T_86c22_row1_col12, #T_86c22_row2_col8, #T_86c22_row2_col9, #T_86c22_row2_col10, #T_86c22_row2_col11, #T_86c22_row2_col12, #T_86c22_row3_col9, #T_86c22_row3_col11, #T_86c22_row3_col12, #T_86c22_row3_col13, #T_86c22_row4_col9, #T_86c22_row4_col11, #T_86c22_row4_col12, #T_86c22_row4_col13, #T_86c22_row5_col10, #T_86c22_row5_col11, #T_86c22_row5_col12, #T_86c22_row5_col13, #T_86c22_row6_col11, #T_86c22_row6_col12, #T_86c22_row6_col13, #T_86c22_row6_col14, #T_86c22_row7_col11, #T_86c22_row7_col12, #T_86c22_row7_col13, #T_86c22_row8_col9, #T_86c22_row8_col10, #T_86c22_row8_col11, #T_86c22_row8_col12, #T_86c22_row8_col13, #T_86c22_row9_col7, #T_86c22_row9_col8, #T_86c22_row9_col9, #T_86c22_row9_col10, #T_86c22_row9_col11, #T_86c22_row9_col12, #T_86c22_row9_col13, #T_86c22_row10_col9, #T_86c22_row10_col10, #T_86c22_row10_col11, #T_86c22_row10_col12, #T_86c22_row10_col13, #T_86c22_row10_col14 {\n",
       "  font-size: 6pt;\n",
       "  background-color: #000000;\n",
       "  color: #f1f1f1;\n",
       "}\n",
       "#T_86c22_row1_col7 {\n",
       "  font-size: 6pt;\n",
       "  background-color: #060606;\n",
       "  color: #f1f1f1;\n",
       "}\n",
       "#T_86c22_row1_col13, #T_86c22_row5_col14 {\n",
       "  font-size: 6pt;\n",
       "  background-color: #dbdbdb;\n",
       "  color: #000000;\n",
       "}\n",
       "#T_86c22_row2_col6 {\n",
       "  font-size: 6pt;\n",
       "  background-color: #e7e7e7;\n",
       "  color: #000000;\n",
       "}\n",
       "#T_86c22_row2_col7 {\n",
       "  font-size: 6pt;\n",
       "  background-color: #111111;\n",
       "  color: #f1f1f1;\n",
       "}\n",
       "#T_86c22_row2_col13 {\n",
       "  font-size: 6pt;\n",
       "  background-color: #131313;\n",
       "  color: #f1f1f1;\n",
       "}\n",
       "#T_86c22_row2_col14 {\n",
       "  font-size: 6pt;\n",
       "  background-color: #b3b3b3;\n",
       "  color: #000000;\n",
       "}\n",
       "#T_86c22_row3_col7 {\n",
       "  font-size: 6pt;\n",
       "  background-color: #afafaf;\n",
       "  color: #000000;\n",
       "}\n",
       "#T_86c22_row3_col8 {\n",
       "  font-size: 6pt;\n",
       "  background-color: #0c0c0c;\n",
       "  color: #f1f1f1;\n",
       "}\n",
       "#T_86c22_row3_col10 {\n",
       "  font-size: 6pt;\n",
       "  background-color: #6a6a6a;\n",
       "  color: #f1f1f1;\n",
       "}\n",
       "#T_86c22_row3_col14 {\n",
       "  font-size: 6pt;\n",
       "  background-color: #363636;\n",
       "  color: #f1f1f1;\n",
       "}\n",
       "#T_86c22_row4_col8 {\n",
       "  font-size: 6pt;\n",
       "  background-color: #3a3a3a;\n",
       "  color: #f1f1f1;\n",
       "}\n",
       "#T_86c22_row4_col10 {\n",
       "  font-size: 6pt;\n",
       "  background-color: #959595;\n",
       "  color: #f1f1f1;\n",
       "}\n",
       "#T_86c22_row4_col14, #T_86c22_row8_col14 {\n",
       "  font-size: 6pt;\n",
       "  background-color: #e3e3e3;\n",
       "  color: #000000;\n",
       "}\n",
       "#T_86c22_row5_col8 {\n",
       "  font-size: 6pt;\n",
       "  background-color: #c7c7c7;\n",
       "  color: #000000;\n",
       "}\n",
       "#T_86c22_row5_col9 {\n",
       "  font-size: 6pt;\n",
       "  background-color: #434343;\n",
       "  color: #f1f1f1;\n",
       "}\n",
       "#T_86c22_row6_col10, #T_86c22_row7_col9 {\n",
       "  font-size: 6pt;\n",
       "  background-color: #999999;\n",
       "  color: #f1f1f1;\n",
       "}\n",
       "#T_86c22_row7_col8 {\n",
       "  font-size: 6pt;\n",
       "  background-color: #c1c1c1;\n",
       "  color: #000000;\n",
       "}\n",
       "#T_86c22_row7_col10 {\n",
       "  font-size: 6pt;\n",
       "  background-color: #020202;\n",
       "  color: #f1f1f1;\n",
       "}\n",
       "#T_86c22_row7_col14 {\n",
       "  font-size: 6pt;\n",
       "  background-color: #6b6b6b;\n",
       "  color: #f1f1f1;\n",
       "}\n",
       "#T_86c22_row8_col6 {\n",
       "  font-size: 6pt;\n",
       "  background-color: #b9b9b9;\n",
       "  color: #000000;\n",
       "}\n",
       "#T_86c22_row8_col7 {\n",
       "  font-size: 6pt;\n",
       "  background-color: #282828;\n",
       "  color: #f1f1f1;\n",
       "}\n",
       "#T_86c22_row8_col8 {\n",
       "  font-size: 6pt;\n",
       "  background-color: #050505;\n",
       "  color: #f1f1f1;\n",
       "}\n",
       "#T_86c22_row9_col6 {\n",
       "  font-size: 6pt;\n",
       "  background-color: #444444;\n",
       "  color: #f1f1f1;\n",
       "}\n",
       "#T_86c22_row9_col14 {\n",
       "  font-size: 6pt;\n",
       "  background-color: #2c2c2c;\n",
       "  color: #f1f1f1;\n",
       "}\n",
       "#T_86c22_row10_col7 {\n",
       "  font-size: 6pt;\n",
       "  background-color: #a7a7a7;\n",
       "  color: #f1f1f1;\n",
       "}\n",
       "#T_86c22_row10_col8 {\n",
       "  font-size: 6pt;\n",
       "  background-color: #090909;\n",
       "  color: #f1f1f1;\n",
       "}\n",
       "</style>\n",
       "<table id=\"T_86c22\">\n",
       "  <thead>\n",
       "    <tr>\n",
       "      <th class=\"blank level0\" >&nbsp;</th>\n",
       "      <th id=\"T_86c22_level0_col0\" class=\"col_heading level0 col0\" >0</th>\n",
       "      <th id=\"T_86c22_level0_col1\" class=\"col_heading level0 col1\" >1</th>\n",
       "      <th id=\"T_86c22_level0_col2\" class=\"col_heading level0 col2\" >2</th>\n",
       "      <th id=\"T_86c22_level0_col3\" class=\"col_heading level0 col3\" >3</th>\n",
       "      <th id=\"T_86c22_level0_col4\" class=\"col_heading level0 col4\" >4</th>\n",
       "      <th id=\"T_86c22_level0_col5\" class=\"col_heading level0 col5\" >5</th>\n",
       "      <th id=\"T_86c22_level0_col6\" class=\"col_heading level0 col6\" >6</th>\n",
       "      <th id=\"T_86c22_level0_col7\" class=\"col_heading level0 col7\" >7</th>\n",
       "      <th id=\"T_86c22_level0_col8\" class=\"col_heading level0 col8\" >8</th>\n",
       "      <th id=\"T_86c22_level0_col9\" class=\"col_heading level0 col9\" >9</th>\n",
       "      <th id=\"T_86c22_level0_col10\" class=\"col_heading level0 col10\" >10</th>\n",
       "      <th id=\"T_86c22_level0_col11\" class=\"col_heading level0 col11\" >11</th>\n",
       "      <th id=\"T_86c22_level0_col12\" class=\"col_heading level0 col12\" >12</th>\n",
       "      <th id=\"T_86c22_level0_col13\" class=\"col_heading level0 col13\" >13</th>\n",
       "      <th id=\"T_86c22_level0_col14\" class=\"col_heading level0 col14\" >14</th>\n",
       "      <th id=\"T_86c22_level0_col15\" class=\"col_heading level0 col15\" >15</th>\n",
       "      <th id=\"T_86c22_level0_col16\" class=\"col_heading level0 col16\" >16</th>\n",
       "      <th id=\"T_86c22_level0_col17\" class=\"col_heading level0 col17\" >17</th>\n",
       "    </tr>\n",
       "  </thead>\n",
       "  <tbody>\n",
       "    <tr>\n",
       "      <th id=\"T_86c22_level0_row0\" class=\"row_heading level0 row0\" >0</th>\n",
       "      <td id=\"T_86c22_row0_col0\" class=\"data row0 col0\" >0</td>\n",
       "      <td id=\"T_86c22_row0_col1\" class=\"data row0 col1\" >0</td>\n",
       "      <td id=\"T_86c22_row0_col2\" class=\"data row0 col2\" >0</td>\n",
       "      <td id=\"T_86c22_row0_col3\" class=\"data row0 col3\" >0</td>\n",
       "      <td id=\"T_86c22_row0_col4\" class=\"data row0 col4\" >0</td>\n",
       "      <td id=\"T_86c22_row0_col5\" class=\"data row0 col5\" >0</td>\n",
       "      <td id=\"T_86c22_row0_col6\" class=\"data row0 col6\" >0</td>\n",
       "      <td id=\"T_86c22_row0_col7\" class=\"data row0 col7\" >42</td>\n",
       "      <td id=\"T_86c22_row0_col8\" class=\"data row0 col8\" >118</td>\n",
       "      <td id=\"T_86c22_row0_col9\" class=\"data row0 col9\" >219</td>\n",
       "      <td id=\"T_86c22_row0_col10\" class=\"data row0 col10\" >166</td>\n",
       "      <td id=\"T_86c22_row0_col11\" class=\"data row0 col11\" >118</td>\n",
       "      <td id=\"T_86c22_row0_col12\" class=\"data row0 col12\" >118</td>\n",
       "      <td id=\"T_86c22_row0_col13\" class=\"data row0 col13\" >6</td>\n",
       "      <td id=\"T_86c22_row0_col14\" class=\"data row0 col14\" >0</td>\n",
       "      <td id=\"T_86c22_row0_col15\" class=\"data row0 col15\" >0</td>\n",
       "      <td id=\"T_86c22_row0_col16\" class=\"data row0 col16\" >0</td>\n",
       "      <td id=\"T_86c22_row0_col17\" class=\"data row0 col17\" >0</td>\n",
       "    </tr>\n",
       "    <tr>\n",
       "      <th id=\"T_86c22_level0_row1\" class=\"row_heading level0 row1\" >1</th>\n",
       "      <td id=\"T_86c22_row1_col0\" class=\"data row1 col0\" >0</td>\n",
       "      <td id=\"T_86c22_row1_col1\" class=\"data row1 col1\" >0</td>\n",
       "      <td id=\"T_86c22_row1_col2\" class=\"data row1 col2\" >0</td>\n",
       "      <td id=\"T_86c22_row1_col3\" class=\"data row1 col3\" >0</td>\n",
       "      <td id=\"T_86c22_row1_col4\" class=\"data row1 col4\" >0</td>\n",
       "      <td id=\"T_86c22_row1_col5\" class=\"data row1 col5\" >0</td>\n",
       "      <td id=\"T_86c22_row1_col6\" class=\"data row1 col6\" >103</td>\n",
       "      <td id=\"T_86c22_row1_col7\" class=\"data row1 col7\" >242</td>\n",
       "      <td id=\"T_86c22_row1_col8\" class=\"data row1 col8\" >254</td>\n",
       "      <td id=\"T_86c22_row1_col9\" class=\"data row1 col9\" >254</td>\n",
       "      <td id=\"T_86c22_row1_col10\" class=\"data row1 col10\" >254</td>\n",
       "      <td id=\"T_86c22_row1_col11\" class=\"data row1 col11\" >254</td>\n",
       "      <td id=\"T_86c22_row1_col12\" class=\"data row1 col12\" >254</td>\n",
       "      <td id=\"T_86c22_row1_col13\" class=\"data row1 col13\" >66</td>\n",
       "      <td id=\"T_86c22_row1_col14\" class=\"data row1 col14\" >0</td>\n",
       "      <td id=\"T_86c22_row1_col15\" class=\"data row1 col15\" >0</td>\n",
       "      <td id=\"T_86c22_row1_col16\" class=\"data row1 col16\" >0</td>\n",
       "      <td id=\"T_86c22_row1_col17\" class=\"data row1 col17\" >0</td>\n",
       "    </tr>\n",
       "    <tr>\n",
       "      <th id=\"T_86c22_level0_row2\" class=\"row_heading level0 row2\" >2</th>\n",
       "      <td id=\"T_86c22_row2_col0\" class=\"data row2 col0\" >0</td>\n",
       "      <td id=\"T_86c22_row2_col1\" class=\"data row2 col1\" >0</td>\n",
       "      <td id=\"T_86c22_row2_col2\" class=\"data row2 col2\" >0</td>\n",
       "      <td id=\"T_86c22_row2_col3\" class=\"data row2 col3\" >0</td>\n",
       "      <td id=\"T_86c22_row2_col4\" class=\"data row2 col4\" >0</td>\n",
       "      <td id=\"T_86c22_row2_col5\" class=\"data row2 col5\" >0</td>\n",
       "      <td id=\"T_86c22_row2_col6\" class=\"data row2 col6\" >18</td>\n",
       "      <td id=\"T_86c22_row2_col7\" class=\"data row2 col7\" >232</td>\n",
       "      <td id=\"T_86c22_row2_col8\" class=\"data row2 col8\" >254</td>\n",
       "      <td id=\"T_86c22_row2_col9\" class=\"data row2 col9\" >254</td>\n",
       "      <td id=\"T_86c22_row2_col10\" class=\"data row2 col10\" >254</td>\n",
       "      <td id=\"T_86c22_row2_col11\" class=\"data row2 col11\" >254</td>\n",
       "      <td id=\"T_86c22_row2_col12\" class=\"data row2 col12\" >254</td>\n",
       "      <td id=\"T_86c22_row2_col13\" class=\"data row2 col13\" >238</td>\n",
       "      <td id=\"T_86c22_row2_col14\" class=\"data row2 col14\" >70</td>\n",
       "      <td id=\"T_86c22_row2_col15\" class=\"data row2 col15\" >0</td>\n",
       "      <td id=\"T_86c22_row2_col16\" class=\"data row2 col16\" >0</td>\n",
       "      <td id=\"T_86c22_row2_col17\" class=\"data row2 col17\" >0</td>\n",
       "    </tr>\n",
       "    <tr>\n",
       "      <th id=\"T_86c22_level0_row3\" class=\"row_heading level0 row3\" >3</th>\n",
       "      <td id=\"T_86c22_row3_col0\" class=\"data row3 col0\" >0</td>\n",
       "      <td id=\"T_86c22_row3_col1\" class=\"data row3 col1\" >0</td>\n",
       "      <td id=\"T_86c22_row3_col2\" class=\"data row3 col2\" >0</td>\n",
       "      <td id=\"T_86c22_row3_col3\" class=\"data row3 col3\" >0</td>\n",
       "      <td id=\"T_86c22_row3_col4\" class=\"data row3 col4\" >0</td>\n",
       "      <td id=\"T_86c22_row3_col5\" class=\"data row3 col5\" >0</td>\n",
       "      <td id=\"T_86c22_row3_col6\" class=\"data row3 col6\" >0</td>\n",
       "      <td id=\"T_86c22_row3_col7\" class=\"data row3 col7\" >104</td>\n",
       "      <td id=\"T_86c22_row3_col8\" class=\"data row3 col8\" >244</td>\n",
       "      <td id=\"T_86c22_row3_col9\" class=\"data row3 col9\" >254</td>\n",
       "      <td id=\"T_86c22_row3_col10\" class=\"data row3 col10\" >224</td>\n",
       "      <td id=\"T_86c22_row3_col11\" class=\"data row3 col11\" >254</td>\n",
       "      <td id=\"T_86c22_row3_col12\" class=\"data row3 col12\" >254</td>\n",
       "      <td id=\"T_86c22_row3_col13\" class=\"data row3 col13\" >254</td>\n",
       "      <td id=\"T_86c22_row3_col14\" class=\"data row3 col14\" >141</td>\n",
       "      <td id=\"T_86c22_row3_col15\" class=\"data row3 col15\" >0</td>\n",
       "      <td id=\"T_86c22_row3_col16\" class=\"data row3 col16\" >0</td>\n",
       "      <td id=\"T_86c22_row3_col17\" class=\"data row3 col17\" >0</td>\n",
       "    </tr>\n",
       "    <tr>\n",
       "      <th id=\"T_86c22_level0_row4\" class=\"row_heading level0 row4\" >4</th>\n",
       "      <td id=\"T_86c22_row4_col0\" class=\"data row4 col0\" >0</td>\n",
       "      <td id=\"T_86c22_row4_col1\" class=\"data row4 col1\" >0</td>\n",
       "      <td id=\"T_86c22_row4_col2\" class=\"data row4 col2\" >0</td>\n",
       "      <td id=\"T_86c22_row4_col3\" class=\"data row4 col3\" >0</td>\n",
       "      <td id=\"T_86c22_row4_col4\" class=\"data row4 col4\" >0</td>\n",
       "      <td id=\"T_86c22_row4_col5\" class=\"data row4 col5\" >0</td>\n",
       "      <td id=\"T_86c22_row4_col6\" class=\"data row4 col6\" >0</td>\n",
       "      <td id=\"T_86c22_row4_col7\" class=\"data row4 col7\" >0</td>\n",
       "      <td id=\"T_86c22_row4_col8\" class=\"data row4 col8\" >207</td>\n",
       "      <td id=\"T_86c22_row4_col9\" class=\"data row4 col9\" >254</td>\n",
       "      <td id=\"T_86c22_row4_col10\" class=\"data row4 col10\" >210</td>\n",
       "      <td id=\"T_86c22_row4_col11\" class=\"data row4 col11\" >254</td>\n",
       "      <td id=\"T_86c22_row4_col12\" class=\"data row4 col12\" >254</td>\n",
       "      <td id=\"T_86c22_row4_col13\" class=\"data row4 col13\" >254</td>\n",
       "      <td id=\"T_86c22_row4_col14\" class=\"data row4 col14\" >34</td>\n",
       "      <td id=\"T_86c22_row4_col15\" class=\"data row4 col15\" >0</td>\n",
       "      <td id=\"T_86c22_row4_col16\" class=\"data row4 col16\" >0</td>\n",
       "      <td id=\"T_86c22_row4_col17\" class=\"data row4 col17\" >0</td>\n",
       "    </tr>\n",
       "    <tr>\n",
       "      <th id=\"T_86c22_level0_row5\" class=\"row_heading level0 row5\" >5</th>\n",
       "      <td id=\"T_86c22_row5_col0\" class=\"data row5 col0\" >0</td>\n",
       "      <td id=\"T_86c22_row5_col1\" class=\"data row5 col1\" >0</td>\n",
       "      <td id=\"T_86c22_row5_col2\" class=\"data row5 col2\" >0</td>\n",
       "      <td id=\"T_86c22_row5_col3\" class=\"data row5 col3\" >0</td>\n",
       "      <td id=\"T_86c22_row5_col4\" class=\"data row5 col4\" >0</td>\n",
       "      <td id=\"T_86c22_row5_col5\" class=\"data row5 col5\" >0</td>\n",
       "      <td id=\"T_86c22_row5_col6\" class=\"data row5 col6\" >0</td>\n",
       "      <td id=\"T_86c22_row5_col7\" class=\"data row5 col7\" >0</td>\n",
       "      <td id=\"T_86c22_row5_col8\" class=\"data row5 col8\" >84</td>\n",
       "      <td id=\"T_86c22_row5_col9\" class=\"data row5 col9\" >206</td>\n",
       "      <td id=\"T_86c22_row5_col10\" class=\"data row5 col10\" >254</td>\n",
       "      <td id=\"T_86c22_row5_col11\" class=\"data row5 col11\" >254</td>\n",
       "      <td id=\"T_86c22_row5_col12\" class=\"data row5 col12\" >254</td>\n",
       "      <td id=\"T_86c22_row5_col13\" class=\"data row5 col13\" >254</td>\n",
       "      <td id=\"T_86c22_row5_col14\" class=\"data row5 col14\" >41</td>\n",
       "      <td id=\"T_86c22_row5_col15\" class=\"data row5 col15\" >0</td>\n",
       "      <td id=\"T_86c22_row5_col16\" class=\"data row5 col16\" >0</td>\n",
       "      <td id=\"T_86c22_row5_col17\" class=\"data row5 col17\" >0</td>\n",
       "    </tr>\n",
       "    <tr>\n",
       "      <th id=\"T_86c22_level0_row6\" class=\"row_heading level0 row6\" >6</th>\n",
       "      <td id=\"T_86c22_row6_col0\" class=\"data row6 col0\" >0</td>\n",
       "      <td id=\"T_86c22_row6_col1\" class=\"data row6 col1\" >0</td>\n",
       "      <td id=\"T_86c22_row6_col2\" class=\"data row6 col2\" >0</td>\n",
       "      <td id=\"T_86c22_row6_col3\" class=\"data row6 col3\" >0</td>\n",
       "      <td id=\"T_86c22_row6_col4\" class=\"data row6 col4\" >0</td>\n",
       "      <td id=\"T_86c22_row6_col5\" class=\"data row6 col5\" >0</td>\n",
       "      <td id=\"T_86c22_row6_col6\" class=\"data row6 col6\" >0</td>\n",
       "      <td id=\"T_86c22_row6_col7\" class=\"data row6 col7\" >0</td>\n",
       "      <td id=\"T_86c22_row6_col8\" class=\"data row6 col8\" >0</td>\n",
       "      <td id=\"T_86c22_row6_col9\" class=\"data row6 col9\" >24</td>\n",
       "      <td id=\"T_86c22_row6_col10\" class=\"data row6 col10\" >209</td>\n",
       "      <td id=\"T_86c22_row6_col11\" class=\"data row6 col11\" >254</td>\n",
       "      <td id=\"T_86c22_row6_col12\" class=\"data row6 col12\" >254</td>\n",
       "      <td id=\"T_86c22_row6_col13\" class=\"data row6 col13\" >254</td>\n",
       "      <td id=\"T_86c22_row6_col14\" class=\"data row6 col14\" >171</td>\n",
       "      <td id=\"T_86c22_row6_col15\" class=\"data row6 col15\" >0</td>\n",
       "      <td id=\"T_86c22_row6_col16\" class=\"data row6 col16\" >0</td>\n",
       "      <td id=\"T_86c22_row6_col17\" class=\"data row6 col17\" >0</td>\n",
       "    </tr>\n",
       "    <tr>\n",
       "      <th id=\"T_86c22_level0_row7\" class=\"row_heading level0 row7\" >7</th>\n",
       "      <td id=\"T_86c22_row7_col0\" class=\"data row7 col0\" >0</td>\n",
       "      <td id=\"T_86c22_row7_col1\" class=\"data row7 col1\" >0</td>\n",
       "      <td id=\"T_86c22_row7_col2\" class=\"data row7 col2\" >0</td>\n",
       "      <td id=\"T_86c22_row7_col3\" class=\"data row7 col3\" >0</td>\n",
       "      <td id=\"T_86c22_row7_col4\" class=\"data row7 col4\" >0</td>\n",
       "      <td id=\"T_86c22_row7_col5\" class=\"data row7 col5\" >0</td>\n",
       "      <td id=\"T_86c22_row7_col6\" class=\"data row7 col6\" >0</td>\n",
       "      <td id=\"T_86c22_row7_col7\" class=\"data row7 col7\" >0</td>\n",
       "      <td id=\"T_86c22_row7_col8\" class=\"data row7 col8\" >91</td>\n",
       "      <td id=\"T_86c22_row7_col9\" class=\"data row7 col9\" >137</td>\n",
       "      <td id=\"T_86c22_row7_col10\" class=\"data row7 col10\" >253</td>\n",
       "      <td id=\"T_86c22_row7_col11\" class=\"data row7 col11\" >254</td>\n",
       "      <td id=\"T_86c22_row7_col12\" class=\"data row7 col12\" >254</td>\n",
       "      <td id=\"T_86c22_row7_col13\" class=\"data row7 col13\" >254</td>\n",
       "      <td id=\"T_86c22_row7_col14\" class=\"data row7 col14\" >112</td>\n",
       "      <td id=\"T_86c22_row7_col15\" class=\"data row7 col15\" >0</td>\n",
       "      <td id=\"T_86c22_row7_col16\" class=\"data row7 col16\" >0</td>\n",
       "      <td id=\"T_86c22_row7_col17\" class=\"data row7 col17\" >0</td>\n",
       "    </tr>\n",
       "    <tr>\n",
       "      <th id=\"T_86c22_level0_row8\" class=\"row_heading level0 row8\" >8</th>\n",
       "      <td id=\"T_86c22_row8_col0\" class=\"data row8 col0\" >0</td>\n",
       "      <td id=\"T_86c22_row8_col1\" class=\"data row8 col1\" >0</td>\n",
       "      <td id=\"T_86c22_row8_col2\" class=\"data row8 col2\" >0</td>\n",
       "      <td id=\"T_86c22_row8_col3\" class=\"data row8 col3\" >0</td>\n",
       "      <td id=\"T_86c22_row8_col4\" class=\"data row8 col4\" >0</td>\n",
       "      <td id=\"T_86c22_row8_col5\" class=\"data row8 col5\" >0</td>\n",
       "      <td id=\"T_86c22_row8_col6\" class=\"data row8 col6\" >40</td>\n",
       "      <td id=\"T_86c22_row8_col7\" class=\"data row8 col7\" >214</td>\n",
       "      <td id=\"T_86c22_row8_col8\" class=\"data row8 col8\" >250</td>\n",
       "      <td id=\"T_86c22_row8_col9\" class=\"data row8 col9\" >254</td>\n",
       "      <td id=\"T_86c22_row8_col10\" class=\"data row8 col10\" >254</td>\n",
       "      <td id=\"T_86c22_row8_col11\" class=\"data row8 col11\" >254</td>\n",
       "      <td id=\"T_86c22_row8_col12\" class=\"data row8 col12\" >254</td>\n",
       "      <td id=\"T_86c22_row8_col13\" class=\"data row8 col13\" >254</td>\n",
       "      <td id=\"T_86c22_row8_col14\" class=\"data row8 col14\" >34</td>\n",
       "      <td id=\"T_86c22_row8_col15\" class=\"data row8 col15\" >0</td>\n",
       "      <td id=\"T_86c22_row8_col16\" class=\"data row8 col16\" >0</td>\n",
       "      <td id=\"T_86c22_row8_col17\" class=\"data row8 col17\" >0</td>\n",
       "    </tr>\n",
       "    <tr>\n",
       "      <th id=\"T_86c22_level0_row9\" class=\"row_heading level0 row9\" >9</th>\n",
       "      <td id=\"T_86c22_row9_col0\" class=\"data row9 col0\" >0</td>\n",
       "      <td id=\"T_86c22_row9_col1\" class=\"data row9 col1\" >0</td>\n",
       "      <td id=\"T_86c22_row9_col2\" class=\"data row9 col2\" >0</td>\n",
       "      <td id=\"T_86c22_row9_col3\" class=\"data row9 col3\" >0</td>\n",
       "      <td id=\"T_86c22_row9_col4\" class=\"data row9 col4\" >0</td>\n",
       "      <td id=\"T_86c22_row9_col5\" class=\"data row9 col5\" >0</td>\n",
       "      <td id=\"T_86c22_row9_col6\" class=\"data row9 col6\" >81</td>\n",
       "      <td id=\"T_86c22_row9_col7\" class=\"data row9 col7\" >247</td>\n",
       "      <td id=\"T_86c22_row9_col8\" class=\"data row9 col8\" >254</td>\n",
       "      <td id=\"T_86c22_row9_col9\" class=\"data row9 col9\" >254</td>\n",
       "      <td id=\"T_86c22_row9_col10\" class=\"data row9 col10\" >254</td>\n",
       "      <td id=\"T_86c22_row9_col11\" class=\"data row9 col11\" >254</td>\n",
       "      <td id=\"T_86c22_row9_col12\" class=\"data row9 col12\" >254</td>\n",
       "      <td id=\"T_86c22_row9_col13\" class=\"data row9 col13\" >254</td>\n",
       "      <td id=\"T_86c22_row9_col14\" class=\"data row9 col14\" >146</td>\n",
       "      <td id=\"T_86c22_row9_col15\" class=\"data row9 col15\" >0</td>\n",
       "      <td id=\"T_86c22_row9_col16\" class=\"data row9 col16\" >0</td>\n",
       "      <td id=\"T_86c22_row9_col17\" class=\"data row9 col17\" >0</td>\n",
       "    </tr>\n",
       "    <tr>\n",
       "      <th id=\"T_86c22_level0_row10\" class=\"row_heading level0 row10\" >10</th>\n",
       "      <td id=\"T_86c22_row10_col0\" class=\"data row10 col0\" >0</td>\n",
       "      <td id=\"T_86c22_row10_col1\" class=\"data row10 col1\" >0</td>\n",
       "      <td id=\"T_86c22_row10_col2\" class=\"data row10 col2\" >0</td>\n",
       "      <td id=\"T_86c22_row10_col3\" class=\"data row10 col3\" >0</td>\n",
       "      <td id=\"T_86c22_row10_col4\" class=\"data row10 col4\" >0</td>\n",
       "      <td id=\"T_86c22_row10_col5\" class=\"data row10 col5\" >0</td>\n",
       "      <td id=\"T_86c22_row10_col6\" class=\"data row10 col6\" >0</td>\n",
       "      <td id=\"T_86c22_row10_col7\" class=\"data row10 col7\" >110</td>\n",
       "      <td id=\"T_86c22_row10_col8\" class=\"data row10 col8\" >246</td>\n",
       "      <td id=\"T_86c22_row10_col9\" class=\"data row10 col9\" >254</td>\n",
       "      <td id=\"T_86c22_row10_col10\" class=\"data row10 col10\" >254</td>\n",
       "      <td id=\"T_86c22_row10_col11\" class=\"data row10 col11\" >254</td>\n",
       "      <td id=\"T_86c22_row10_col12\" class=\"data row10 col12\" >254</td>\n",
       "      <td id=\"T_86c22_row10_col13\" class=\"data row10 col13\" >254</td>\n",
       "      <td id=\"T_86c22_row10_col14\" class=\"data row10 col14\" >171</td>\n",
       "      <td id=\"T_86c22_row10_col15\" class=\"data row10 col15\" >0</td>\n",
       "      <td id=\"T_86c22_row10_col16\" class=\"data row10 col16\" >0</td>\n",
       "      <td id=\"T_86c22_row10_col17\" class=\"data row10 col17\" >0</td>\n",
       "    </tr>\n",
       "  </tbody>\n",
       "</table>\n"
      ],
      "text/plain": [
       "<pandas.io.formats.style.Styler at 0x1042fbfd0>"
      ]
     },
     "execution_count": 91,
     "metadata": {},
     "output_type": "execute_result"
    }
   ],
   "source": [
    "img_3 = threes_tensor[0]\n",
    "df = pd.DataFrame(img_3[4:15, 4:22])\n",
    "df.style.set_properties(**{'font-size': '6pt'}).background_gradient('Greys')"
   ]
  },
  {
   "cell_type": "code",
   "execution_count": 92,
   "metadata": {},
   "outputs": [
    {
     "data": {
      "text/plain": [
       "torch.Size([6131, 28, 28])"
      ]
     },
     "execution_count": 92,
     "metadata": {},
     "output_type": "execute_result"
    }
   ],
   "source": [
    "stacked_threes = torch.stack(threes_tensor).float()/255\n",
    "stacked_sevens = torch.stack(sevens_tensor).float()/255\n",
    "stacked_threes.shape"
   ]
  },
  {
   "cell_type": "code",
   "execution_count": 93,
   "metadata": {},
   "outputs": [
    {
     "data": {
      "text/plain": [
       "torch.Size([12396, 784])"
      ]
     },
     "execution_count": 93,
     "metadata": {},
     "output_type": "execute_result"
    }
   ],
   "source": [
    "train_x = torch.cat([stacked_threes, stacked_sevens]).view(-1, 28*28)\n",
    "train_x.shape"
   ]
  },
  {
   "cell_type": "code",
   "execution_count": 94,
   "metadata": {},
   "outputs": [
    {
     "data": {
      "text/plain": [
       "torch.Size([12396, 1])"
      ]
     },
     "execution_count": 94,
     "metadata": {},
     "output_type": "execute_result"
    }
   ],
   "source": [
    "train_y = tensor([1]*len(threes) + [0]*len(sevens), device='mps').unsqueeze(1)\n",
    "train_y.shape"
   ]
  },
  {
   "cell_type": "code",
   "execution_count": 95,
   "metadata": {},
   "outputs": [
    {
     "data": {
      "text/plain": [
       "(torch.Size([784]), torch.Size([1]))"
      ]
     },
     "execution_count": 95,
     "metadata": {},
     "output_type": "execute_result"
    }
   ],
   "source": [
    "dset = list(zip(train_x, train_y))\n",
    "x, y = dset[0]\n",
    "x.shape, y.shape"
   ]
  },
  {
   "cell_type": "code",
   "execution_count": 96,
   "metadata": {},
   "outputs": [],
   "source": [
    "validation_threes = torch.stack(\n",
    "  [tensor(Image.open(o), device='mps') for o in (path/'valid'/'3').ls()]\n",
    ").float()/255\n",
    "\n",
    "validation_sevens = torch.stack(\n",
    "  [tensor(Image.open(o), device='mps') for o in (path/'valid'/'7').ls()]\n",
    ").float()/255\n",
    "\n",
    "validation_x = torch.cat([validation_threes, validation_sevens]).view(-1, 28*28)\n",
    "validation_y = tensor([1]*len(validation_threes) \n",
    "                            + [0]*len(validation_sevens), device='mps').unsqueeze(1)\n",
    "\n",
    "validation_dset = list(zip(validation_x, validation_y))"
   ]
  },
  {
   "cell_type": "code",
   "execution_count": 97,
   "metadata": {},
   "outputs": [],
   "source": [
    "def init_params(size, std=1.):\n",
    "  return (torch.randn(size, device='mps')*std).requires_grad_()"
   ]
  },
  {
   "cell_type": "code",
   "execution_count": 98,
   "metadata": {},
   "outputs": [
    {
     "data": {
      "text/plain": [
       "(torch.Size([256, 784]), torch.Size([256, 1]))"
      ]
     },
     "execution_count": 98,
     "metadata": {},
     "output_type": "execute_result"
    }
   ],
   "source": [
    "dset_loader = DataLoader(dset, batch_size=256)\n",
    "validation_dset_loader = DataLoader(validation_dset, batch_size=256)\n",
    "xb, yb = first(dset_loader)\n",
    "xb.shape, yb.shape"
   ]
  },
  {
   "cell_type": "code",
   "execution_count": 99,
   "metadata": {},
   "outputs": [],
   "source": [
    "def mnist_loss(preds, acts):\n",
    "  preds = preds.sigmoid()\n",
    "  return torch.where(acts == 1., 1-preds, preds).mean()"
   ]
  },
  {
   "cell_type": "code",
   "execution_count": 100,
   "metadata": {},
   "outputs": [],
   "source": [
    "w = init_params((28*28, 1))\n",
    "b = init_params(1)"
   ]
  },
  {
   "cell_type": "code",
   "execution_count": 101,
   "metadata": {},
   "outputs": [],
   "source": [
    "def linear(xb): return xb@w + b"
   ]
  },
  {
   "cell_type": "code",
   "execution_count": 102,
   "metadata": {},
   "outputs": [
    {
     "data": {
      "text/plain": [
       "tensor([[-1.9430],\n",
       "        [-1.7535],\n",
       "        [ 4.2589],\n",
       "        [ 3.8169],\n",
       "        [-0.5155]], device='mps:0', grad_fn=<AddBackward0>)"
      ]
     },
     "execution_count": 102,
     "metadata": {},
     "output_type": "execute_result"
    }
   ],
   "source": [
    "preds = linear(train_x[:5])\n",
    "preds"
   ]
  },
  {
   "cell_type": "code",
   "execution_count": 103,
   "metadata": {},
   "outputs": [
    {
     "data": {
      "text/plain": [
       "tensor(0.4777, device='mps:0', grad_fn=<MeanBackward0>)"
      ]
     },
     "execution_count": 103,
     "metadata": {},
     "output_type": "execute_result"
    }
   ],
   "source": [
    "mnist_loss(preds, train_y[:5])"
   ]
  },
  {
   "cell_type": "code",
   "execution_count": 104,
   "metadata": {},
   "outputs": [],
   "source": [
    "def step(xb, yb, model):\n",
    "  preds = model(xb)\n",
    "  loss = mnist_loss(preds, yb)\n",
    "  loss.backward()"
   ]
  },
  {
   "cell_type": "code",
   "execution_count": 105,
   "metadata": {},
   "outputs": [],
   "source": [
    "def batch_accuracy(xb, yb):\n",
    "  preds = xb.sigmoid()\n",
    "  correct = (preds>0.5) == yb\n",
    "  return correct.float().mean()"
   ]
  },
  {
   "cell_type": "code",
   "execution_count": 106,
   "metadata": {},
   "outputs": [
    {
     "data": {
      "text/plain": [
       "tensor([0.], device='mps:0')"
      ]
     },
     "execution_count": 106,
     "metadata": {},
     "output_type": "execute_result"
    }
   ],
   "source": [
    "step(train_x, train_y, linear)\n",
    "\n",
    "w.data -= w.grad*1\n",
    "b.data -= b.grad*1\n",
    "\n",
    "w.grad.zero_()\n",
    "b.grad.zero_()"
   ]
  },
  {
   "cell_type": "code",
   "execution_count": 107,
   "metadata": {},
   "outputs": [
    {
     "data": {
      "text/plain": [
       "tensor(0.4789, device='mps:0')"
      ]
     },
     "execution_count": 107,
     "metadata": {},
     "output_type": "execute_result"
    }
   ],
   "source": [
    "batch_accuracy(linear(train_x), train_y)"
   ]
  },
  {
   "cell_type": "code",
   "execution_count": 108,
   "metadata": {},
   "outputs": [],
   "source": [
    "def validate_epoch(model):\n",
    "  accs = [batch_accuracy(model(xb), yb) for xb,yb in validation_dset_loader]\n",
    "  loss = [mnist_loss(model(xb), yb) for xb,yb in validation_dset_loader]\n",
    "  return torch.stack(accs).mean(), torch.stack(loss).mean()"
   ]
  },
  {
   "cell_type": "code",
   "execution_count": 109,
   "metadata": {},
   "outputs": [
    {
     "data": {
      "text/plain": [
       "(tensor(0.4672, device='mps:0'),\n",
       " tensor(0.5350, device='mps:0', grad_fn=<MeanBackward0>))"
      ]
     },
     "execution_count": 109,
     "metadata": {},
     "output_type": "execute_result"
    }
   ],
   "source": [
    "validate_epoch(linear)"
   ]
  },
  {
   "cell_type": "code",
   "execution_count": 110,
   "metadata": {},
   "outputs": [],
   "source": [
    "def train1(model, params, lr=1., num_epochs=5):\n",
    "  for i in range(num_epochs):\n",
    "    for xb, yb in dset_loader:\n",
    "      step(xb, yb, model)\n",
    "      for p in params:\n",
    "        p.data -= p.grad*lr\n",
    "        p.grad.zero_()\n",
    "    \n",
    "    print(validate_epoch(model), end='\\n')"
   ]
  },
  {
   "cell_type": "code",
   "execution_count": 111,
   "metadata": {},
   "outputs": [],
   "source": [
    "def train2(model, params, lr=1., num_epochs=5):\n",
    "  for i in range(num_epochs):\n",
    "    step(train_x, train_y, model)\n",
    "    for p in params:\n",
    "      p.data -= p.grad*lr\n",
    "      p.grad.zero_()\n",
    "    \n",
    "    print(validate_epoch(model), end='\\n')"
   ]
  },
  {
   "cell_type": "code",
   "execution_count": 112,
   "metadata": {},
   "outputs": [],
   "source": [
    "def train3(model, params, lr=1., num_epochs=5):\n",
    "  for xb, yb in dset_loader:\n",
    "    for i in range(num_epochs):\n",
    "      step(xb, yb, model)\n",
    "      for p in params:\n",
    "        p.data -= p.grad*lr\n",
    "        p.grad.zero_()\n",
    "        \n",
    "    print(batch_accuracy(model(xb), yb), end='\\n')"
   ]
  },
  {
   "cell_type": "code",
   "execution_count": 113,
   "metadata": {},
   "outputs": [],
   "source": [
    "def train4(model, lr=1., num_epochs=5):\n",
    "  for i in range(num_epochs):\n",
    "    for xb, yb in dset_loader:\n",
    "      step(xb, yb, model)\n",
    "      for p in model.parameters():\n",
    "        p.data -= p.grad*lr\n",
    "        p.grad.zero_()\n",
    "    \n",
    "    print(validate_epoch(model), end='\\n')"
   ]
  },
  {
   "cell_type": "code",
   "execution_count": 114,
   "metadata": {},
   "outputs": [
    {
     "name": "stdout",
     "output_type": "stream",
     "text": [
      "(tensor(0.6547, device='mps:0'), tensor(0.3500, device='mps:0', grad_fn=<MeanBackward0>))\n",
      "(tensor(0.8432, device='mps:0'), tensor(0.1645, device='mps:0', grad_fn=<MeanBackward0>))\n",
      "(tensor(0.9003, device='mps:0'), tensor(0.1030, device='mps:0', grad_fn=<MeanBackward0>))\n",
      "(tensor(0.9286, device='mps:0'), tensor(0.0752, device='mps:0', grad_fn=<MeanBackward0>))\n",
      "(tensor(0.9433, device='mps:0'), tensor(0.0610, device='mps:0', grad_fn=<MeanBackward0>))\n"
     ]
    }
   ],
   "source": [
    "params = w,b\n",
    "train1(linear, params, num_epochs=5, lr=1.)"
   ]
  },
  {
   "cell_type": "code",
   "execution_count": 115,
   "metadata": {},
   "outputs": [
    {
     "data": {
      "text/plain": [
       "tensor(0.9431, device='mps:0')"
      ]
     },
     "execution_count": 115,
     "metadata": {},
     "output_type": "execute_result"
    }
   ],
   "source": [
    "batch_accuracy(linear(validation_x), validation_y)"
   ]
  },
  {
   "cell_type": "code",
   "execution_count": 116,
   "metadata": {},
   "outputs": [],
   "source": [
    "linear_model = torch.nn.Linear(28*28, 1, device='mps')"
   ]
  },
  {
   "cell_type": "code",
   "execution_count": 117,
   "metadata": {},
   "outputs": [
    {
     "data": {
      "text/plain": [
       "tensor(0.5799, device='mps:0')"
      ]
     },
     "execution_count": 117,
     "metadata": {},
     "output_type": "execute_result"
    }
   ],
   "source": [
    "batch_accuracy(linear_model(train_x), train_y)"
   ]
  },
  {
   "cell_type": "code",
   "execution_count": 118,
   "metadata": {},
   "outputs": [
    {
     "name": "stdout",
     "output_type": "stream",
     "text": [
      "(tensor(0.5649, device='mps:0'), tensor(0.3626, device='mps:0', grad_fn=<MeanBackward0>))\n",
      "(tensor(0.8755, device='mps:0'), tensor(0.1798, device='mps:0', grad_fn=<MeanBackward0>))\n",
      "(tensor(0.9360, device='mps:0'), tensor(0.1071, device='mps:0', grad_fn=<MeanBackward0>))\n",
      "(tensor(0.9550, device='mps:0'), tensor(0.0802, device='mps:0', grad_fn=<MeanBackward0>))\n",
      "(tensor(0.9633, device='mps:0'), tensor(0.0669, device='mps:0', grad_fn=<MeanBackward0>))\n"
     ]
    }
   ],
   "source": [
    "train4(linear_model, num_epochs=5, lr=.1)"
   ]
  },
  {
   "cell_type": "code",
   "execution_count": 40,
   "metadata": {},
   "outputs": [],
   "source": [
    "dls = DataLoaders(dset_loader, validation_dset_loader)"
   ]
  },
  {
   "cell_type": "code",
   "execution_count": 41,
   "metadata": {},
   "outputs": [
    {
     "data": {
      "text/html": [
       "<table border=\"1\" class=\"dataframe\">\n",
       "  <thead>\n",
       "    <tr style=\"text-align: left;\">\n",
       "      <th>epoch</th>\n",
       "      <th>train_loss</th>\n",
       "      <th>valid_loss</th>\n",
       "      <th>batch_accuracy</th>\n",
       "      <th>time</th>\n",
       "    </tr>\n",
       "  </thead>\n",
       "  <tbody>\n",
       "    <tr>\n",
       "      <td>0</td>\n",
       "      <td>0.636928</td>\n",
       "      <td>0.500492</td>\n",
       "      <td>0.495584</td>\n",
       "      <td>00:03</td>\n",
       "    </tr>\n",
       "    <tr>\n",
       "      <td>1</td>\n",
       "      <td>0.276627</td>\n",
       "      <td>0.331183</td>\n",
       "      <td>0.658979</td>\n",
       "      <td>00:03</td>\n",
       "    </tr>\n",
       "    <tr>\n",
       "      <td>2</td>\n",
       "      <td>0.111369</td>\n",
       "      <td>0.155409</td>\n",
       "      <td>0.862120</td>\n",
       "      <td>00:03</td>\n",
       "    </tr>\n",
       "    <tr>\n",
       "      <td>3</td>\n",
       "      <td>0.054769</td>\n",
       "      <td>0.098310</td>\n",
       "      <td>0.916094</td>\n",
       "      <td>00:03</td>\n",
       "    </tr>\n",
       "    <tr>\n",
       "      <td>4</td>\n",
       "      <td>0.033432</td>\n",
       "      <td>0.073837</td>\n",
       "      <td>0.935231</td>\n",
       "      <td>00:03</td>\n",
       "    </tr>\n",
       "  </tbody>\n",
       "</table>"
      ],
      "text/plain": [
       "<IPython.core.display.HTML object>"
      ]
     },
     "metadata": {},
     "output_type": "display_data"
    }
   ],
   "source": [
    "learn = Learner(dls, torch.nn.Linear(28*28, 1), loss_func=mnist_loss,\n",
    "                opt_func=SGD, metrics=batch_accuracy)\n",
    "\n",
    "learn.fit(5, 1.)"
   ]
  },
  {
   "cell_type": "code",
   "execution_count": 119,
   "metadata": {},
   "outputs": [
    {
     "data": {
      "text/plain": [
       "Sequential(\n",
       "  (0): Linear(in_features=784, out_features=30, bias=True)\n",
       "  (1): ReLU()\n",
       "  (2): Linear(in_features=30, out_features=1, bias=True)\n",
       ")"
      ]
     },
     "execution_count": 119,
     "metadata": {},
     "output_type": "execute_result"
    }
   ],
   "source": [
    "neural_net = torch.nn.Sequential(\n",
    "  torch.nn.Linear(28*28, 30),\n",
    "  torch.nn.ReLU(),\n",
    "  torch.nn.Linear(30, 1),\n",
    ").to(device='mps')"
   ]
  },
  {
   "cell_type": "code",
   "execution_count": 120,
   "metadata": {},
   "outputs": [],
   "source": [
    "learn = Learner(dls, neural_net, opt_func=SGD, loss_func=mnist_loss,\n",
    "                metrics=batch_accuracy)"
   ]
  },
  {
   "cell_type": "code",
   "execution_count": 121,
   "metadata": {},
   "outputs": [
    {
     "data": {
      "text/html": [
       "<table border=\"1\" class=\"dataframe\">\n",
       "  <thead>\n",
       "    <tr style=\"text-align: left;\">\n",
       "      <th>epoch</th>\n",
       "      <th>train_loss</th>\n",
       "      <th>valid_loss</th>\n",
       "      <th>batch_accuracy</th>\n",
       "      <th>time</th>\n",
       "    </tr>\n",
       "  </thead>\n",
       "  <tbody>\n",
       "    <tr>\n",
       "      <td>0</td>\n",
       "      <td>0.166287</td>\n",
       "      <td>0.489857</td>\n",
       "      <td>0.504416</td>\n",
       "      <td>00:04</td>\n",
       "    </tr>\n",
       "    <tr>\n",
       "      <td>1</td>\n",
       "      <td>0.083623</td>\n",
       "      <td>0.251175</td>\n",
       "      <td>0.755643</td>\n",
       "      <td>00:03</td>\n",
       "    </tr>\n",
       "    <tr>\n",
       "      <td>2</td>\n",
       "      <td>0.042393</td>\n",
       "      <td>0.112369</td>\n",
       "      <td>0.895486</td>\n",
       "      <td>00:03</td>\n",
       "    </tr>\n",
       "    <tr>\n",
       "      <td>3</td>\n",
       "      <td>0.026750</td>\n",
       "      <td>0.077265</td>\n",
       "      <td>0.927870</td>\n",
       "      <td>00:03</td>\n",
       "    </tr>\n",
       "    <tr>\n",
       "      <td>4</td>\n",
       "      <td>0.019674</td>\n",
       "      <td>0.061569</td>\n",
       "      <td>0.941119</td>\n",
       "      <td>00:03</td>\n",
       "    </tr>\n",
       "  </tbody>\n",
       "</table>"
      ],
      "text/plain": [
       "<IPython.core.display.HTML object>"
      ]
     },
     "metadata": {},
     "output_type": "display_data"
    }
   ],
   "source": [
    "learn.fit(5, 1.)"
   ]
  },
  {
   "cell_type": "code",
   "execution_count": 122,
   "metadata": {},
   "outputs": [],
   "source": [
    "class Optim:\n",
    "  def __init__(self, params, lr):\n",
    "    self.params, self.lr = list(params), lr\n",
    "    \n",
    "  def step(self, *args, **kwargs):\n",
    "    for p in self.params:\n",
    "      p.data -= p.grad.data*self.lr\n",
    "  \n",
    "  def zero(self, *args, **kwargs):\n",
    "    for p in self.params:\n",
    "      p.grad.zero_()"
   ]
  },
  {
   "cell_type": "code",
   "execution_count": 127,
   "metadata": {},
   "outputs": [],
   "source": [
    "def train(dls, model, opt, num_epochs=5):\n",
    "  for i in range(num_epochs):\n",
    "    for xb,yb in dls:\n",
    "      step(xb, yb, model)\n",
    "      opt.step()\n",
    "      opt.zero()\n",
    "      \n",
    "    print(validate_epoch(model), end='\\n')"
   ]
  },
  {
   "cell_type": "code",
   "execution_count": 130,
   "metadata": {},
   "outputs": [
    {
     "name": "stdout",
     "output_type": "stream",
     "text": [
      "(tensor(0.9378, device='mps:0'), tensor(0.4626, device='mps:0', grad_fn=<MeanBackward0>))\n",
      "(tensor(0.9452, device='mps:0'), tensor(0.4167, device='mps:0', grad_fn=<MeanBackward0>))\n",
      "(tensor(0.9433, device='mps:0'), tensor(0.3560, device='mps:0', grad_fn=<MeanBackward0>))\n",
      "(tensor(0.9462, device='mps:0'), tensor(0.2873, device='mps:0', grad_fn=<MeanBackward0>))\n",
      "(tensor(0.9511, device='mps:0'), tensor(0.2247, device='mps:0', grad_fn=<MeanBackward0>))\n"
     ]
    }
   ],
   "source": [
    "neural_net = torch.nn.Sequential(\n",
    "  torch.nn.Linear(28*28, 100),\n",
    "  torch.nn.ReLU(),\n",
    "  torch.nn.Linear(100, 1)\n",
    ").to(device='mps')\n",
    "opt = Optim(neural_net.parameters(), 1e-2)\n",
    "\n",
    "train(dset_loader, neural_net, opt, num_epochs=5)"
   ]
  }
 ],
 "metadata": {
  "kernelspec": {
   "display_name": "fastai",
   "language": "python",
   "name": "python3"
  },
  "language_info": {
   "codemirror_mode": {
    "name": "ipython",
    "version": 3
   },
   "file_extension": ".py",
   "mimetype": "text/x-python",
   "name": "python",
   "nbconvert_exporter": "python",
   "pygments_lexer": "ipython3",
   "version": "3.9.13"
  },
  "orig_nbformat": 4,
  "vscode": {
   "interpreter": {
    "hash": "8868b0e47ad2d977ef6a70a1daecfc7182971b5999309f287656c1620744575c"
   }
  }
 },
 "nbformat": 4,
 "nbformat_minor": 2
}
