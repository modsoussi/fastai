{
 "cells": [
  {
   "cell_type": "code",
   "execution_count": 1,
   "metadata": {},
   "outputs": [
    {
     "name": "stderr",
     "output_type": "stream",
     "text": [
      "/Users/modsoussi/anaconda3/envs/fastai/lib/python3.11/site-packages/tqdm/auto.py:21: TqdmWarning: IProgress not found. Please update jupyter and ipywidgets. See https://ipywidgets.readthedocs.io/en/stable/user_install.html\n",
      "  from .autonotebook import tqdm as notebook_tqdm\n"
     ]
    },
    {
     "data": {
      "text/plain": [
       "60000"
      ]
     },
     "execution_count": 1,
     "metadata": {},
     "output_type": "execute_result"
    }
   ],
   "source": [
    "import torch\n",
    "import torchvision.datasets as datasets\n",
    "\n",
    "mnist_trainset = datasets.MNIST('./data/', train=True)\n",
    "len(mnist_trainset)"
   ]
  },
  {
   "cell_type": "code",
   "execution_count": 2,
   "metadata": {},
   "outputs": [],
   "source": [
    "train_imgs, train_labels = list(zip(*mnist_trainset))\n"
   ]
  },
  {
   "cell_type": "code",
   "execution_count": 3,
   "metadata": {},
   "outputs": [
    {
     "data": {
      "text/plain": [
       "torch.Size([60000, 784])"
      ]
     },
     "execution_count": 3,
     "metadata": {},
     "output_type": "execute_result"
    }
   ],
   "source": [
    "\n",
    "train_x = torch.stack([torch.tensor(img.getdata(), device='mps', dtype=torch.float32)/255 for img in train_imgs])\n",
    "train_x.shape"
   ]
  },
  {
   "cell_type": "code",
   "execution_count": 4,
   "metadata": {},
   "outputs": [
    {
     "data": {
      "text/plain": [
       "torch.Size([60000])"
      ]
     },
     "execution_count": 4,
     "metadata": {},
     "output_type": "execute_result"
    }
   ],
   "source": [
    "train_y = torch.tensor(train_labels, device='mps')\n",
    "train_y.shape"
   ]
  },
  {
   "cell_type": "code",
   "execution_count": 5,
   "metadata": {},
   "outputs": [
    {
     "data": {
      "text/plain": [
       "tensor(5, device='mps:0')"
      ]
     },
     "execution_count": 5,
     "metadata": {},
     "output_type": "execute_result"
    }
   ],
   "source": [
    "train_y[0]"
   ]
  },
  {
   "cell_type": "code",
   "execution_count": 6,
   "metadata": {},
   "outputs": [],
   "source": [
    "model = torch.nn.Sequential(\n",
    "  torch.nn.Linear(28*28, 400, device='mps'),\n",
    "  torch.nn.ReLU(),\n",
    "  torch.nn.Linear(400, 10, device='mps'),\n",
    ")"
   ]
  },
  {
   "cell_type": "code",
   "execution_count": 7,
   "metadata": {},
   "outputs": [],
   "source": [
    "preds = model(train_x[:5])"
   ]
  },
  {
   "cell_type": "code",
   "execution_count": 8,
   "metadata": {},
   "outputs": [
    {
     "data": {
      "text/plain": [
       "tensor([ 0.1487, -0.0166, -0.0190, -0.0831,  0.0161], device='mps:0',\n",
       "       grad_fn=<IndexBackward0>)"
      ]
     },
     "execution_count": 8,
     "metadata": {},
     "output_type": "execute_result"
    }
   ],
   "source": [
    "preds[range(5), train_y[:5]]"
   ]
  },
  {
   "cell_type": "code",
   "execution_count": 9,
   "metadata": {},
   "outputs": [],
   "source": [
    "loss = -torch.log(preds.softmax(dim=1)[range(5), train_y[:5]]).mean()"
   ]
  },
  {
   "cell_type": "code",
   "execution_count": 10,
   "metadata": {},
   "outputs": [
    {
     "data": {
      "text/plain": [
       "tensor(2.3319, device='mps:0', grad_fn=<NllLossBackward0>)"
      ]
     },
     "execution_count": 10,
     "metadata": {},
     "output_type": "execute_result"
    }
   ],
   "source": [
    "torch.nn.CrossEntropyLoss()(preds, train_y[:5])"
   ]
  },
  {
   "cell_type": "code",
   "execution_count": 11,
   "metadata": {},
   "outputs": [],
   "source": [
    "loss.backward()"
   ]
  },
  {
   "cell_type": "code",
   "execution_count": 12,
   "metadata": {},
   "outputs": [],
   "source": [
    "for p in model.parameters():\n",
    "  p.data -= p.grad.data"
   ]
  },
  {
   "cell_type": "code",
   "execution_count": 13,
   "metadata": {},
   "outputs": [],
   "source": [
    "for p in model.parameters():\n",
    "  p.grad.zero_()"
   ]
  },
  {
   "cell_type": "code",
   "execution_count": 14,
   "metadata": {},
   "outputs": [],
   "source": [
    "def fn_loss(preds, acts):\n",
    "  idx = range(len(acts))\n",
    "  return -torch.log(preds.softmax(dim=1)[idx, acts]).mean()"
   ]
  },
  {
   "cell_type": "code",
   "execution_count": 15,
   "metadata": {},
   "outputs": [
    {
     "data": {
      "text/plain": [
       "tensor([[ 1.9645,  0.8568, -1.4238, -1.1539,  0.2274,  3.9762, -1.4789, -1.3855,\n",
       "         -1.4252,  0.7319],\n",
       "        [ 3.9788,  0.7815, -1.4726, -1.3140,  0.3024,  2.0331, -1.4514, -1.5985,\n",
       "         -1.4848,  1.1528],\n",
       "        [ 0.7438,  0.3083, -0.6277, -0.5986,  1.6379,  0.6539, -0.6198, -0.6660,\n",
       "         -0.6205,  0.6776],\n",
       "        [ 0.9861,  2.0280, -0.8146, -0.7078,  0.1025,  1.0068, -0.7072, -0.9441,\n",
       "         -0.9051,  0.6595],\n",
       "        [ 1.3268,  0.6668, -1.0453, -0.9016,  0.3614,  0.9946, -1.0703, -1.1710,\n",
       "         -1.2844,  2.5770]], device='mps:0', grad_fn=<LinearBackward0>)"
      ]
     },
     "execution_count": 15,
     "metadata": {},
     "output_type": "execute_result"
    }
   ],
   "source": [
    "model(train_x[:5])"
   ]
  },
  {
   "cell_type": "code",
   "execution_count": 16,
   "metadata": {},
   "outputs": [],
   "source": [
    "loss = fn_loss(model(train_x[:5]), train_y[:5])"
   ]
  },
  {
   "cell_type": "code",
   "execution_count": 17,
   "metadata": {},
   "outputs": [],
   "source": [
    "loss.backward()\n",
    "for p in model.parameters():\n",
    "  p.data -= p.grad.data\n",
    "  \n",
    "for p in model.parameters():\n",
    "  p.grad.zero_()"
   ]
  },
  {
   "cell_type": "code",
   "execution_count": 18,
   "metadata": {},
   "outputs": [
    {
     "data": {
      "text/plain": [
       "tensor(0.1048, device='mps:0', grad_fn=<NegBackward0>)"
      ]
     },
     "execution_count": 18,
     "metadata": {},
     "output_type": "execute_result"
    }
   ],
   "source": [
    "loss = fn_loss(model(train_x[:5]), train_y[:5])\n",
    "loss"
   ]
  },
  {
   "cell_type": "code",
   "execution_count": 19,
   "metadata": {},
   "outputs": [
    {
     "data": {
      "text/plain": [
       "tensor([0.7993, 0.7671, 0.9849, 0.9891, 0.9915], device='mps:0',\n",
       "       grad_fn=<IndexBackward0>)"
      ]
     },
     "execution_count": 19,
     "metadata": {},
     "output_type": "execute_result"
    }
   ],
   "source": [
    "model(train_x[:5]).softmax(dim=1)[range(5), train_y[:5]]"
   ]
  },
  {
   "cell_type": "code",
   "execution_count": 20,
   "metadata": {},
   "outputs": [
    {
     "data": {
      "text/plain": [
       "tensor([0.0023, 0.1999, 0.0008, 0.1766, 0.4570], device='mps:0',\n",
       "       grad_fn=<IndexBackward0>)"
      ]
     },
     "execution_count": 20,
     "metadata": {},
     "output_type": "execute_result"
    }
   ],
   "source": [
    "model(train_x[5:10]).softmax(dim=1)[range(5), train_y[5:10]]"
   ]
  },
  {
   "cell_type": "code",
   "execution_count": 21,
   "metadata": {},
   "outputs": [],
   "source": [
    "def accuracy(preds, acts, th=.95):\n",
    "  idx = range(len(acts))\n",
    "  return (preds.softmax(dim=1)[idx, acts] > th).float().mean()"
   ]
  },
  {
   "cell_type": "code",
   "execution_count": 22,
   "metadata": {},
   "outputs": [
    {
     "data": {
      "text/plain": [
       "tensor(0.6000, device='mps:0')"
      ]
     },
     "execution_count": 22,
     "metadata": {},
     "output_type": "execute_result"
    }
   ],
   "source": [
    "accuracy(model(train_x[:5]), train_y[:5])"
   ]
  },
  {
   "cell_type": "code",
   "execution_count": 23,
   "metadata": {},
   "outputs": [],
   "source": [
    "def train(model, X, y, num_epochs=5, lr=1e-3):\n",
    "  for i in range(num_epochs):\n",
    "    preds = model(X)\n",
    "    loss = fn_loss(preds, y)\n",
    "    loss.backward()\n",
    "    \n",
    "    for p in model.parameters():\n",
    "      p.data -= p.grad.data * lr\n",
    "      \n",
    "    for p in model.parameters():\n",
    "      p.grad.zero_()\n",
    "      \n",
    "    print(loss.data, accuracy(model(X), y))"
   ]
  },
  {
   "cell_type": "code",
   "execution_count": 24,
   "metadata": {},
   "outputs": [
    {
     "name": "stdout",
     "output_type": "stream",
     "text": [
      "tensor(3.5517, device='mps:0') tensor(0., device='mps:0')\n",
      "tensor(2.4598, device='mps:0') tensor(0., device='mps:0')\n",
      "tensor(2.1253, device='mps:0') tensor(0., device='mps:0')\n",
      "tensor(1.9310, device='mps:0') tensor(1.6667e-05, device='mps:0')\n",
      "tensor(1.7285, device='mps:0') tensor(0.0010, device='mps:0')\n",
      "tensor(1.5305, device='mps:0') tensor(0.0133, device='mps:0')\n",
      "tensor(1.3333, device='mps:0') tensor(0.0097, device='mps:0')\n",
      "tensor(1.1613, device='mps:0') tensor(0.0324, device='mps:0')\n",
      "tensor(1.0253, device='mps:0') tensor(0.0108, device='mps:0')\n",
      "tensor(0.9335, device='mps:0') tensor(0.0558, device='mps:0')\n",
      "tensor(0.9417, device='mps:0') tensor(0.0022, device='mps:0')\n",
      "tensor(1.2737, device='mps:0') tensor(0.0938, device='mps:0')\n",
      "tensor(1.9281, device='mps:0') tensor(0.0821, device='mps:0')\n",
      "tensor(1.5810, device='mps:0') tensor(0.0370, device='mps:0')\n",
      "tensor(1.1014, device='mps:0') tensor(0.0426, device='mps:0')\n",
      "tensor(0.8199, device='mps:0') tensor(0.0749, device='mps:0')\n",
      "tensor(0.7054, device='mps:0') tensor(0.0731, device='mps:0')\n",
      "tensor(0.6739, device='mps:0') tensor(0.1512, device='mps:0')\n",
      "tensor(0.6899, device='mps:0') tensor(0.1364, device='mps:0')\n",
      "tensor(0.8021, device='mps:0') tensor(0.2011, device='mps:0')\n",
      "tensor(0.7669, device='mps:0') tensor(0.2110, device='mps:0')\n",
      "tensor(0.7642, device='mps:0') tensor(0.1676, device='mps:0')\n",
      "tensor(0.7466, device='mps:0') tensor(0.2784, device='mps:0')\n",
      "tensor(0.6840, device='mps:0') tensor(0.1479, device='mps:0')\n",
      "tensor(0.5495, device='mps:0') tensor(0.2747, device='mps:0')\n",
      "tensor(0.5489, device='mps:0') tensor(0.1908, device='mps:0')\n",
      "tensor(0.5462, device='mps:0') tensor(0.3119, device='mps:0')\n",
      "tensor(0.5979, device='mps:0') tensor(0.2387, device='mps:0')\n",
      "tensor(0.5442, device='mps:0') tensor(0.3126, device='mps:0')\n",
      "tensor(0.5417, device='mps:0') tensor(0.2894, device='mps:0')\n",
      "tensor(0.5148, device='mps:0') tensor(0.3171, device='mps:0')\n",
      "tensor(0.5298, device='mps:0') tensor(0.3369, device='mps:0')\n",
      "tensor(0.5409, device='mps:0') tensor(0.3203, device='mps:0')\n",
      "tensor(0.5438, device='mps:0') tensor(0.3611, device='mps:0')\n",
      "tensor(0.5258, device='mps:0') tensor(0.3199, device='mps:0')\n",
      "tensor(0.4825, device='mps:0') tensor(0.3715, device='mps:0')\n",
      "tensor(0.4437, device='mps:0') tensor(0.3422, device='mps:0')\n",
      "tensor(0.4234, device='mps:0') tensor(0.3879, device='mps:0')\n",
      "tensor(0.4087, device='mps:0') tensor(0.3683, device='mps:0')\n",
      "tensor(0.3982, device='mps:0') tensor(0.4052, device='mps:0')\n",
      "tensor(0.3926, device='mps:0') tensor(0.3891, device='mps:0')\n",
      "tensor(0.3854, device='mps:0') tensor(0.4198, device='mps:0')\n",
      "tensor(0.3835, device='mps:0') tensor(0.4056, device='mps:0')\n",
      "tensor(0.3775, device='mps:0') tensor(0.4338, device='mps:0')\n",
      "tensor(0.3781, device='mps:0') tensor(0.4183, device='mps:0')\n",
      "tensor(0.3720, device='mps:0') tensor(0.4457, device='mps:0')\n",
      "tensor(0.3744, device='mps:0') tensor(0.4282, device='mps:0')\n",
      "tensor(0.3674, device='mps:0') tensor(0.4558, device='mps:0')\n",
      "tensor(0.3708, device='mps:0') tensor(0.4364, device='mps:0')\n",
      "tensor(0.3623, device='mps:0') tensor(0.4644, device='mps:0')\n"
     ]
    }
   ],
   "source": [
    "train(model, train_x, train_y, lr=.7, num_epochs=50)"
   ]
  },
  {
   "cell_type": "code",
   "execution_count": 25,
   "metadata": {},
   "outputs": [
    {
     "data": {
      "text/plain": [
       "tensor([0.8712, 0.9995, 0.9955, 0.9899, 0.8949, 0.8974, 0.9824, 0.9971, 0.9764,\n",
       "        0.9952, 0.9976, 0.2524, 0.9985, 0.9794, 0.9820, 0.9674, 0.9590, 0.8057,\n",
       "        0.7049, 0.5023, 0.9950, 0.9961, 0.4960, 0.9854, 0.0295],\n",
       "       device='mps:0', grad_fn=<IndexBackward0>)"
      ]
     },
     "execution_count": 25,
     "metadata": {},
     "output_type": "execute_result"
    }
   ],
   "source": [
    "model(train_x[:25]).softmax(dim=1)[range(25), train_y[:25]]"
   ]
  },
  {
   "cell_type": "code",
   "execution_count": 26,
   "metadata": {},
   "outputs": [
    {
     "data": {
      "image/jpeg": "[encoded data removed]",
      "image/png": "[encoded data removed]",
      "text/plain": [
       "<PIL.Image.Image image mode=L size=28x28>"
      ]
     },
     "execution_count": 26,
     "metadata": {},
     "output_type": "execute_result"
    }
   ],
   "source": [
    "mnist_trainset[24][0]"
   ]
  },
  {
   "cell_type": "code",
   "execution_count": 27,
   "metadata": {},
   "outputs": [
    {
     "data": {
      "text/plain": [
       "tensor([0.0481, 0.0295, 0.2273, 0.1383, 0.0041, 0.2157, 0.2223, 0.0661, 0.0185,\n",
       "        0.0301], device='mps:0', grad_fn=<SoftmaxBackward0>)"
      ]
     },
     "execution_count": 27,
     "metadata": {},
     "output_type": "execute_result"
    }
   ],
   "source": [
    "model(train_x[24]).softmax(dim=0)"
   ]
  },
  {
   "cell_type": "code",
   "execution_count": 28,
   "metadata": {},
   "outputs": [],
   "source": [
    "mnist_testset = datasets.MNIST('./data/', train=False, download=True)"
   ]
  },
  {
   "cell_type": "code",
   "execution_count": 29,
   "metadata": {},
   "outputs": [],
   "source": [
    "test_imgs, test_labels = list(zip(*mnist_testset))"
   ]
  },
  {
   "cell_type": "code",
   "execution_count": 30,
   "metadata": {},
   "outputs": [
    {
     "data": {
      "text/plain": [
       "torch.Size([10000, 784])"
      ]
     },
     "execution_count": 30,
     "metadata": {},
     "output_type": "execute_result"
    }
   ],
   "source": [
    "test_x = torch.stack([torch.tensor(img.getdata(), device='mps', dtype=torch.float32)/255 for img in test_imgs])\n",
    "test_x.shape"
   ]
  },
  {
   "cell_type": "code",
   "execution_count": 31,
   "metadata": {},
   "outputs": [
    {
     "data": {
      "text/plain": [
       "torch.Size([10000])"
      ]
     },
     "execution_count": 31,
     "metadata": {},
     "output_type": "execute_result"
    }
   ],
   "source": [
    "test_y = torch.tensor(test_labels, device='mps')\n",
    "test_y.shape"
   ]
  },
  {
   "cell_type": "code",
   "execution_count": 32,
   "metadata": {},
   "outputs": [
    {
     "name": "stdout",
     "output_type": "stream",
     "text": [
      "tensor(0.3489, device='mps:0', grad_fn=<NegBackward0>) tensor(0.4719, device='mps:0')\n"
     ]
    }
   ],
   "source": [
    "print(fn_loss(model(test_x), test_y), accuracy(model(test_x), test_y))"
   ]
  },
  {
   "cell_type": "code",
   "execution_count": 33,
   "metadata": {},
   "outputs": [],
   "source": [
    "model2 = torch.nn.Sequential(\n",
    "  torch.nn.Linear(28*28, 1024, device='mps'),\n",
    "  torch.nn.ReLU(),\n",
    "  torch.nn.Linear(1024, 512, device='mps'),\n",
    "  torch.nn.ReLU(),\n",
    "  torch.nn.Linear(512, 256, device='mps'),\n",
    "  torch.nn.ReLU(),\n",
    "  torch.nn.Linear(256, 10, device='mps')\n",
    ")"
   ]
  },
  {
   "cell_type": "code",
   "execution_count": 34,
   "metadata": {},
   "outputs": [
    {
     "name": "stdout",
     "output_type": "stream",
     "text": [
      "tensor(2.3051, device='mps:0') tensor(0., device='mps:0')\n",
      "tensor(2.3000, device='mps:0') tensor(0., device='mps:0')\n",
      "tensor(2.2949, device='mps:0') tensor(0., device='mps:0')\n",
      "tensor(2.2895, device='mps:0') tensor(0., device='mps:0')\n",
      "tensor(2.2837, device='mps:0') tensor(0., device='mps:0')\n",
      "tensor(2.2771, device='mps:0') tensor(0., device='mps:0')\n",
      "tensor(2.2695, device='mps:0') tensor(0., device='mps:0')\n",
      "tensor(2.2606, device='mps:0') tensor(0., device='mps:0')\n",
      "tensor(2.2496, device='mps:0') tensor(0., device='mps:0')\n",
      "tensor(2.2360, device='mps:0') tensor(0., device='mps:0')\n",
      "tensor(2.2188, device='mps:0') tensor(0., device='mps:0')\n",
      "tensor(2.1969, device='mps:0') tensor(0., device='mps:0')\n",
      "tensor(2.1685, device='mps:0') tensor(0., device='mps:0')\n",
      "tensor(2.1312, device='mps:0') tensor(0., device='mps:0')\n",
      "tensor(2.0821, device='mps:0') tensor(0., device='mps:0')\n",
      "tensor(2.0182, device='mps:0') tensor(0., device='mps:0')\n",
      "tensor(1.9372, device='mps:0') tensor(0., device='mps:0')\n",
      "tensor(1.8371, device='mps:0') tensor(0., device='mps:0')\n",
      "tensor(1.7158, device='mps:0') tensor(0., device='mps:0')\n",
      "tensor(1.5721, device='mps:0') tensor(0.0007, device='mps:0')\n",
      "tensor(1.4226, device='mps:0') tensor(0., device='mps:0')\n",
      "tensor(1.8264, device='mps:0') tensor(0.0983, device='mps:0')\n",
      "tensor(8.0850, device='mps:0') tensor(0., device='mps:0')\n",
      "tensor(2.2361, device='mps:0') tensor(0., device='mps:0')\n",
      "tensor(2.1538, device='mps:0') tensor(0., device='mps:0')\n",
      "tensor(2.0683, device='mps:0') tensor(0., device='mps:0')\n",
      "tensor(1.9676, device='mps:0') tensor(0., device='mps:0')\n",
      "tensor(1.8496, device='mps:0') tensor(0., device='mps:0')\n",
      "tensor(1.7294, device='mps:0') tensor(0., device='mps:0')\n",
      "tensor(1.6877, device='mps:0') tensor(0., device='mps:0')\n",
      "tensor(2.1750, device='mps:0') tensor(0., device='mps:0')\n",
      "tensor(1.9411, device='mps:0') tensor(0., device='mps:0')\n",
      "tensor(1.9352, device='mps:0') tensor(0., device='mps:0')\n",
      "tensor(1.7664, device='mps:0') tensor(0., device='mps:0')\n",
      "tensor(1.4935, device='mps:0') tensor(0., device='mps:0')\n",
      "tensor(1.3724, device='mps:0') tensor(0., device='mps:0')\n",
      "tensor(1.2909, device='mps:0') tensor(0., device='mps:0')\n",
      "tensor(1.2360, device='mps:0') tensor(0.0008, device='mps:0')\n",
      "tensor(1.2818, device='mps:0') tensor(0.0001, device='mps:0')\n",
      "tensor(1.8693, device='mps:0') tensor(0.0122, device='mps:0')\n",
      "tensor(1.8146, device='mps:0') tensor(0., device='mps:0')\n",
      "tensor(1.7095, device='mps:0') tensor(0., device='mps:0')\n",
      "tensor(1.4001, device='mps:0') tensor(0.0025, device='mps:0')\n",
      "tensor(1.2346, device='mps:0') tensor(0.0041, device='mps:0')\n",
      "tensor(1.1391, device='mps:0') tensor(0.0008, device='mps:0')\n",
      "tensor(1.3398, device='mps:0') tensor(0.0483, device='mps:0')\n",
      "tensor(1.3895, device='mps:0') tensor(0.0340, device='mps:0')\n",
      "tensor(1.5615, device='mps:0') tensor(0.0028, device='mps:0')\n",
      "tensor(1.3998, device='mps:0') tensor(0.1037, device='mps:0')\n",
      "tensor(1.3199, device='mps:0') tensor(0.0195, device='mps:0')\n",
      "tensor(1.1072, device='mps:0') tensor(0.0413, device='mps:0')\n",
      "tensor(0.9127, device='mps:0') tensor(0.0391, device='mps:0')\n",
      "tensor(0.7698, device='mps:0') tensor(0.0807, device='mps:0')\n",
      "tensor(0.7124, device='mps:0') tensor(0.1448, device='mps:0')\n",
      "tensor(0.7181, device='mps:0') tensor(0.1414, device='mps:0')\n",
      "tensor(0.8840, device='mps:0') tensor(0.2351, device='mps:0')\n",
      "tensor(1.3086, device='mps:0') tensor(0.1039, device='mps:0')\n",
      "tensor(1.1537, device='mps:0') tensor(0.1276, device='mps:0')\n",
      "tensor(0.9998, device='mps:0') tensor(0.1365, device='mps:0')\n",
      "tensor(0.7310, device='mps:0') tensor(0.0826, device='mps:0')\n",
      "tensor(0.6629, device='mps:0') tensor(0.2267, device='mps:0')\n",
      "tensor(0.6408, device='mps:0') tensor(0.1269, device='mps:0')\n",
      "tensor(0.6923, device='mps:0') tensor(0.3089, device='mps:0')\n",
      "tensor(0.7833, device='mps:0') tensor(0.1128, device='mps:0')\n",
      "tensor(0.8391, device='mps:0') tensor(0.2875, device='mps:0')\n",
      "tensor(0.7164, device='mps:0') tensor(0.1350, device='mps:0')\n",
      "tensor(0.6547, device='mps:0') tensor(0.2838, device='mps:0')\n",
      "tensor(0.6132, device='mps:0') tensor(0.2507, device='mps:0')\n",
      "tensor(0.5846, device='mps:0') tensor(0.2728, device='mps:0')\n",
      "tensor(0.6487, device='mps:0') tensor(0.3290, device='mps:0')\n",
      "tensor(0.6394, device='mps:0') tensor(0.2451, device='mps:0')\n",
      "tensor(0.6683, device='mps:0') tensor(0.3298, device='mps:0')\n",
      "tensor(0.6253, device='mps:0') tensor(0.2515, device='mps:0')\n",
      "tensor(0.6113, device='mps:0') tensor(0.3417, device='mps:0')\n",
      "tensor(0.5340, device='mps:0') tensor(0.2889, device='mps:0')\n",
      "tensor(0.5020, device='mps:0') tensor(0.3779, device='mps:0')\n",
      "tensor(0.4715, device='mps:0') tensor(0.3319, device='mps:0')\n",
      "tensor(0.4618, device='mps:0') tensor(0.4126, device='mps:0')\n",
      "tensor(0.4537, device='mps:0') tensor(0.3596, device='mps:0')\n",
      "tensor(0.4597, device='mps:0') tensor(0.4376, device='mps:0')\n",
      "tensor(0.4634, device='mps:0') tensor(0.3674, device='mps:0')\n",
      "tensor(0.4845, device='mps:0') tensor(0.4449, device='mps:0')\n",
      "tensor(0.4836, device='mps:0') tensor(0.3529, device='mps:0')\n",
      "tensor(0.5022, device='mps:0') tensor(0.4446, device='mps:0')\n",
      "tensor(0.4968, device='mps:0') tensor(0.3033, device='mps:0')\n",
      "tensor(0.5405, device='mps:0') tensor(0.4456, device='mps:0')\n",
      "tensor(0.6755, device='mps:0') tensor(0.2310, device='mps:0')\n",
      "tensor(0.7526, device='mps:0') tensor(0.4249, device='mps:0')\n",
      "tensor(0.7405, device='mps:0') tensor(0.2461, device='mps:0')\n",
      "tensor(0.5909, device='mps:0') tensor(0.3466, device='mps:0')\n",
      "tensor(0.4563, device='mps:0') tensor(0.3474, device='mps:0')\n",
      "tensor(0.3815, device='mps:0') tensor(0.4006, device='mps:0')\n",
      "tensor(0.3630, device='mps:0') tensor(0.4295, device='mps:0')\n",
      "tensor(0.3521, device='mps:0') tensor(0.4515, device='mps:0')\n",
      "tensor(0.3442, device='mps:0') tensor(0.4716, device='mps:0')\n",
      "tensor(0.3379, device='mps:0') tensor(0.4865, device='mps:0')\n",
      "tensor(0.3330, device='mps:0') tensor(0.4998, device='mps:0')\n",
      "tensor(0.3291, device='mps:0') tensor(0.5093, device='mps:0')\n",
      "tensor(0.3275, device='mps:0') tensor(0.5167, device='mps:0')\n",
      "tensor(0.3290, device='mps:0') tensor(0.5190, device='mps:0')\n"
     ]
    }
   ],
   "source": [
    "train(model2, train_x, train_y, num_epochs=100, lr=.5)"
   ]
  },
  {
   "cell_type": "code",
   "execution_count": 35,
   "metadata": {},
   "outputs": [
    {
     "name": "stdout",
     "output_type": "stream",
     "text": [
      "tensor(0.3366, device='mps:0') tensor(0.5291, device='mps:0')\n"
     ]
    }
   ],
   "source": [
    "print(fn_loss(model2(test_x), test_y).data, accuracy(model2(test_x), test_y))"
   ]
  },
  {
   "cell_type": "code",
   "execution_count": 36,
   "metadata": {},
   "outputs": [],
   "source": [
    "model3 = torch.nn.Sequential(\n",
    "  torch.nn.Linear(28*28, 1024, device='mps'),\n",
    "  torch.nn.ReLU(),\n",
    "  torch.nn.Linear(1024, 512, device='mps'),\n",
    "  torch.nn.Tanh(),\n",
    "  torch.nn.Linear(512, 256, device='mps'),\n",
    "  torch.nn.ReLU(),\n",
    "  torch.nn.Linear(256, 10, device='mps')\n",
    ")"
   ]
  },
  {
   "cell_type": "code",
   "execution_count": 37,
   "metadata": {},
   "outputs": [
    {
     "name": "stdout",
     "output_type": "stream",
     "text": [
      "tensor(2.3037, device='mps:0') tensor(0., device='mps:0')\n",
      "tensor(2.2914, device='mps:0') tensor(0., device='mps:0')\n",
      "tensor(2.2790, device='mps:0') tensor(0., device='mps:0')\n",
      "tensor(2.2652, device='mps:0') tensor(0., device='mps:0')\n",
      "tensor(2.2491, device='mps:0') tensor(0., device='mps:0')\n",
      "tensor(2.2298, device='mps:0') tensor(0., device='mps:0')\n",
      "tensor(2.2058, device='mps:0') tensor(0., device='mps:0')\n",
      "tensor(2.1751, device='mps:0') tensor(0., device='mps:0')\n",
      "tensor(2.1351, device='mps:0') tensor(0., device='mps:0')\n",
      "tensor(2.0821, device='mps:0') tensor(0., device='mps:0')\n",
      "tensor(2.0116, device='mps:0') tensor(0., device='mps:0')\n",
      "tensor(1.9189, device='mps:0') tensor(0., device='mps:0')\n",
      "tensor(1.8011, device='mps:0') tensor(0., device='mps:0')\n",
      "tensor(1.6612, device='mps:0') tensor(0., device='mps:0')\n",
      "tensor(1.5085, device='mps:0') tensor(0., device='mps:0')\n",
      "tensor(1.3551, device='mps:0') tensor(0., device='mps:0')\n",
      "tensor(1.2175, device='mps:0') tensor(0., device='mps:0')\n",
      "tensor(1.2572, device='mps:0') tensor(0.0794, device='mps:0')\n",
      "tensor(4.4095, device='mps:0') tensor(0.0204, device='mps:0')\n",
      "tensor(2.8511, device='mps:0') tensor(0., device='mps:0')\n",
      "tensor(4.4079, device='mps:0') tensor(0., device='mps:0')\n",
      "tensor(2.3429, device='mps:0') tensor(0., device='mps:0')\n",
      "tensor(2.2200, device='mps:0') tensor(0., device='mps:0')\n",
      "tensor(2.1189, device='mps:0') tensor(0., device='mps:0')\n",
      "tensor(2.0069, device='mps:0') tensor(0., device='mps:0')\n",
      "tensor(1.9103, device='mps:0') tensor(0., device='mps:0')\n",
      "tensor(1.8312, device='mps:0') tensor(0., device='mps:0')\n",
      "tensor(1.7655, device='mps:0') tensor(0., device='mps:0')\n",
      "tensor(1.7098, device='mps:0') tensor(0.0058, device='mps:0')\n",
      "tensor(1.6934, device='mps:0') tensor(0.0027, device='mps:0')\n",
      "tensor(1.9323, device='mps:0') tensor(0.0405, device='mps:0')\n",
      "tensor(2.2785, device='mps:0') tensor(0., device='mps:0')\n",
      "tensor(2.1155, device='mps:0') tensor(0., device='mps:0')\n",
      "tensor(1.9698, device='mps:0') tensor(0., device='mps:0')\n",
      "tensor(1.8891, device='mps:0') tensor(0., device='mps:0')\n",
      "tensor(1.7196, device='mps:0') tensor(0., device='mps:0')\n",
      "tensor(1.7141, device='mps:0') tensor(0., device='mps:0')\n",
      "tensor(1.4113, device='mps:0') tensor(0.0038, device='mps:0')\n",
      "tensor(1.2994, device='mps:0') tensor(0.0164, device='mps:0')\n",
      "tensor(1.2366, device='mps:0') tensor(0.0301, device='mps:0')\n",
      "tensor(1.2602, device='mps:0') tensor(0.0829, device='mps:0')\n",
      "tensor(1.3964, device='mps:0') tensor(0.0150, device='mps:0')\n",
      "tensor(1.1572, device='mps:0') tensor(0.0786, device='mps:0')\n",
      "tensor(1.0011, device='mps:0') tensor(0.0510, device='mps:0')\n",
      "tensor(0.9342, device='mps:0') tensor(0.1423, device='mps:0')\n",
      "tensor(0.9897, device='mps:0') tensor(0.0367, device='mps:0')\n",
      "tensor(1.2198, device='mps:0') tensor(0.1680, device='mps:0')\n",
      "tensor(2.1653, device='mps:0') tensor(0.0856, device='mps:0')\n",
      "tensor(3.3626, device='mps:0') tensor(0., device='mps:0')\n",
      "tensor(1.8231, device='mps:0') tensor(0.0185, device='mps:0')\n",
      "tensor(1.5278, device='mps:0') tensor(0.0201, device='mps:0')\n",
      "tensor(1.3779, device='mps:0') tensor(0.0748, device='mps:0')\n",
      "tensor(1.2353, device='mps:0') tensor(0.0029, device='mps:0')\n",
      "tensor(1.2508, device='mps:0') tensor(0.1320, device='mps:0')\n",
      "tensor(1.2822, device='mps:0') tensor(0.0055, device='mps:0')\n",
      "tensor(1.2927, device='mps:0') tensor(0.0783, device='mps:0')\n",
      "tensor(1.0154, device='mps:0') tensor(0.0620, device='mps:0')\n",
      "tensor(0.8812, device='mps:0') tensor(0.1348, device='mps:0')\n",
      "tensor(0.7963, device='mps:0') tensor(0.1323, device='mps:0')\n",
      "tensor(0.7547, device='mps:0') tensor(0.2026, device='mps:0')\n",
      "tensor(0.7218, device='mps:0') tensor(0.1115, device='mps:0')\n",
      "tensor(0.7513, device='mps:0') tensor(0.2355, device='mps:0')\n",
      "tensor(0.8354, device='mps:0') tensor(0.0736, device='mps:0')\n",
      "tensor(0.7877, device='mps:0') tensor(0.2722, device='mps:0')\n",
      "tensor(0.6822, device='mps:0') tensor(0.1440, device='mps:0')\n",
      "tensor(0.6765, device='mps:0') tensor(0.3054, device='mps:0')\n",
      "tensor(0.8813, device='mps:0') tensor(0.1496, device='mps:0')\n",
      "tensor(0.9703, device='mps:0') tensor(0.2664, device='mps:0')\n",
      "tensor(0.9533, device='mps:0') tensor(0.1432, device='mps:0')\n",
      "tensor(0.9390, device='mps:0') tensor(0.2289, device='mps:0')\n",
      "tensor(0.6903, device='mps:0') tensor(0.2280, device='mps:0')\n",
      "tensor(0.5806, device='mps:0') tensor(0.2635, device='mps:0')\n",
      "tensor(0.5048, device='mps:0') tensor(0.2937, device='mps:0')\n",
      "tensor(0.4595, device='mps:0') tensor(0.3194, device='mps:0')\n",
      "tensor(0.4359, device='mps:0') tensor(0.3551, device='mps:0')\n",
      "tensor(0.4193, device='mps:0') tensor(0.3642, device='mps:0')\n",
      "tensor(0.4067, device='mps:0') tensor(0.4009, device='mps:0')\n",
      "tensor(0.3968, device='mps:0') tensor(0.3965, device='mps:0')\n",
      "tensor(0.3896, device='mps:0') tensor(0.4405, device='mps:0')\n",
      "tensor(0.3861, device='mps:0') tensor(0.4157, device='mps:0')\n",
      "tensor(0.3881, device='mps:0') tensor(0.4723, device='mps:0')\n",
      "tensor(0.4064, device='mps:0') tensor(0.3940, device='mps:0')\n",
      "tensor(0.4384, device='mps:0') tensor(0.4856, device='mps:0')\n",
      "tensor(0.5541, device='mps:0') tensor(0.3313, device='mps:0')\n",
      "tensor(0.5379, device='mps:0') tensor(0.4883, device='mps:0')\n",
      "tensor(0.5606, device='mps:0') tensor(0.4063, device='mps:0')\n",
      "tensor(0.3784, device='mps:0') tensor(0.4535, device='mps:0')\n",
      "tensor(0.3480, device='mps:0') tensor(0.4683, device='mps:0')\n",
      "tensor(0.3386, device='mps:0') tensor(0.4871, device='mps:0')\n",
      "tensor(0.3328, device='mps:0') tensor(0.5027, device='mps:0')\n",
      "tensor(0.3289, device='mps:0') tensor(0.5107, device='mps:0')\n",
      "tensor(0.3267, device='mps:0') tensor(0.5216, device='mps:0')\n",
      "tensor(0.3274, device='mps:0') tensor(0.5194, device='mps:0')\n",
      "tensor(0.3331, device='mps:0') tensor(0.5269, device='mps:0')\n",
      "tensor(0.3500, device='mps:0') tensor(0.4985, device='mps:0')\n",
      "tensor(0.3918, device='mps:0') tensor(0.5115, device='mps:0')\n",
      "tensor(0.4929, device='mps:0') tensor(0.4431, device='mps:0')\n",
      "tensor(0.6350, device='mps:0') tensor(0.4432, device='mps:0')\n",
      "tensor(0.6368, device='mps:0') tensor(0.4094, device='mps:0')\n",
      "tensor(0.3999, device='mps:0') tensor(0.4492, device='mps:0')\n"
     ]
    }
   ],
   "source": [
    "train(model3, train_x, train_y, num_epochs=100, lr=5e-1)"
   ]
  },
  {
   "cell_type": "code",
   "execution_count": 38,
   "metadata": {},
   "outputs": [
    {
     "name": "stdout",
     "output_type": "stream",
     "text": [
      "tensor(0.3257, device='mps:0') tensor(0.4595, device='mps:0')\n"
     ]
    }
   ],
   "source": [
    "print(fn_loss(model3(test_x), test_y).data, accuracy(model3(test_x), test_y))"
   ]
  },
  {
   "cell_type": "code",
   "execution_count": 39,
   "metadata": {},
   "outputs": [
    {
     "data": {
      "text/plain": [
       "tensor([0.9957, 0.9477, 0.9727, 0.9857, 0.8804], device='mps:0',\n",
       "       grad_fn=<IndexBackward0>)"
      ]
     },
     "execution_count": 39,
     "metadata": {},
     "output_type": "execute_result"
    }
   ],
   "source": [
    "model3(test_x[:5]).softmax(dim=1)[range(5), test_y[:5]]"
   ]
  },
  {
   "cell_type": "code",
   "execution_count": 50,
   "metadata": {},
   "outputs": [
    {
     "data": {
      "text/plain": [
       "tensor(0.8666, device='mps:0')"
      ]
     },
     "execution_count": 50,
     "metadata": {},
     "output_type": "execute_result"
    }
   ],
   "source": [
    "accuracy(model(test_x), test_y, th=.5)"
   ]
  },
  {
   "cell_type": "code",
   "execution_count": 58,
   "metadata": {},
   "outputs": [
    {
     "name": "stdout",
     "output_type": "stream",
     "text": [
      "Sequential(\n",
      "  (0): Linear(in_features=784, out_features=1024, bias=True)\n",
      "  (1): ReLU()\n",
      "  (2): Linear(in_features=1024, out_features=512, bias=True)\n",
      "  (3): Tanh()\n",
      "  (4): Linear(in_features=512, out_features=256, bias=True)\n",
      "  (5): ReLU()\n",
      "  (6): Linear(in_features=256, out_features=10, bias=True)\n",
      ")\n",
      "Linear(in_features=784, out_features=1024, bias=True)\n",
      "ReLU()\n",
      "Linear(in_features=1024, out_features=512, bias=True)\n",
      "Tanh()\n",
      "Linear(in_features=512, out_features=256, bias=True)\n",
      "ReLU()\n",
      "Linear(in_features=256, out_features=10, bias=True)\n"
     ]
    }
   ],
   "source": [
    "for m in model3.modules():\n",
    "  print(m)"
   ]
  },
  {
   "cell_type": "code",
   "execution_count": 62,
   "metadata": {},
   "outputs": [
    {
     "data": {
      "text/plain": [
       "[Linear(in_features=784, out_features=1024, bias=True),\n",
       " ReLU(),\n",
       " Linear(in_features=1024, out_features=512, bias=True),\n",
       " Tanh(),\n",
       " Linear(in_features=512, out_features=256, bias=True),\n",
       " ReLU(),\n",
       " Linear(in_features=256, out_features=10, bias=True)]"
      ]
     },
     "execution_count": 62,
     "metadata": {},
     "output_type": "execute_result"
    }
   ],
   "source": [
    "layers = list(model3.modules())[1:]\n",
    "layers"
   ]
  },
  {
   "cell_type": "code",
   "execution_count": 68,
   "metadata": {},
   "outputs": [
    {
     "data": {
      "text/plain": [
       "torch.Size([1024])"
      ]
     },
     "execution_count": 68,
     "metadata": {},
     "output_type": "execute_result"
    }
   ],
   "source": [
    "layer1_projection = (layers[1](layers[0](train_x[0]))*255).round()\n",
    "layer1_projection.shape"
   ]
  },
  {
   "cell_type": "code",
   "execution_count": 79,
   "metadata": {},
   "outputs": [
    {
     "data": {
      "text/plain": [
       "<matplotlib.collections.PolyQuadMesh at 0x2da972fd0>"
      ]
     },
     "execution_count": 79,
     "metadata": {},
     "output_type": "execute_result"
    },
    {
     "data": {
      "image/png": "[encoded data removed]",
      "text/plain": [
       "<Figure size 640x480 with 1 Axes>"
      ]
     },
     "metadata": {},
     "output_type": "display_data"
    }
   ],
   "source": [
    "from matplotlib import pyplot as plt\n",
    "\n",
    "plt.gray()\n",
    "plt.pcolor(layer1_projection.reshape(32,32).detach().cpu().numpy())"
   ]
  }
 ],
 "metadata": {
  "kernelspec": {
   "display_name": "fastai",
   "language": "python",
   "name": "python3"
  },
  "language_info": {
   "codemirror_mode": {
    "name": "ipython",
    "version": 3
   },
   "file_extension": ".py",
   "mimetype": "text/x-python",
   "name": "python",
   "nbconvert_exporter": "python",
   "pygments_lexer": "ipython3",
   "version": "3.11.7"
  },
  "orig_nbformat": 4,
  "vscode": {
   "interpreter": {
    "hash": "8868b0e47ad2d977ef6a70a1daecfc7182971b5999309f287656c1620744575c"
   }
  }
 },
 "nbformat": 4,
 "nbformat_minor": 2
}
