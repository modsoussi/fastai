{
 "cells": [
  {
   "cell_type": "markdown",
   "metadata": {},
   "source": [
    "## Introduction and set up"
   ]
  },
  {
   "cell_type": "code",
   "execution_count": 1,
   "metadata": {
    "vscode": {
     "languageId": "python"
    }
   },
   "outputs": [],
   "source": [
    "! pip install -Uqq fastai"
   ]
  },
  {
   "cell_type": "code",
   "execution_count": 15,
   "metadata": {
    "vscode": {
     "languageId": "python"
    }
   },
   "outputs": [
    {
     "name": "stdout",
     "output_type": "stream",
     "text": [
      "Package                           Version\n",
      "--------------------------------- --------------------\n",
      "absl-py                           1.1.0\n",
      "agate                             1.6.0\n",
      "agate-dbf                         0.2.0\n",
      "agate-excel                       0.2.3\n",
      "agate-sql                         0.5.2\n",
      "aiohttp                           3.8.1\n",
      "aiosignal                         1.2.0\n",
      "anyio                             3.6.1\n",
      "argon2-cffi                       21.3.0\n",
      "argon2-cffi-bindings              21.2.0\n",
      "asttokens                         2.0.5\n",
      "astunparse                        1.6.3\n",
      "async-timeout                     4.0.2\n",
      "attrs                             18.2.0\n",
      "awscli                            1.18.69\n",
      "Babel                             2.6.0\n",
      "backcall                          0.2.0\n",
      "beautifulsoup4                    4.11.1\n",
      "bleach                            5.0.1\n",
      "blis                              0.7.8\n",
      "boto3                             1.24.27\n",
      "botocore                          1.27.27\n",
      "cachetools                        5.2.0\n",
      "catalogue                         2.0.7\n",
      "certifi                           2019.11.28\n",
      "cffi                              1.15.1\n",
      "chardet                           3.0.4\n",
      "charset-normalizer                2.1.0\n",
      "click                             8.1.3\n",
      "click-completion                  0.5.2\n",
      "click-didyoumean                  0.3.0\n",
      "click-help-colors                 0.9.1\n",
      "cloudpickle                       2.1.0\n",
      "colorama                          0.4.3\n",
      "csvkit                            1.0.2\n",
      "cycler                            0.11.0\n",
      "cymem                             2.0.6\n",
      "Cython                            0.29.30\n",
      "datasets                          2.3.2\n",
      "dbfread                           2.0.7\n",
      "dbus-python                       1.2.16\n",
      "debugpy                           1.6.2\n",
      "decorator                         5.1.1\n",
      "defusedxml                        0.7.1\n",
      "dill                              0.3.5.1\n",
      "docutils                          0.16\n",
      "entrypoints                       0.4\n",
      "et-xmlfile                        1.0.1\n",
      "etils                             0.6.0\n",
      "executing                         0.8.3\n",
      "fastai                            2.7.11\n",
      "fastcore                          1.5.28\n",
      "fastdownload                      0.0.7\n",
      "fastjsonschema                    2.15.3\n",
      "fastprogress                      1.0.3\n",
      "filelock                          3.7.1\n",
      "flatbuffers                       1.12\n",
      "fonttools                         4.34.4\n",
      "frozenlist                        1.3.0\n",
      "fsspec                            2022.5.0\n",
      "future                            0.18.2\n",
      "gast                              0.4.0\n",
      "gdown                             4.5.1\n",
      "gitdb                             4.0.9\n",
      "GitPython                         3.1.27\n",
      "google-auth                       2.9.0\n",
      "google-auth-oauthlib              0.4.6\n",
      "google-pasta                      0.2.0\n",
      "gql                               3.0.0a6\n",
      "gradient                          2.0.5\n",
      "gradient-utils                    0.5.0\n",
      "graphql-core                      3.1.7\n",
      "greenlet                          1.1.2\n",
      "grpcio                            1.47.0\n",
      "h5py                              3.7.0\n",
      "halo                              0.0.31\n",
      "huggingface-hub                   0.8.1\n",
      "idna                              2.8\n",
      "imageio                           2.19.3\n",
      "importlib-metadata                4.12.0\n",
      "importlib-resources               5.8.0\n",
      "ipykernel                         6.15.1\n",
      "ipython                           8.4.0\n",
      "ipython-genutils                  0.2.0\n",
      "ipywidgets                        7.7.1\n",
      "isodate                           0.6.0\n",
      "jax                               0.3.14\n",
      "jaxlib                            0.3.8+cuda11.cudnn82\n",
      "jdcal                             1.0\n",
      "jedi                              0.18.1\n",
      "Jinja2                            3.1.2\n",
      "jmespath                          0.9.4\n",
      "joblib                            1.1.0\n",
      "json5                             0.9.8\n",
      "jsonify                           0.5\n",
      "jsonschema                        4.7.2\n",
      "jupyter                           1.0.0\n",
      "jupyter-client                    7.3.4\n",
      "jupyter-console                   6.4.4\n",
      "jupyter-contrib-core              0.4.0\n",
      "jupyter-contrib-nbextensions      0.5.1\n",
      "jupyter-core                      4.11.1\n",
      "jupyter-highlight-selected-word   0.2.0\n",
      "jupyter-latex-envs                1.4.6\n",
      "jupyter-nbextensions-configurator 0.4.1\n",
      "jupyter-server                    1.18.1\n",
      "jupyter-server-mathjax            0.2.5\n",
      "jupyterlab                        3.4.3\n",
      "jupyterlab-git                    0.37.1\n",
      "jupyterlab-pygments               0.2.2\n",
      "jupyterlab-server                 2.15.0\n",
      "jupyterlab-widgets                1.1.1\n",
      "kaggle                            1.5.13\n",
      "keras                             2.9.0\n",
      "Keras-Preprocessing               1.1.2\n",
      "kiwisolver                        1.4.3\n",
      "langcodes                         3.3.0\n",
      "leather                           0.3.3\n",
      "libclang                          14.0.1\n",
      "log-symbols                       0.0.14\n",
      "lxml                              4.5.0\n",
      "Markdown                          3.3.7\n",
      "MarkupSafe                        2.1.1\n",
      "marshmallow                       2.21.0\n",
      "matplotlib                        3.5.2\n",
      "matplotlib-inline                 0.1.3\n",
      "mistune                           0.8.4\n",
      "mpmath                            1.3.0\n",
      "multidict                         6.0.2\n",
      "multiprocess                      0.70.13\n",
      "murmurhash                        1.0.7\n",
      "nbclassic                         0.4.3\n",
      "nbclient                          0.6.6\n",
      "nbconvert                         6.5.0\n",
      "nbdime                            3.1.1\n",
      "nbformat                          5.4.0\n",
      "nest-asyncio                      1.5.5\n",
      "networkx                          2.8.4\n",
      "nltk                              3.7\n",
      "notebook                          6.4.12\n",
      "notebook-shim                     0.1.0\n",
      "numpy                             1.23.1\n",
      "oauthlib                          3.2.0\n",
      "opencv-python                     4.6.0.66\n",
      "openpyxl                          3.0.3\n",
      "opt-einsum                        3.3.0\n",
      "packaging                         21.3\n",
      "pandas                            1.4.3\n",
      "pandocfilters                     1.5.0\n",
      "parsedatetime                     2.4\n",
      "parso                             0.8.3\n",
      "pathy                             0.6.2\n",
      "pexpect                           4.8.0\n",
      "pickleshare                       0.7.5\n",
      "Pillow                            9.2.0\n",
      "pip                               22.2.2\n",
      "preshed                           3.0.6\n",
      "progressbar2                      4.0.0\n",
      "prometheus-client                 0.9.0\n",
      "prompt-toolkit                    3.0.30\n",
      "protobuf                          3.19.4\n",
      "psutil                            5.9.1\n",
      "ptyprocess                        0.7.0\n",
      "pure-eval                         0.2.2\n",
      "pyarrow                           8.0.0\n",
      "pyasn1                            0.4.8\n",
      "pyasn1-modules                    0.2.8\n",
      "pycparser                         2.21\n",
      "pydantic                          1.9.1\n",
      "Pygments                          2.12.0\n",
      "PyGObject                         3.36.0\n",
      "pymongo                           3.12.3\n",
      "pyparsing                         3.0.9\n",
      "pyrsistent                        0.18.1\n",
      "PySocks                           1.7.1\n",
      "python-apt                        2.0.0+ubuntu0.20.4.7\n",
      "python-dateutil                   2.8.2\n",
      "python-distutils-extra            2.39\n",
      "python-slugify                    4.0.0\n",
      "python-utils                      3.3.3\n",
      "pytimeparse                       1.1.5\n",
      "pytz                              2022.1\n",
      "PyWavelets                        1.3.0\n",
      "PyYAML                            5.4.1\n",
      "pyzmq                             23.2.0\n",
      "qtconsole                         5.3.1\n",
      "QtPy                              2.1.0\n",
      "regex                             2022.7.9\n",
      "requests                          2.28.1\n",
      "requests-oauthlib                 1.3.1\n",
      "requests-toolbelt                 0.9.1\n",
      "requests-unixsocket               0.2.0\n",
      "responses                         0.18.0\n",
      "roman                             2.0.0\n",
      "rsa                               4.0\n",
      "s3transfer                        0.6.0\n",
      "scikit-image                      0.19.3\n",
      "scikit-learn                      1.1.1\n",
      "scipy                             1.8.1\n",
      "seaborn                           0.11.2\n",
      "Send2Trash                        1.8.0\n",
      "sentence-transformers             2.2.2\n",
      "sentencepiece                     0.1.96\n",
      "setuptools                        63.1.0\n",
      "shellingham                       1.4.0\n",
      "six                               1.14.0\n",
      "smart-open                        5.2.1\n",
      "smmap                             5.0.0\n",
      "sniffio                           1.2.0\n",
      "soupsieve                         2.3.2.post1\n",
      "spacy                             3.4.0\n",
      "spacy-legacy                      3.0.9\n",
      "spacy-loggers                     1.0.2\n",
      "spinners                          0.0.24\n",
      "SQLAlchemy                        1.4.39\n",
      "srsly                             2.4.3\n",
      "stack-data                        0.3.0\n",
      "sympy                             1.11.1\n",
      "tensorboard                       2.9.1\n",
      "tensorboard-data-server           0.6.1\n",
      "tensorboard-plugin-wit            1.8.1\n",
      "tensorflow                        2.9.1\n",
      "tensorflow-estimator              2.9.0\n",
      "tensorflow-io-gcs-filesystem      0.26.0\n",
      "termcolor                         1.1.0\n",
      "terminado                         0.15.0\n",
      "terminaltables                    3.1.10\n",
      "thinc                             8.1.0\n",
      "threadpoolctl                     3.1.0\n",
      "tifffile                          2022.5.4\n",
      "tinycss2                          1.1.1\n",
      "tokenizers                        0.12.1\n",
      "torch                             1.12.0+cu116\n",
      "torchaudio                        0.12.0+cu116\n",
      "torchvision                       0.13.0+cu116\n",
      "tornado                           6.2\n",
      "tqdm                              4.64.0\n",
      "traitlets                         5.3.0\n",
      "transformers                      4.20.1\n",
      "typer                             0.4.2\n",
      "typing_extensions                 4.3.0\n",
      "Unidecode                         1.1.1\n",
      "urllib3                           1.26.10\n",
      "wasabi                            0.9.1\n",
      "wcwidth                           0.2.5\n",
      "webencodings                      0.5.1\n",
      "websocket-client                  0.57.0\n",
      "Werkzeug                          2.1.2\n",
      "wheel                             0.35.1\n",
      "widgetsnbextension                3.6.1\n",
      "wrapt                             1.14.1\n",
      "xgboost                           1.6.1\n",
      "xlrd                              1.1.0\n",
      "xxhash                            3.0.0\n",
      "yarl                              1.7.2\n",
      "zipp                              3.8.1\n"
     ]
    }
   ],
   "source": [
    "! pip list"
   ]
  },
  {
   "cell_type": "code",
   "execution_count": 2,
   "metadata": {
    "vscode": {
     "languageId": "python"
    }
   },
   "outputs": [
    {
     "name": "stdout",
     "output_type": "stream",
     "text": [
      "titanic.zip: Skipping, found more recently modified local copy (use --force to force download)\n"
     ]
    }
   ],
   "source": [
    "from pathlib import Path\n",
    "import os\n",
    "\n",
    "iskaggle = os.environ.get('KAGGLE_KERNEL_RUN_TYPE', '')\n",
    "if iskaggle:\n",
    "    path = Path('../input/titanic')\n",
    "else:\n",
    "    import zipfile,kaggle\n",
    "    path = Path('titanic')\n",
    "    kaggle.api.competition_download_cli(str(path))\n",
    "    zipfile.ZipFile(f'{path}.zip').extractall(path)"
   ]
  },
  {
   "cell_type": "code",
   "execution_count": 3,
   "metadata": {
    "vscode": {
     "languageId": "python"
    }
   },
   "outputs": [],
   "source": [
    "from fastai.tabular.all import *\n",
    "\n",
    "pd.options.display.float_format = '{:.2f}'.format\n",
    "set_seed(42)"
   ]
  },
  {
   "cell_type": "markdown",
   "metadata": {},
   "source": [
    "## Prep the data"
   ]
  },
  {
   "cell_type": "code",
   "execution_count": 4,
   "metadata": {
    "vscode": {
     "languageId": "python"
    }
   },
   "outputs": [],
   "source": [
    "df = pd.read_csv(path/'train.csv')"
   ]
  },
  {
   "cell_type": "code",
   "execution_count": 5,
   "metadata": {
    "vscode": {
     "languageId": "python"
    }
   },
   "outputs": [],
   "source": [
    "def add_features(df):\n",
    "    df['LogFare'] = np.log1p(df['Fare'])\n",
    "    df['Deck'] = df.Cabin.str[0].map(dict(A=\"ABC\", B=\"ABC\", C=\"ABC\", D=\"DE\", E=\"DE\", F=\"FG\", G=\"FG\"))\n",
    "    df['Family'] = df.SibSp+df.Parch\n",
    "    df['Alone'] = df.Family==1\n",
    "    df['TicketFreq'] = df.groupby('Ticket')['Ticket'].transform('count')\n",
    "    df['Title'] = df.Name.str.split(', ', expand=True)[1].str.split('.', expand=True)[0]\n",
    "    df['Title'] = df.Title.map(dict(Mr=\"Mr\",Miss=\"Miss\",Mrs=\"Mrs\",Master=\"Master\")).value_counts(dropna=False)\n",
    "\n",
    "add_features(df)"
   ]
  },
  {
   "cell_type": "code",
   "execution_count": 6,
   "metadata": {
    "vscode": {
     "languageId": "python"
    }
   },
   "outputs": [],
   "source": [
    "splits = RandomSplitter(seed=42)(df)"
   ]
  },
  {
   "cell_type": "code",
   "execution_count": 7,
   "metadata": {
    "vscode": {
     "languageId": "python"
    }
   },
   "outputs": [],
   "source": [
    "dls = TabularPandas(\n",
    "    df, splits=splits,\n",
    "    procs = [Categorify, FillMissing, Normalize],\n",
    "    cat_names=[\"Sex\",\"Pclass\",\"Embarked\",\"Deck\", \"Title\"],\n",
    "    cont_names=['Age', 'SibSp', 'Parch', 'LogFare', 'Alone', 'TicketFreq', 'Family'],\n",
    "    y_names=\"Survived\", y_block = CategoryBlock(),\n",
    ").dataloaders(path=\".\")"
   ]
  },
  {
   "cell_type": "markdown",
   "metadata": {},
   "source": [
    "## Train the model"
   ]
  },
  {
   "cell_type": "code",
   "execution_count": 16,
   "metadata": {
    "vscode": {
     "languageId": "python"
    }
   },
   "outputs": [],
   "source": [
    "learn = tabular_learner(dls, metrics=accuracy, layers=[10,10])"
   ]
  },
  {
   "cell_type": "code",
   "execution_count": 9,
   "metadata": {
    "vscode": {
     "languageId": "python"
    }
   },
   "outputs": [
    {
     "data": {
      "text/plain": [
       "SuggestedLRs(slide=0.0831763744354248, valley=0.007585775572806597)"
      ]
     },
     "execution_count": 9,
     "metadata": {},
     "output_type": "execute_result"
    },
    {
     "data": {
      "image/png": "[encoded data removed]",
      "text/plain": [
       "<Figure size 432x288 with 1 Axes>"
      ]
     },
     "metadata": {
      "needs_background": "light"
     },
     "output_type": "display_data"
    }
   ],
   "source": [
    "learn.lr_find(suggest_funcs=(slide, valley))"
   ]
  },
  {
   "cell_type": "code",
   "execution_count": 18,
   "metadata": {
    "vscode": {
     "languageId": "python"
    }
   },
   "outputs": [],
   "source": [
    "learn.fit(16, lr=0.03)"
   ]
  },
  {
   "cell_type": "markdown",
   "metadata": {},
   "source": [
    "## Submit to Kaggle"
   ]
  },
  {
   "cell_type": "code",
   "execution_count": 21,
   "metadata": {
    "vscode": {
     "languageId": "python"
    }
   },
   "outputs": [],
   "source": [
    "tst_df = pd.read_csv(path/'test.csv')\n",
    "tst_df['Fare'] = tst_df.Fare.fillna(0)\n",
    "add_features(tst_df)"
   ]
  },
  {
   "cell_type": "code",
   "execution_count": 22,
   "metadata": {
    "vscode": {
     "languageId": "python"
    }
   },
   "outputs": [],
   "source": [
    "tst_dl = learn.dls.test_dl(tst_df)"
   ]
  },
  {
   "cell_type": "code",
   "execution_count": null,
   "metadata": {
    "vscode": {
     "languageId": "python"
    }
   },
   "outputs": [],
   "source": [
    "preds,_ = learn.get_preds(dl=tst_dl)"
   ]
  },
  {
   "cell_type": "code",
   "execution_count": null,
   "metadata": {
    "vscode": {
     "languageId": "python"
    }
   },
   "outputs": [],
   "source": [
    "tst_df['Survived'] = (preds[:,1]>0.5).int()\n",
    "sub_df = tst_df[['PassengerId','Survived']]\n",
    "sub_df.to_csv('sub.csv', index=False)"
   ]
  },
  {
   "cell_type": "markdown",
   "metadata": {},
   "source": [
    "## Ensembling"
   ]
  },
  {
   "cell_type": "code",
   "execution_count": 23,
   "metadata": {
    "vscode": {
     "languageId": "python"
    }
   },
   "outputs": [],
   "source": [
    "def ensemble():\n",
    "    learn = tabular_learner(dls, metrics=accuracy, layers=[10,10])\n",
    "    with learn.no_bar(),learn.no_logging(): learn.fit(16, lr=0.03)\n",
    "    return learn.get_preds(dl=tst_dl)[0]"
   ]
  },
  {
   "cell_type": "code",
   "execution_count": 24,
   "metadata": {
    "vscode": {
     "languageId": "python"
    }
   },
   "outputs": [
    {
     "data": {
      "text/html": [
       "\n",
       "<style>\n",
       "    /* Turns off some styling */\n",
       "    progress {\n",
       "        /* gets rid of default border in Firefox and Opera. */\n",
       "        border: none;\n",
       "        /* Needs to be in here for Safari polyfill so background images work as expected. */\n",
       "        background-size: auto;\n",
       "    }\n",
       "    progress:not([value]), progress:not([value])::-webkit-progress-bar {\n",
       "        background: repeating-linear-gradient(45deg, #7e7e7e, #7e7e7e 10px, #5c5c5c 10px, #5c5c5c 20px);\n",
       "    }\n",
       "    .progress-bar-interrupted, .progress-bar-interrupted::-webkit-progress-bar {\n",
       "        background: #F44336;\n",
       "    }\n",
       "</style>\n"
      ],
      "text/plain": [
       "<IPython.core.display.HTML object>"
      ]
     },
     "metadata": {},
     "output_type": "display_data"
    }
   ],
   "source": [
    "learns = [ensemble() for _ in range(5)]"
   ]
  },
  {
   "cell_type": "code",
   "execution_count": 25,
   "metadata": {
    "vscode": {
     "languageId": "python"
    }
   },
   "outputs": [],
   "source": [
    "ens_preds = torch.stack(learns).mean(0)"
   ]
  },
  {
   "cell_type": "code",
   "execution_count": null,
   "metadata": {
    "vscode": {
     "languageId": "python"
    }
   },
   "outputs": [],
   "source": [
    "tst_df['Survived'] = (ens_preds[:,1]>0.5).int()\n",
    "sub_df = tst_df[['PassengerId','Survived']]\n",
    "sub_df.to_csv('ens_sub.csv', index=False)"
   ]
  },
  {
   "cell_type": "markdown",
   "metadata": {},
   "source": [
    "## Final thoughts"
   ]
  }
 ],
 "metadata": {
  "kernelspec": {
   "display_name": "Python 3 (ipykernel)",
   "language": "python",
   "name": "python3"
  }
 },
 "nbformat": 4,
 "nbformat_minor": 4
}
