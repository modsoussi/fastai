{
 "cells": [
  {
   "cell_type": "markdown",
   "metadata": {},
   "source": [
    "## Introduction"
   ]
  },
  {
   "cell_type": "markdown",
   "metadata": {},
   "source": [
    "Previously I've shown how to create a [linear model and neural net from scratch](https://www.kaggle.com/code/jhoward/linear-model-and-neural-net-from-scratch), and used it to create a solid submission to Kaggle's [Titanic](https://www.kaggle.com/competitions/titanic/) competition. However, for *tabular* data (i.e data that looks like spreadsheet or database tables, such as the data for the Titanic competition) it's more common to see good results by using ensembles of decision trees, such as Random Forests and Gradient Boosting Machines.\n",
    "\n",
    "In this notebook, we're going to learn all about Random Forests, by building one from scratch, and using it to submit to the Titanic competition! That might sound like a pretty big stretch, but I think you'll be surprised to discover how straightforward it actually is.\n",
    "\n",
    "We'll start by importing the basic set of libraries we normally need for data science work, and setting numpy to use our display space more efficiently:"
   ]
  },
  {
   "cell_type": "code",
   "execution_count": 1,
   "metadata": {
    "_cell_guid": "b1076dfc-b9ad-4769-8c92-a6c4dae69d19",
    "_uuid": "8f2839f25d086af736a60e9eeb907d3b93b6e0e5",
    "execution": {
     "iopub.execute_input": "2022-05-23T04:37:24.640765Z",
     "iopub.status.busy": "2022-05-23T04:37:24.640339Z",
     "iopub.status.idle": "2022-05-23T04:37:25.174055Z",
     "shell.execute_reply": "2022-05-23T04:37:25.172992Z",
     "shell.execute_reply.started": "2022-05-23T04:37:24.640663Z"
    }
   },
   "outputs": [],
   "source": [
    "from fastai.imports import *\n",
    "np.set_printoptions(linewidth=130)"
   ]
  },
  {
   "cell_type": "markdown",
   "metadata": {},
   "source": [
    "## Data preprocessing"
   ]
  },
  {
   "cell_type": "markdown",
   "metadata": {},
   "source": [
    "We'll create `DataFrame`s from the CSV files just like we did in the \"*linear model and neural net from scratch*\" notebook, and do much the same preprocessing (so go back and check that out if you're not already familiar with the dataset):"
   ]
  },
  {
   "cell_type": "code",
   "execution_count": 2,
   "metadata": {
    "execution": {
     "iopub.execute_input": "2022-05-23T04:37:26.152841Z",
     "iopub.status.busy": "2022-05-23T04:37:26.152518Z",
     "iopub.status.idle": "2022-05-23T04:37:26.205303Z",
     "shell.execute_reply": "2022-05-23T04:37:26.204112Z",
     "shell.execute_reply.started": "2022-05-23T04:37:26.152806Z"
    }
   },
   "outputs": [
    {
     "name": "stdout",
     "output_type": "stream",
     "text": [
      "Warning: Your Kaggle API key is readable by other users on this system! To fix this, you can run 'chmod 600 /Users/modsoussi/.kaggle/kaggle.json'\n",
      "Downloading titanic.zip to /Users/modsoussi/playground/fastai/course22\n"
     ]
    },
    {
     "name": "stderr",
     "output_type": "stream",
     "text": [
      "100%|██████████| 34.1k/34.1k [00:00<00:00, 960kB/s]"
     ]
    },
    {
     "name": "stdout",
     "output_type": "stream",
     "text": [
      "\n"
     ]
    },
    {
     "name": "stderr",
     "output_type": "stream",
     "text": [
      "\n"
     ]
    }
   ],
   "source": [
    "import os\n",
    "iskaggle = os.environ.get('KAGGLE_KERNEL_RUN_TYPE', '')\n",
    "\n",
    "if iskaggle: path = Path('../input/titanic')\n",
    "else:\n",
    "    import zipfile,kaggle\n",
    "    path = Path('titanic')\n",
    "    kaggle.api.competition_download_cli(str(path))\n",
    "    zipfile.ZipFile(f'{path}.zip').extractall(path)\n",
    "\n",
    "df = pd.read_csv(path/'train.csv')\n",
    "tst_df = pd.read_csv(path/'test.csv')\n",
    "modes = df.mode().iloc[0]"
   ]
  },
  {
   "cell_type": "markdown",
   "metadata": {},
   "source": [
    "One difference with Random Forests however is that we don't generally have to create *dummy variables* like we did for non-numeric columns in the linear models and neural network. Instead, we can just convert those fields to *categorical variables*, which internally in Pandas makes a list of all the unique values in the column, and replaces each value with a number. The number is just an index for looking up the value in the list of all unique values."
   ]
  },
  {
   "cell_type": "code",
   "execution_count": 3,
   "metadata": {
    "execution": {
     "iopub.execute_input": "2022-05-23T04:37:26.941371Z",
     "iopub.status.busy": "2022-05-23T04:37:26.941013Z",
     "iopub.status.idle": "2022-05-23T04:37:26.9692Z",
     "shell.execute_reply": "2022-05-23T04:37:26.968016Z",
     "shell.execute_reply.started": "2022-05-23T04:37:26.941337Z"
    }
   },
   "outputs": [],
   "source": [
    "def proc_data(df):\n",
    "    df['Fare'] = df.Fare.fillna(0)\n",
    "    df.fillna(modes, inplace=True)\n",
    "    df['LogFare'] = np.log1p(df['Fare'])\n",
    "    df['Embarked'] = pd.Categorical(df.Embarked)\n",
    "    df['Sex'] = pd.Categorical(df.Sex)\n",
    "\n",
    "proc_data(df)\n",
    "proc_data(tst_df)"
   ]
  },
  {
   "cell_type": "markdown",
   "metadata": {},
   "source": [
    "We'll make a list of the continuous, categorical, and dependent variables. Note that we no longer consider `Pclass` a categorical variable. That's because it's *ordered* (i.e 1st, 2nd, and 3rd class have an order), and decision trees, as we'll see, only care about order, not about absolute value."
   ]
  },
  {
   "cell_type": "code",
   "execution_count": 4,
   "metadata": {
    "execution": {
     "iopub.execute_input": "2022-05-23T04:37:27.728358Z",
     "iopub.status.busy": "2022-05-23T04:37:27.728077Z",
     "iopub.status.idle": "2022-05-23T04:37:27.733013Z",
     "shell.execute_reply": "2022-05-23T04:37:27.732245Z",
     "shell.execute_reply.started": "2022-05-23T04:37:27.728328Z"
    }
   },
   "outputs": [],
   "source": [
    "cats=[\"Sex\",\"Embarked\"]\n",
    "conts=['Age', 'SibSp', 'Parch', 'LogFare',\"Pclass\"]\n",
    "dep=\"Survived\""
   ]
  },
  {
   "cell_type": "markdown",
   "metadata": {},
   "source": [
    "Even although we've made the `cats` columns categorical, they are still shown by Pandas as their original values:"
   ]
  },
  {
   "cell_type": "code",
   "execution_count": 5,
   "metadata": {
    "execution": {
     "iopub.execute_input": "2022-05-23T04:37:28.64687Z",
     "iopub.status.busy": "2022-05-23T04:37:28.645995Z",
     "iopub.status.idle": "2022-05-23T04:37:28.657163Z",
     "shell.execute_reply": "2022-05-23T04:37:28.656275Z",
     "shell.execute_reply.started": "2022-05-23T04:37:28.646831Z"
    }
   },
   "outputs": [
    {
     "data": {
      "text/plain": [
       "0      male\n",
       "1    female\n",
       "2    female\n",
       "3    female\n",
       "4      male\n",
       "Name: Sex, dtype: category\n",
       "Categories (2, object): ['female', 'male']"
      ]
     },
     "execution_count": 5,
     "metadata": {},
     "output_type": "execute_result"
    }
   ],
   "source": [
    "df.Sex.head()"
   ]
  },
  {
   "cell_type": "markdown",
   "metadata": {},
   "source": [
    "However behind the scenes they're now stored as integers, with indices that are looked up in the `Categories` list shown in the output above. We can view the stored values by looking in the `cat.codes` attribute:"
   ]
  },
  {
   "cell_type": "code",
   "execution_count": 6,
   "metadata": {
    "execution": {
     "iopub.execute_input": "2022-05-23T04:37:29.606313Z",
     "iopub.status.busy": "2022-05-23T04:37:29.605974Z",
     "iopub.status.idle": "2022-05-23T04:37:29.613586Z",
     "shell.execute_reply": "2022-05-23T04:37:29.612892Z",
     "shell.execute_reply.started": "2022-05-23T04:37:29.606276Z"
    }
   },
   "outputs": [
    {
     "data": {
      "text/plain": [
       "0    1\n",
       "1    0\n",
       "2    0\n",
       "3    0\n",
       "4    1\n",
       "dtype: int8"
      ]
     },
     "execution_count": 6,
     "metadata": {},
     "output_type": "execute_result"
    }
   ],
   "source": [
    "df.Sex.cat.codes.head()"
   ]
  },
  {
   "cell_type": "markdown",
   "metadata": {},
   "source": [
    "## Binary splits"
   ]
  },
  {
   "cell_type": "markdown",
   "metadata": {},
   "source": [
    "Before we create a Random Forest or Gradient Boosting Machine, we'll first need to learn how to create a *decision tree*, from which both of these models are built.\n",
    "\n",
    "And to create a decision tree, we'll first need to create a *binary split*, since that's what a decision tree is built from.\n",
    "\n",
    "A binary split is where all rows are placed into one of two groups, based on whether they're above or below some threshold of some column. For example, we could split the rows of our dataset into males and females, by using the threshold `0.5` and the column `Sex` (since the values in the column are `0` for `female` and `1` for `male`). We can use a plot to see how that would split up our data -- we'll use the [Seaborn](https://seaborn.pydata.org/) library, which is a layer on top of [matplotlib](https://matplotlib.org/) that makes some useful charts easier to create, and more aesthetically pleasing by default:"
   ]
  },
  {
   "cell_type": "code",
   "execution_count": 8,
   "metadata": {},
   "outputs": [
    {
     "name": "stdout",
     "output_type": "stream",
     "text": [
      "Collecting seaborn\n",
      "  Downloading seaborn-0.12.2-py3-none-any.whl (293 kB)\n",
      "\u001b[2K     \u001b[90m━━━━━━━━━━━━━━━━━━━━━━━━━━━━━━━━━━━━━━━\u001b[0m \u001b[32m293.3/293.3 kB\u001b[0m \u001b[31m5.5 MB/s\u001b[0m eta \u001b[36m0:00:00\u001b[0ma \u001b[36m0:00:01\u001b[0m\n",
      "\u001b[?25hCollecting sympy\n",
      "  Downloading sympy-1.11.1-py3-none-any.whl (6.5 MB)\n",
      "\u001b[2K     \u001b[90m━━━━━━━━━━━━━━━━━━━━━━━━━━━━━━━━━━━━━━━━\u001b[0m \u001b[32m6.5/6.5 MB\u001b[0m \u001b[31m27.3 MB/s\u001b[0m eta \u001b[36m0:00:00\u001b[0m00:01\u001b[0m00:01\u001b[0m\n",
      "\u001b[?25hRequirement already satisfied: pandas>=0.25 in /Users/modsoussi/opt/anaconda3/envs/fastai/lib/python3.9/site-packages (from seaborn) (1.4.4)\n",
      "Requirement already satisfied: numpy!=1.24.0,>=1.17 in /Users/modsoussi/opt/anaconda3/envs/fastai/lib/python3.9/site-packages (from seaborn) (1.21.5)\n",
      "Requirement already satisfied: matplotlib!=3.6.1,>=3.1 in /Users/modsoussi/opt/anaconda3/envs/fastai/lib/python3.9/site-packages (from seaborn) (3.3.2)\n",
      "Collecting mpmath>=0.19\n",
      "  Downloading mpmath-1.3.0-py3-none-any.whl (536 kB)\n",
      "\u001b[2K     \u001b[90m━━━━━━━━━━━━━━━━━━━━━━━━━━━━━━━━━━━━━━\u001b[0m \u001b[32m536.2/536.2 kB\u001b[0m \u001b[31m25.3 MB/s\u001b[0m eta \u001b[36m0:00:00\u001b[0m\n",
      "\u001b[?25hRequirement already satisfied: cycler>=0.10 in /Users/modsoussi/opt/anaconda3/envs/fastai/lib/python3.9/site-packages (from matplotlib!=3.6.1,>=3.1->seaborn) (0.11.0)\n",
      "Requirement already satisfied: kiwisolver>=1.0.1 in /Users/modsoussi/opt/anaconda3/envs/fastai/lib/python3.9/site-packages (from matplotlib!=3.6.1,>=3.1->seaborn) (1.4.2)\n",
      "Requirement already satisfied: certifi>=2020.06.20 in /Users/modsoussi/opt/anaconda3/envs/fastai/lib/python3.9/site-packages (from matplotlib!=3.6.1,>=3.1->seaborn) (2022.12.7)\n",
      "Requirement already satisfied: pillow>=6.2.0 in /Users/modsoussi/opt/anaconda3/envs/fastai/lib/python3.9/site-packages (from matplotlib!=3.6.1,>=3.1->seaborn) (8.2.0)\n",
      "Requirement already satisfied: pyparsing!=2.0.4,!=2.1.2,!=2.1.6,>=2.0.3 in /Users/modsoussi/opt/anaconda3/envs/fastai/lib/python3.9/site-packages (from matplotlib!=3.6.1,>=3.1->seaborn) (3.0.9)\n",
      "Requirement already satisfied: python-dateutil>=2.1 in /Users/modsoussi/opt/anaconda3/envs/fastai/lib/python3.9/site-packages (from matplotlib!=3.6.1,>=3.1->seaborn) (2.8.2)\n",
      "Requirement already satisfied: pytz>=2020.1 in /Users/modsoussi/opt/anaconda3/envs/fastai/lib/python3.9/site-packages (from pandas>=0.25->seaborn) (2022.7.1)\n",
      "Requirement already satisfied: six>=1.5 in /Users/modsoussi/opt/anaconda3/envs/fastai/lib/python3.9/site-packages (from python-dateutil>=2.1->matplotlib!=3.6.1,>=3.1->seaborn) (1.16.0)\n",
      "Installing collected packages: mpmath, sympy, seaborn\n",
      "Successfully installed mpmath-1.3.0 seaborn-0.12.2 sympy-1.11.1\n"
     ]
    }
   ],
   "source": [
    "! pip install seaborn sympy"
   ]
  },
  {
   "cell_type": "code",
   "execution_count": 9,
   "metadata": {
    "execution": {
     "iopub.execute_input": "2022-05-23T04:37:31.229486Z",
     "iopub.status.busy": "2022-05-23T04:37:31.228601Z",
     "iopub.status.idle": "2022-05-23T04:37:32.45072Z",
     "shell.execute_reply": "2022-05-23T04:37:32.449794Z",
     "shell.execute_reply.started": "2022-05-23T04:37:31.229441Z"
    }
   },
   "outputs": [
    {
     "data": {
      "image/png": "[encoded data removed]",
      "text/plain": [
       "<Figure size 1100x500 with 2 Axes>"
      ]
     },
     "metadata": {},
     "output_type": "display_data"
    }
   ],
   "source": [
    "import seaborn as sns\n",
    "\n",
    "fig,axs = plt.subplots(1,2, figsize=(11,5))\n",
    "sns.barplot(data=df, y=dep, x=\"Sex\", ax=axs[0]).set(title=\"Survival rate\")\n",
    "sns.countplot(data=df, x=\"Sex\", ax=axs[1]).set(title=\"Histogram\");"
   ]
  },
  {
   "cell_type": "markdown",
   "metadata": {},
   "source": [
    "Here we see that (on the left) if we split the data into males and females, we'd have groups that have very different survival rates: >70% for females, and <20% for males. We can also see (on the right) that the split would be reasonably even, with over 300 passengers (out of around 900) in each group.\n",
    "\n",
    "We could create a very simple \"model\" which simply says that all females survive, and no males do. To do so, we better first split our data into a training and validation set, to see how accurate this approach turns out to be:"
   ]
  },
  {
   "cell_type": "code",
   "execution_count": 10,
   "metadata": {
    "execution": {
     "iopub.execute_input": "2022-05-23T04:37:32.688753Z",
     "iopub.status.busy": "2022-05-23T04:37:32.688257Z",
     "iopub.status.idle": "2022-05-23T04:37:32.908453Z",
     "shell.execute_reply": "2022-05-23T04:37:32.907399Z",
     "shell.execute_reply.started": "2022-05-23T04:37:32.688718Z"
    }
   },
   "outputs": [],
   "source": [
    "from numpy import random\n",
    "from sklearn.model_selection import train_test_split\n",
    "\n",
    "random.seed(42)\n",
    "trn_df,val_df = train_test_split(df, test_size=0.25)\n",
    "trn_df[cats] = trn_df[cats].apply(lambda x: x.cat.codes)\n",
    "val_df[cats] = val_df[cats].apply(lambda x: x.cat.codes)"
   ]
  },
  {
   "cell_type": "markdown",
   "metadata": {},
   "source": [
    "(In the previous step we also replaced the categorical variables with their integer codes, since some of the models we'll be building in a moment require that.)\n",
    "\n",
    "Now we can create our independent variables (the `x` variables) and dependent (the `y` variable):"
   ]
  },
  {
   "cell_type": "code",
   "execution_count": 11,
   "metadata": {
    "execution": {
     "iopub.execute_input": "2022-05-23T04:37:33.154552Z",
     "iopub.status.busy": "2022-05-23T04:37:33.153932Z",
     "iopub.status.idle": "2022-05-23T04:37:33.164771Z",
     "shell.execute_reply": "2022-05-23T04:37:33.163736Z",
     "shell.execute_reply.started": "2022-05-23T04:37:33.154505Z"
    }
   },
   "outputs": [],
   "source": [
    "def xs_y(df):\n",
    "    xs = df[cats+conts].copy()\n",
    "    return xs,df[dep] if dep in df else None\n",
    "\n",
    "trn_xs,trn_y = xs_y(trn_df)\n",
    "val_xs,val_y = xs_y(val_df)"
   ]
  },
  {
   "cell_type": "markdown",
   "metadata": {},
   "source": [
    "Here's the predictions for our extremely simple model, where `female` is coded as `0`:"
   ]
  },
  {
   "cell_type": "code",
   "execution_count": 12,
   "metadata": {
    "execution": {
     "iopub.execute_input": "2022-05-23T04:37:33.932259Z",
     "iopub.status.busy": "2022-05-23T04:37:33.931549Z",
     "iopub.status.idle": "2022-05-23T04:37:33.940681Z",
     "shell.execute_reply": "2022-05-23T04:37:33.93969Z",
     "shell.execute_reply.started": "2022-05-23T04:37:33.932218Z"
    }
   },
   "outputs": [],
   "source": [
    "preds = val_xs.Sex==0"
   ]
  },
  {
   "cell_type": "markdown",
   "metadata": {},
   "source": [
    "We'll use mean absolute error to measure how good this model is:"
   ]
  },
  {
   "cell_type": "code",
   "execution_count": 13,
   "metadata": {
    "execution": {
     "iopub.execute_input": "2022-05-23T04:37:34.580131Z",
     "iopub.status.busy": "2022-05-23T04:37:34.579605Z",
     "iopub.status.idle": "2022-05-23T04:37:34.588669Z",
     "shell.execute_reply": "2022-05-23T04:37:34.58794Z",
     "shell.execute_reply.started": "2022-05-23T04:37:34.580088Z"
    }
   },
   "outputs": [
    {
     "data": {
      "text/plain": [
       "0.21524663677130046"
      ]
     },
     "execution_count": 13,
     "metadata": {},
     "output_type": "execute_result"
    }
   ],
   "source": [
    "from sklearn.metrics import mean_absolute_error\n",
    "mean_absolute_error(val_y, preds)"
   ]
  },
  {
   "cell_type": "markdown",
   "metadata": {},
   "source": [
    "Alternatively, we could try splitting on a continuous column. We have to use a somewhat different chart to see how this might work -- here's an example of how we could look at `LogFare`:"
   ]
  },
  {
   "cell_type": "code",
   "execution_count": 14,
   "metadata": {
    "execution": {
     "iopub.execute_input": "2022-05-23T04:37:36.079566Z",
     "iopub.status.busy": "2022-05-23T04:37:36.078932Z",
     "iopub.status.idle": "2022-05-23T04:37:36.428338Z",
     "shell.execute_reply": "2022-05-23T04:37:36.427385Z",
     "shell.execute_reply.started": "2022-05-23T04:37:36.079515Z"
    }
   },
   "outputs": [
    {
     "data": {
      "image/png": "[encoded data removed]",
      "text/plain": [
       "<Figure size 1100x500 with 2 Axes>"
      ]
     },
     "metadata": {},
     "output_type": "display_data"
    }
   ],
   "source": [
    "df_fare = trn_df[trn_df.LogFare>0]\n",
    "fig,axs = plt.subplots(1,2, figsize=(11,5))\n",
    "sns.boxenplot(data=df_fare, x=dep, y=\"LogFare\", ax=axs[0])\n",
    "sns.kdeplot(data=df_fare, x=\"LogFare\", ax=axs[1]);"
   ]
  },
  {
   "cell_type": "markdown",
   "metadata": {},
   "source": [
    "The [boxenplot](https://seaborn.pydata.org/generated/seaborn.boxenplot.html) above shows quantiles of `LogFare` for each group of `Survived==0` and `Survived==1`. It shows that the average `LogFare` for passengers that didn't survive is around `2.5`, and for those that did it's around `3.2`. So it seems that people that paid more for their tickets were more likely to get put on a lifeboat.\n",
    "\n",
    "Let's create a simple model based on this observation:"
   ]
  },
  {
   "cell_type": "code",
   "execution_count": 15,
   "metadata": {
    "execution": {
     "iopub.execute_input": "2022-05-23T04:37:38.68033Z",
     "iopub.status.busy": "2022-05-23T04:37:38.680007Z",
     "iopub.status.idle": "2022-05-23T04:37:38.68637Z",
     "shell.execute_reply": "2022-05-23T04:37:38.685259Z",
     "shell.execute_reply.started": "2022-05-23T04:37:38.680295Z"
    }
   },
   "outputs": [],
   "source": [
    "preds = val_xs.LogFare>2.7"
   ]
  },
  {
   "cell_type": "markdown",
   "metadata": {},
   "source": [
    "...and test it out:"
   ]
  },
  {
   "cell_type": "code",
   "execution_count": 16,
   "metadata": {
    "execution": {
     "iopub.execute_input": "2022-05-23T04:37:40.107202Z",
     "iopub.status.busy": "2022-05-23T04:37:40.106891Z",
     "iopub.status.idle": "2022-05-23T04:37:40.114544Z",
     "shell.execute_reply": "2022-05-23T04:37:40.113805Z",
     "shell.execute_reply.started": "2022-05-23T04:37:40.107167Z"
    }
   },
   "outputs": [
    {
     "data": {
      "text/plain": [
       "0.336322869955157"
      ]
     },
     "execution_count": 16,
     "metadata": {},
     "output_type": "execute_result"
    }
   ],
   "source": [
    "mean_absolute_error(val_y, preds)"
   ]
  },
  {
   "cell_type": "markdown",
   "metadata": {},
   "source": [
    "This is quite a bit less accurate than our model that used `Sex` as the single binary split.\n",
    "\n",
    "Ideally, we'd like some way to try more columns and breakpoints more easily. We could create a function that returns how good our model is, in order to more quickly try out a few different splits. We'll create a `score` function to do this. Instead of returning the mean absolute error, we'll calculate a measure of *impurity* -- that is, how much the binary split creates two groups where the rows in a group are each similar to each other, or dissimilar.\n",
    "\n",
    "We can measure the similarity of rows inside a group by taking the standard deviation of the dependent variable. If it's higher, then it means the rows are more different to each other. We'll then multiply this by the number of rows, since a bigger group as more impact than a smaller group:"
   ]
  },
  {
   "cell_type": "code",
   "execution_count": 17,
   "metadata": {
    "execution": {
     "iopub.execute_input": "2022-05-23T04:37:40.630562Z",
     "iopub.status.busy": "2022-05-23T04:37:40.62976Z",
     "iopub.status.idle": "2022-05-23T04:37:40.636571Z",
     "shell.execute_reply": "2022-05-23T04:37:40.635377Z",
     "shell.execute_reply.started": "2022-05-23T04:37:40.630514Z"
    }
   },
   "outputs": [],
   "source": [
    "def _side_score(side, y):\n",
    "    tot = side.sum()\n",
    "    if tot<=1: return 0\n",
    "    return y[side].std()*tot"
   ]
  },
  {
   "cell_type": "markdown",
   "metadata": {},
   "source": [
    "Now we've got that written, we can calculate the score for a split by adding up the scores for the \"left hand side\" (lhs) and \"right hand side\" (rhs):"
   ]
  },
  {
   "cell_type": "code",
   "execution_count": 18,
   "metadata": {
    "execution": {
     "iopub.execute_input": "2022-05-23T04:37:41.160896Z",
     "iopub.status.busy": "2022-05-23T04:37:41.160555Z",
     "iopub.status.idle": "2022-05-23T04:37:41.166645Z",
     "shell.execute_reply": "2022-05-23T04:37:41.165803Z",
     "shell.execute_reply.started": "2022-05-23T04:37:41.160861Z"
    }
   },
   "outputs": [],
   "source": [
    "    \n",
    "def score(col, y, split):\n",
    "    lhs = col<=split\n",
    "    return (_side_score(lhs,y) + _side_score(~lhs,y))/len(y)"
   ]
  },
  {
   "cell_type": "markdown",
   "metadata": {},
   "source": [
    "For instance, here's the impurity score for the split on `Sex`:"
   ]
  },
  {
   "cell_type": "code",
   "execution_count": 19,
   "metadata": {
    "execution": {
     "iopub.execute_input": "2022-05-23T04:37:42.530883Z",
     "iopub.status.busy": "2022-05-23T04:37:42.529881Z",
     "iopub.status.idle": "2022-05-23T04:37:42.542981Z",
     "shell.execute_reply": "2022-05-23T04:37:42.541924Z",
     "shell.execute_reply.started": "2022-05-23T04:37:42.530826Z"
    }
   },
   "outputs": [
    {
     "data": {
      "text/plain": [
       "0.4078753098206398"
      ]
     },
     "execution_count": 19,
     "metadata": {},
     "output_type": "execute_result"
    }
   ],
   "source": [
    "score(trn_xs[\"Sex\"], trn_y, 0.5)"
   ]
  },
  {
   "cell_type": "markdown",
   "metadata": {},
   "source": [
    "...and for `LogFare`:"
   ]
  },
  {
   "cell_type": "code",
   "execution_count": 20,
   "metadata": {
    "execution": {
     "iopub.execute_input": "2022-05-23T04:37:43.657577Z",
     "iopub.status.busy": "2022-05-23T04:37:43.656642Z",
     "iopub.status.idle": "2022-05-23T04:37:43.665306Z",
     "shell.execute_reply": "2022-05-23T04:37:43.66471Z",
     "shell.execute_reply.started": "2022-05-23T04:37:43.657534Z"
    }
   },
   "outputs": [
    {
     "data": {
      "text/plain": [
       "0.4718087395209973"
      ]
     },
     "execution_count": 20,
     "metadata": {},
     "output_type": "execute_result"
    }
   ],
   "source": [
    "score(trn_xs[\"LogFare\"], trn_y, 2.7)"
   ]
  },
  {
   "cell_type": "markdown",
   "metadata": {},
   "source": [
    "As we'd expect from our earlier tests, `Sex` appears to be a better split.\n",
    "\n",
    "To make it easier to find the best binary split, we can create a simple interactive tool (note that this only works in Kaggle if you click \"Copy and Edit\" in the top right to open the notebook editor):"
   ]
  },
  {
   "cell_type": "code",
   "execution_count": 21,
   "metadata": {
    "execution": {
     "iopub.execute_input": "2022-05-23T04:37:44.159662Z",
     "iopub.status.busy": "2022-05-23T04:37:44.159112Z",
     "iopub.status.idle": "2022-05-23T04:37:44.20316Z",
     "shell.execute_reply": "2022-05-23T04:37:44.202647Z",
     "shell.execute_reply.started": "2022-05-23T04:37:44.159612Z"
    }
   },
   "outputs": [
    {
     "data": {
      "application/vnd.jupyter.widget-view+json": {
       "model_id": "fb27032361dd4dd1a0740c2fefc73d5f",
       "version_major": 2,
       "version_minor": 0
      },
      "text/plain": [
       "interactive(children=(Dropdown(description='nm', options=('Age', 'SibSp', 'Parch', 'LogFare', 'Pclass'), value…"
      ]
     },
     "metadata": {},
     "output_type": "display_data"
    }
   ],
   "source": [
    "def iscore(nm, split):\n",
    "    col = trn_xs[nm]\n",
    "    return score(col, trn_y, split)\n",
    "\n",
    "from ipywidgets import interact\n",
    "interact(nm=conts, split=15.5)(iscore);"
   ]
  },
  {
   "cell_type": "markdown",
   "metadata": {},
   "source": [
    "Try selecting different columns and split points using the dropdown and slider above. What splits can you find that increase the purity of the data?\n",
    "\n",
    "We can do the same thing for the categorical variables:"
   ]
  },
  {
   "cell_type": "code",
   "execution_count": 22,
   "metadata": {
    "execution": {
     "iopub.execute_input": "2022-05-23T04:37:45.542149Z",
     "iopub.status.busy": "2022-05-23T04:37:45.541373Z",
     "iopub.status.idle": "2022-05-23T04:37:45.587574Z",
     "shell.execute_reply": "2022-05-23T04:37:45.58671Z",
     "shell.execute_reply.started": "2022-05-23T04:37:45.542101Z"
    }
   },
   "outputs": [
    {
     "data": {
      "application/vnd.jupyter.widget-view+json": {
       "model_id": "8676b06d7ecc4e5e932453956fc4e872",
       "version_major": 2,
       "version_minor": 0
      },
      "text/plain": [
       "interactive(children=(Dropdown(description='nm', options=('Sex', 'Embarked'), value='Sex'), IntSlider(value=2,…"
      ]
     },
     "metadata": {},
     "output_type": "display_data"
    }
   ],
   "source": [
    "interact(nm=cats, split=2)(iscore);"
   ]
  },
  {
   "cell_type": "markdown",
   "metadata": {},
   "source": [
    "That works well enough, but it's rather slow and fiddly. Perhaps we could get the computer to automatically find the best split point for a column for us? For example, to find the best split point for `age` we'd first need to make a list of all the possible split points (i.e all the unique values of that field)...:"
   ]
  },
  {
   "cell_type": "code",
   "execution_count": 23,
   "metadata": {
    "execution": {
     "iopub.execute_input": "2022-05-23T04:37:47.225685Z",
     "iopub.status.busy": "2022-05-23T04:37:47.225336Z",
     "iopub.status.idle": "2022-05-23T04:37:47.234728Z",
     "shell.execute_reply": "2022-05-23T04:37:47.233526Z",
     "shell.execute_reply.started": "2022-05-23T04:37:47.225646Z"
    }
   },
   "outputs": [
    {
     "data": {
      "text/plain": [
       "array([ 0.42,  0.67,  0.75,  0.83,  0.92,  1.  ,  2.  ,  3.  ,  4.  ,  5.  ,  6.  ,  7.  ,  8.  ,  9.  , 10.  , 11.  , 12.  ,\n",
       "       13.  , 14.  , 14.5 , 15.  , 16.  , 17.  , 18.  , 19.  , 20.  , 21.  , 22.  , 23.  , 24.  , 24.5 , 25.  , 26.  , 27.  ,\n",
       "       28.  , 28.5 , 29.  , 30.  , 31.  , 32.  , 32.5 , 33.  , 34.  , 34.5 , 35.  , 36.  , 36.5 , 37.  , 38.  , 39.  , 40.  ,\n",
       "       40.5 , 41.  , 42.  , 43.  , 44.  , 45.  , 45.5 , 46.  , 47.  , 48.  , 49.  , 50.  , 51.  , 52.  , 53.  , 54.  , 55.  ,\n",
       "       55.5 , 56.  , 57.  , 58.  , 59.  , 60.  , 61.  , 62.  , 64.  , 65.  , 70.  , 70.5 , 74.  , 80.  ])"
      ]
     },
     "execution_count": 23,
     "metadata": {},
     "output_type": "execute_result"
    }
   ],
   "source": [
    "nm = \"Age\"\n",
    "col = trn_xs[nm]\n",
    "unq = col.unique()\n",
    "unq.sort()\n",
    "unq"
   ]
  },
  {
   "cell_type": "markdown",
   "metadata": {},
   "source": [
    "...and find which index of those values is where `score()` is the lowest:"
   ]
  },
  {
   "cell_type": "code",
   "execution_count": 24,
   "metadata": {
    "execution": {
     "iopub.execute_input": "2022-05-23T04:37:49.070221Z",
     "iopub.status.busy": "2022-05-23T04:37:49.069942Z",
     "iopub.status.idle": "2022-05-23T04:37:49.150766Z",
     "shell.execute_reply": "2022-05-23T04:37:49.14992Z",
     "shell.execute_reply.started": "2022-05-23T04:37:49.070191Z"
    }
   },
   "outputs": [
    {
     "data": {
      "text/plain": [
       "6.0"
      ]
     },
     "execution_count": 24,
     "metadata": {},
     "output_type": "execute_result"
    }
   ],
   "source": [
    "scores = np.array([score(col, trn_y, o) for o in unq if not np.isnan(o)])\n",
    "unq[scores.argmin()]"
   ]
  },
  {
   "cell_type": "markdown",
   "metadata": {},
   "source": [
    "Based on this, it looks like, for instance, that for the `Age` column, `6` is the optimal cutoff according to our training set.\n",
    "\n",
    "We can write a little function that implements this idea:"
   ]
  },
  {
   "cell_type": "code",
   "execution_count": 26,
   "metadata": {
    "execution": {
     "iopub.execute_input": "2022-05-23T04:37:50.094341Z",
     "iopub.status.busy": "2022-05-23T04:37:50.093867Z",
     "iopub.status.idle": "2022-05-23T04:37:50.175498Z",
     "shell.execute_reply": "2022-05-23T04:37:50.174679Z",
     "shell.execute_reply.started": "2022-05-23T04:37:50.094305Z"
    }
   },
   "outputs": [
    {
     "data": {
      "text/plain": [
       "(6.0, 0.47831671750899085)"
      ]
     },
     "execution_count": 26,
     "metadata": {},
     "output_type": "execute_result"
    }
   ],
   "source": [
    "def min_col(df, nm):\n",
    "    col,y = df[nm],df[dep]\n",
    "    unq = col.dropna().unique()\n",
    "    scores = np.array([score(col, y, o) for o in unq if not np.isnan(o)])\n",
    "    idx = scores.argmin()\n",
    "    return unq[idx],scores[idx]\n",
    "\n",
    "min_col(trn_df, \"Age\")"
   ]
  },
  {
   "cell_type": "markdown",
   "metadata": {},
   "source": [
    "Let's try all the columns:"
   ]
  },
  {
   "cell_type": "code",
   "execution_count": 27,
   "metadata": {
    "execution": {
     "iopub.execute_input": "2022-05-23T04:37:51.295064Z",
     "iopub.status.busy": "2022-05-23T04:37:51.294528Z",
     "iopub.status.idle": "2022-05-23T04:37:51.577522Z",
     "shell.execute_reply": "2022-05-23T04:37:51.57682Z",
     "shell.execute_reply.started": "2022-05-23T04:37:51.29503Z"
    }
   },
   "outputs": [
    {
     "data": {
      "text/plain": [
       "{'Sex': (0, 0.4078753098206398),\n",
       " 'Embarked': (0, 0.478833425731479),\n",
       " 'Age': (6.0, 0.47831671750899085),\n",
       " 'SibSp': (4, 0.4783740258817423),\n",
       " 'Parch': (0, 0.4805296527841601),\n",
       " 'LogFare': (2.4390808375825834, 0.4620823937736595),\n",
       " 'Pclass': (2, 0.4604826188580666)}"
      ]
     },
     "execution_count": 27,
     "metadata": {},
     "output_type": "execute_result"
    }
   ],
   "source": [
    "cols = cats+conts\n",
    "{o:min_col(trn_df, o) for o in cols}"
   ]
  },
  {
   "cell_type": "markdown",
   "metadata": {},
   "source": [
    "According to this, `Sex<=0` is the best split we can use.\n",
    "\n",
    "We've just re-invented the [OneR](https://link.springer.com/article/10.1023/A:1022631118932) classifier (or at least, a minor variant of it), which was found to be one of the most effective classifiers in real-world datasets, compared to the algorithms in use in 1993. Since it's so simple and surprisingly effective, it makes for a great *baseline* -- that is, a starting point that you can use to compare your more sophisticated models to.\n",
    "\n",
    "We found earlier that out OneR rule had an error of around `0.215`, so we'll keep that in mind as we try out more sophisticated approaches."
   ]
  },
  {
   "cell_type": "markdown",
   "metadata": {},
   "source": [
    "## Creating a decision tree"
   ]
  },
  {
   "cell_type": "markdown",
   "metadata": {},
   "source": [
    "How can we improve our OneR classifier, which predicts survival based only on `Sex`?\n",
    "\n",
    "How about we take each of our two groups, `female` and `male`, and create one more binary split for each of them. That is: fine the single best split for females, and the single best split for males. To do this, all we have to do is repeat the previous section's steps, once for males, and once for females.\n",
    "\n",
    "First, we'll remove `Sex` from the list of possible splits (since we've already used it, and there's only one possible split for that binary column), and create our two groups:"
   ]
  },
  {
   "cell_type": "code",
   "execution_count": 28,
   "metadata": {
    "execution": {
     "iopub.execute_input": "2022-05-23T04:37:52.822448Z",
     "iopub.status.busy": "2022-05-23T04:37:52.821912Z",
     "iopub.status.idle": "2022-05-23T04:37:52.829494Z",
     "shell.execute_reply": "2022-05-23T04:37:52.82831Z",
     "shell.execute_reply.started": "2022-05-23T04:37:52.822405Z"
    }
   },
   "outputs": [],
   "source": [
    "cols.remove(\"Sex\")\n",
    "ismale = trn_df.Sex==1\n",
    "males,females = trn_df[ismale],trn_df[~ismale]"
   ]
  },
  {
   "cell_type": "markdown",
   "metadata": {},
   "source": [
    "Now let's find the single best binary split for males...:"
   ]
  },
  {
   "cell_type": "code",
   "execution_count": 29,
   "metadata": {
    "execution": {
     "iopub.execute_input": "2022-05-23T04:37:54.372844Z",
     "iopub.status.busy": "2022-05-23T04:37:54.372319Z",
     "iopub.status.idle": "2022-05-23T04:37:54.585566Z",
     "shell.execute_reply": "2022-05-23T04:37:54.584693Z",
     "shell.execute_reply.started": "2022-05-23T04:37:54.372801Z"
    }
   },
   "outputs": [
    {
     "data": {
      "text/plain": [
       "{'Embarked': (0, 0.387558187041091),\n",
       " 'Age': (6.0, 0.37398283710105873),\n",
       " 'SibSp': (4, 0.38758642275862637),\n",
       " 'Parch': (0, 0.3874704821461953),\n",
       " 'LogFare': (2.803360380906535, 0.38048562317581447),\n",
       " 'Pclass': (1, 0.3815544200436083)}"
      ]
     },
     "execution_count": 29,
     "metadata": {},
     "output_type": "execute_result"
    }
   ],
   "source": [
    "{o:min_col(males, o) for o in cols}"
   ]
  },
  {
   "cell_type": "markdown",
   "metadata": {},
   "source": [
    "...and for females:"
   ]
  },
  {
   "cell_type": "code",
   "execution_count": 30,
   "metadata": {
    "execution": {
     "iopub.execute_input": "2022-05-23T04:37:55.970401Z",
     "iopub.status.busy": "2022-05-23T04:37:55.969784Z",
     "iopub.status.idle": "2022-05-23T04:37:56.171762Z",
     "shell.execute_reply": "2022-05-23T04:37:56.170711Z",
     "shell.execute_reply.started": "2022-05-23T04:37:55.970348Z"
    }
   },
   "outputs": [
    {
     "data": {
      "text/plain": [
       "{'Embarked': (0, 0.4295252982857326),\n",
       " 'Age': (50.0, 0.4225927658431646),\n",
       " 'SibSp': (4, 0.42319212059713585),\n",
       " 'Parch': (3, 0.4193314500446157),\n",
       " 'LogFare': (4.256321678298823, 0.413505983329114),\n",
       " 'Pclass': (2, 0.3335388911567602)}"
      ]
     },
     "execution_count": 30,
     "metadata": {},
     "output_type": "execute_result"
    }
   ],
   "source": [
    "{o:min_col(females, o) for o in cols}"
   ]
  },
  {
   "cell_type": "markdown",
   "metadata": {},
   "source": [
    "We can see that the best next binary split for males is `Age<=6`, and for females is `Pclass<=2`.\n",
    "\n",
    "By adding these rules, we have created a *decision tree*, where our model will first check whether `Sex` is female or male, and depending on the result will then check either the above `Age` or `Pclass` rules, as appropriate. We could then repeat the process, creating new additional rules for each of the four groups we've now created.\n",
    "\n",
    "Rather than writing that code manually, we can use `DecisionTreeClassifier`, from *sklearn*, which does exactly that for us:"
   ]
  },
  {
   "cell_type": "code",
   "execution_count": 31,
   "metadata": {
    "execution": {
     "iopub.execute_input": "2022-05-23T04:37:57.022761Z",
     "iopub.status.busy": "2022-05-23T04:37:57.022405Z",
     "iopub.status.idle": "2022-05-23T04:37:57.201325Z",
     "shell.execute_reply": "2022-05-23T04:37:57.200214Z",
     "shell.execute_reply.started": "2022-05-23T04:37:57.022724Z"
    }
   },
   "outputs": [],
   "source": [
    "from sklearn.tree import DecisionTreeClassifier, export_graphviz\n",
    "\n",
    "m = DecisionTreeClassifier(max_leaf_nodes=4).fit(trn_xs, trn_y);"
   ]
  },
  {
   "cell_type": "markdown",
   "metadata": {},
   "source": [
    "One handy feature or this class is that it provides a function for drawing a tree representing the rules:"
   ]
  },
  {
   "cell_type": "code",
   "execution_count": 32,
   "metadata": {
    "execution": {
     "iopub.execute_input": "2022-05-23T04:37:57.253844Z",
     "iopub.status.busy": "2022-05-23T04:37:57.253469Z",
     "iopub.status.idle": "2022-05-23T04:37:57.274531Z",
     "shell.execute_reply": "2022-05-23T04:37:57.27374Z",
     "shell.execute_reply.started": "2022-05-23T04:37:57.253805Z"
    }
   },
   "outputs": [],
   "source": [
    "import graphviz\n",
    "\n",
    "def draw_tree(t, df, size=10, ratio=0.6, precision=2, **kwargs):\n",
    "    s=export_graphviz(t, out_file=None, feature_names=df.columns, filled=True, rounded=True,\n",
    "                      special_characters=True, rotate=False, precision=precision, **kwargs)\n",
    "    return graphviz.Source(re.sub('Tree {', f'Tree {{ size={size}; ratio={ratio}', s))"
   ]
  },
  {
   "cell_type": "code",
   "execution_count": 33,
   "metadata": {
    "execution": {
     "iopub.execute_input": "2022-05-23T04:37:58.207169Z",
     "iopub.status.busy": "2022-05-23T04:37:58.206306Z",
     "iopub.status.idle": "2022-05-23T04:37:59.286087Z",
     "shell.execute_reply": "2022-05-23T04:37:59.284841Z",
     "shell.execute_reply.started": "2022-05-23T04:37:58.207112Z"
    }
   },
   "outputs": [
    {
     "data": {
      "image/svg+xml": "<?xml version=\"1.0\" encoding=\"UTF-8\" standalone=\"no\"?>\n<!DOCTYPE svg PUBLIC \"-//W3C//DTD SVG 1.1//EN\"\n \"http://www.w3.org/Graphics/SVG/1.1/DTD/svg11.dtd\">\n<!-- Generated by graphviz version 7.1.0 (20230121.1956)\n -->\n<!-- Title: Tree Pages: 1 -->\n<svg width=\"507pt\" height=\"307pt\"\n viewBox=\"0.00 0.00 506.50 306.80\" xmlns=\"http://www.w3.org/2000/svg\" xmlns:xlink=\"http://www.w3.org/1999/xlink\">\n<g id=\"graph0\" class=\"graph\" transform=\"scale(1 1) rotate(0) translate(4 302.8)\">\n<title>Tree</title>\n<polygon fill=\"white\" stroke=\"none\" points=\"-4,4 -4,-302.8 502.5,-302.8 502.5,4 -4,4\"/>\n<!-- 0 -->\n<g id=\"node1\" class=\"node\">\n<title>0</title>\n<path fill=\"#f5ceb2\" stroke=\"black\" d=\"M297.5,-294C297.5,-294 196.5,-294 196.5,-294 190.5,-294 184.5,-288 184.5,-282 184.5,-282 184.5,-238 184.5,-238 184.5,-232 190.5,-226 196.5,-226 196.5,-226 297.5,-226 297.5,-226 303.5,-226 309.5,-232 309.5,-238 309.5,-238 309.5,-282 309.5,-282 309.5,-288 303.5,-294 297.5,-294\"/>\n<text text-anchor=\"start\" x=\"218\" y=\"-278.8\" font-family=\"Helvetica,sans-Serif\" font-size=\"14.00\">Sex ≤ 0.5</text>\n<text text-anchor=\"start\" x=\"215\" y=\"-263.8\" font-family=\"Helvetica,sans-Serif\" font-size=\"14.00\">gini = 0.47</text>\n<text text-anchor=\"start\" x=\"202\" y=\"-248.8\" font-family=\"Helvetica,sans-Serif\" font-size=\"14.00\">samples = 668</text>\n<text text-anchor=\"start\" x=\"192.5\" y=\"-233.8\" font-family=\"Helvetica,sans-Serif\" font-size=\"14.00\">value = [415, 253]</text>\n</g>\n<!-- 1 -->\n<g id=\"node2\" class=\"node\">\n<title>1</title>\n<path fill=\"#7ebfee\" stroke=\"black\" d=\"M226.5,-175C226.5,-175 133.5,-175 133.5,-175 127.5,-175 121.5,-169 121.5,-163 121.5,-163 121.5,-119 121.5,-119 121.5,-113 127.5,-107 133.5,-107 133.5,-107 226.5,-107 226.5,-107 232.5,-107 238.5,-113 238.5,-119 238.5,-119 238.5,-163 238.5,-163 238.5,-169 232.5,-175 226.5,-175\"/>\n<text text-anchor=\"start\" x=\"143\" y=\"-159.8\" font-family=\"Helvetica,sans-Serif\" font-size=\"14.00\">Pclass ≤ 2.5</text>\n<text text-anchor=\"start\" x=\"148\" y=\"-144.8\" font-family=\"Helvetica,sans-Serif\" font-size=\"14.00\">gini = 0.38</text>\n<text text-anchor=\"start\" x=\"135\" y=\"-129.8\" font-family=\"Helvetica,sans-Serif\" font-size=\"14.00\">samples = 229</text>\n<text text-anchor=\"start\" x=\"129.5\" y=\"-114.8\" font-family=\"Helvetica,sans-Serif\" font-size=\"14.00\">value = [59, 170]</text>\n</g>\n<!-- 0&#45;&gt;1 -->\n<g id=\"edge1\" class=\"edge\">\n<title>0&#45;&gt;1</title>\n<path fill=\"none\" stroke=\"black\" d=\"M227.98,-225.79C220.77,-213.19 212.44,-198.65 204.77,-185.26\"/>\n<polygon fill=\"black\" stroke=\"black\" points=\"207.83,-183.55 199.82,-176.61 201.75,-187.03 207.83,-183.55\"/>\n<text text-anchor=\"middle\" x=\"192.51\" y=\"-195.72\" font-family=\"Helvetica,sans-Serif\" font-size=\"14.00\">True</text>\n</g>\n<!-- 2 -->\n<g id=\"node5\" class=\"node\">\n<title>2</title>\n<path fill=\"#eb9e67\" stroke=\"black\" d=\"M361.5,-175C361.5,-175 268.5,-175 268.5,-175 262.5,-175 256.5,-169 256.5,-163 256.5,-163 256.5,-119 256.5,-119 256.5,-113 262.5,-107 268.5,-107 268.5,-107 361.5,-107 361.5,-107 367.5,-107 373.5,-113 373.5,-119 373.5,-119 373.5,-163 373.5,-163 373.5,-169 367.5,-175 361.5,-175\"/>\n<text text-anchor=\"start\" x=\"286\" y=\"-159.8\" font-family=\"Helvetica,sans-Serif\" font-size=\"14.00\">Age ≤ 6.5</text>\n<text text-anchor=\"start\" x=\"283\" y=\"-144.8\" font-family=\"Helvetica,sans-Serif\" font-size=\"14.00\">gini = 0.31</text>\n<text text-anchor=\"start\" x=\"270\" y=\"-129.8\" font-family=\"Helvetica,sans-Serif\" font-size=\"14.00\">samples = 439</text>\n<text text-anchor=\"start\" x=\"264.5\" y=\"-114.8\" font-family=\"Helvetica,sans-Serif\" font-size=\"14.00\">value = [356, 83]</text>\n</g>\n<!-- 0&#45;&gt;2 -->\n<g id=\"edge4\" class=\"edge\">\n<title>0&#45;&gt;2</title>\n<path fill=\"none\" stroke=\"black\" d=\"M266.3,-225.79C273.7,-213.06 282.24,-198.37 290.08,-184.87\"/>\n<polygon fill=\"black\" stroke=\"black\" points=\"292.89,-187.01 294.89,-176.61 286.84,-183.49 292.89,-187.01\"/>\n<text text-anchor=\"middle\" x=\"302.05\" y=\"-195.76\" font-family=\"Helvetica,sans-Serif\" font-size=\"14.00\">False</text>\n</g>\n<!-- 3 -->\n<g id=\"node3\" class=\"node\">\n<title>3</title>\n<path fill=\"#40a0e6\" stroke=\"black\" d=\"M98,-56.5C98,-56.5 12,-56.5 12,-56.5 6,-56.5 0,-50.5 0,-44.5 0,-44.5 0,-15.5 0,-15.5 0,-9.5 6,-3.5 12,-3.5 12,-3.5 98,-3.5 98,-3.5 104,-3.5 110,-9.5 110,-15.5 110,-15.5 110,-44.5 110,-44.5 110,-50.5 104,-56.5 98,-56.5\"/>\n<text text-anchor=\"start\" x=\"23\" y=\"-41.3\" font-family=\"Helvetica,sans-Serif\" font-size=\"14.00\">gini = 0.06</text>\n<text text-anchor=\"start\" x=\"10\" y=\"-26.3\" font-family=\"Helvetica,sans-Serif\" font-size=\"14.00\">samples = 120</text>\n<text text-anchor=\"start\" x=\"8\" y=\"-11.3\" font-family=\"Helvetica,sans-Serif\" font-size=\"14.00\">value = [4, 116]</text>\n</g>\n<!-- 1&#45;&gt;3 -->\n<g id=\"edge2\" class=\"edge\">\n<title>1&#45;&gt;3</title>\n<path fill=\"none\" stroke=\"black\" d=\"M141.82,-106.7C126.31,-93.18 108.43,-77.59 92.95,-64.09\"/>\n<polygon fill=\"black\" stroke=\"black\" points=\"95.6,-61.76 85.76,-57.83 91,-67.04 95.6,-61.76\"/>\n</g>\n<!-- 4 -->\n<g id=\"node4\" class=\"node\">\n<title>4</title>\n<path fill=\"#fffdfb\" stroke=\"black\" d=\"M226,-56.5C226,-56.5 140,-56.5 140,-56.5 134,-56.5 128,-50.5 128,-44.5 128,-44.5 128,-15.5 128,-15.5 128,-9.5 134,-3.5 140,-3.5 140,-3.5 226,-3.5 226,-3.5 232,-3.5 238,-9.5 238,-15.5 238,-15.5 238,-44.5 238,-44.5 238,-50.5 232,-56.5 226,-56.5\"/>\n<text text-anchor=\"start\" x=\"155\" y=\"-41.3\" font-family=\"Helvetica,sans-Serif\" font-size=\"14.00\">gini = 0.5</text>\n<text text-anchor=\"start\" x=\"138\" y=\"-26.3\" font-family=\"Helvetica,sans-Serif\" font-size=\"14.00\">samples = 109</text>\n<text text-anchor=\"start\" x=\"136\" y=\"-11.3\" font-family=\"Helvetica,sans-Serif\" font-size=\"14.00\">value = [55, 54]</text>\n</g>\n<!-- 1&#45;&gt;4 -->\n<g id=\"edge3\" class=\"edge\">\n<title>1&#45;&gt;4</title>\n<path fill=\"none\" stroke=\"black\" d=\"M180.92,-106.7C181.25,-94.56 181.63,-80.75 181.97,-68.28\"/>\n<polygon fill=\"black\" stroke=\"black\" points=\"185.47,-68.44 182.25,-58.34 178.47,-68.24 185.47,-68.44\"/>\n</g>\n<!-- 5 -->\n<g id=\"node6\" class=\"node\">\n<title>5</title>\n<path fill=\"#88c4ef\" stroke=\"black\" d=\"M351,-56.5C351,-56.5 273,-56.5 273,-56.5 267,-56.5 261,-50.5 261,-44.5 261,-44.5 261,-15.5 261,-15.5 261,-9.5 267,-3.5 273,-3.5 273,-3.5 351,-3.5 351,-3.5 357,-3.5 363,-9.5 363,-15.5 363,-15.5 363,-44.5 363,-44.5 363,-50.5 357,-56.5 351,-56.5\"/>\n<text text-anchor=\"start\" x=\"280\" y=\"-41.3\" font-family=\"Helvetica,sans-Serif\" font-size=\"14.00\">gini = 0.41</text>\n<text text-anchor=\"start\" x=\"271\" y=\"-26.3\" font-family=\"Helvetica,sans-Serif\" font-size=\"14.00\">samples = 21</text>\n<text text-anchor=\"start\" x=\"269\" y=\"-11.3\" font-family=\"Helvetica,sans-Serif\" font-size=\"14.00\">value = [6, 15]</text>\n</g>\n<!-- 2&#45;&gt;5 -->\n<g id=\"edge5\" class=\"edge\">\n<title>2&#45;&gt;5</title>\n<path fill=\"none\" stroke=\"black\" d=\"M314.08,-106.7C313.75,-94.56 313.37,-80.75 313.03,-68.28\"/>\n<polygon fill=\"black\" stroke=\"black\" points=\"316.53,-68.24 312.75,-58.34 309.53,-68.44 316.53,-68.24\"/>\n</g>\n<!-- 6 -->\n<g id=\"node7\" class=\"node\">\n<title>6</title>\n<path fill=\"#ea995f\" stroke=\"black\" d=\"M486.5,-56.5C486.5,-56.5 393.5,-56.5 393.5,-56.5 387.5,-56.5 381.5,-50.5 381.5,-44.5 381.5,-44.5 381.5,-15.5 381.5,-15.5 381.5,-9.5 387.5,-3.5 393.5,-3.5 393.5,-3.5 486.5,-3.5 486.5,-3.5 492.5,-3.5 498.5,-9.5 498.5,-15.5 498.5,-15.5 498.5,-44.5 498.5,-44.5 498.5,-50.5 492.5,-56.5 486.5,-56.5\"/>\n<text text-anchor=\"start\" x=\"408\" y=\"-41.3\" font-family=\"Helvetica,sans-Serif\" font-size=\"14.00\">gini = 0.27</text>\n<text text-anchor=\"start\" x=\"395\" y=\"-26.3\" font-family=\"Helvetica,sans-Serif\" font-size=\"14.00\">samples = 418</text>\n<text text-anchor=\"start\" x=\"389.5\" y=\"-11.3\" font-family=\"Helvetica,sans-Serif\" font-size=\"14.00\">value = [350, 68]</text>\n</g>\n<!-- 2&#45;&gt;6 -->\n<g id=\"edge6\" class=\"edge\">\n<title>2&#45;&gt;6</title>\n<path fill=\"none\" stroke=\"black\" d=\"M353.18,-106.7C368.69,-93.18 386.57,-77.59 402.05,-64.09\"/>\n<polygon fill=\"black\" stroke=\"black\" points=\"404,-67.04 409.24,-57.83 399.4,-61.76 404,-67.04\"/>\n</g>\n</g>\n</svg>\n",
      "text/plain": [
       "<graphviz.sources.Source at 0x17abe72b0>"
      ]
     },
     "execution_count": 33,
     "metadata": {},
     "output_type": "execute_result"
    }
   ],
   "source": [
    "draw_tree(m, trn_xs, size=10)"
   ]
  },
  {
   "cell_type": "markdown",
   "metadata": {},
   "source": [
    "We can see that it's found exactly the same splits as we did!\n",
    "\n",
    "In this picture, the more orange nodes have a lower survival rate, and blue have higher survival. Each node shows how many rows (\"*samples*\") match that set of rules, and shows how many perish or survive (\"*values*\"). There's also something called \"*gini*\". That's another measure of impurity, and it's very similar to the `score()` we created earlier. It's defined as follows:"
   ]
  },
  {
   "cell_type": "code",
   "execution_count": 34,
   "metadata": {
    "execution": {
     "iopub.execute_input": "2022-05-23T04:37:59.76912Z",
     "iopub.status.busy": "2022-05-23T04:37:59.76879Z",
     "iopub.status.idle": "2022-05-23T04:37:59.776055Z",
     "shell.execute_reply": "2022-05-23T04:37:59.774896Z",
     "shell.execute_reply.started": "2022-05-23T04:37:59.769086Z"
    }
   },
   "outputs": [],
   "source": [
    "def gini(cond):\n",
    "    act = df.loc[cond, dep]\n",
    "    return 1 - act.mean()**2 - (1-act).mean()**2"
   ]
  },
  {
   "cell_type": "markdown",
   "metadata": {},
   "source": [
    "What this calculates is the probability that, if you pick two rows from a group, you'll get the same `Survived` result each time. If the group is all the same, the probability is `1.0`, and `0.0` if they're all different:"
   ]
  },
  {
   "cell_type": "code",
   "execution_count": 35,
   "metadata": {
    "execution": {
     "iopub.execute_input": "2022-05-23T04:38:01.166595Z",
     "iopub.status.busy": "2022-05-23T04:38:01.166139Z",
     "iopub.status.idle": "2022-05-23T04:38:01.177753Z",
     "shell.execute_reply": "2022-05-23T04:38:01.176747Z",
     "shell.execute_reply.started": "2022-05-23T04:38:01.166562Z"
    }
   },
   "outputs": [
    {
     "data": {
      "text/plain": [
       "(0.3828350034484158, 0.3064437162277842)"
      ]
     },
     "execution_count": 35,
     "metadata": {},
     "output_type": "execute_result"
    }
   ],
   "source": [
    "gini(df.Sex=='female'), gini(df.Sex=='male')"
   ]
  },
  {
   "cell_type": "markdown",
   "metadata": {},
   "source": [
    "Let's see how this model compares to our OneR version:"
   ]
  },
  {
   "cell_type": "code",
   "execution_count": 36,
   "metadata": {
    "execution": {
     "iopub.execute_input": "2022-05-23T04:38:02.057241Z",
     "iopub.status.busy": "2022-05-23T04:38:02.056429Z",
     "iopub.status.idle": "2022-05-23T04:38:02.068392Z",
     "shell.execute_reply": "2022-05-23T04:38:02.067471Z",
     "shell.execute_reply.started": "2022-05-23T04:38:02.057192Z"
    }
   },
   "outputs": [
    {
     "data": {
      "text/plain": [
       "0.2242152466367713"
      ]
     },
     "execution_count": 36,
     "metadata": {},
     "output_type": "execute_result"
    }
   ],
   "source": [
    "mean_absolute_error(val_y, m.predict(val_xs))"
   ]
  },
  {
   "cell_type": "markdown",
   "metadata": {},
   "source": [
    "It's a tiny bit worse. Since this is such a small dataset (we've only got around 200 rows in our validation set) this small difference isn't really meaningful. Perhaps we'll see better results if we create a bigger tree:"
   ]
  },
  {
   "cell_type": "code",
   "execution_count": 37,
   "metadata": {
    "execution": {
     "iopub.execute_input": "2022-05-23T04:38:02.926983Z",
     "iopub.status.busy": "2022-05-23T04:38:02.926216Z",
     "iopub.status.idle": "2022-05-23T04:38:02.981361Z",
     "shell.execute_reply": "2022-05-23T04:38:02.98003Z",
     "shell.execute_reply.started": "2022-05-23T04:38:02.926945Z"
    }
   },
   "outputs": [
    {
     "data": {
      "image/svg+xml": "<?xml version=\"1.0\" encoding=\"UTF-8\" standalone=\"no\"?>\n<!DOCTYPE svg PUBLIC \"-//W3C//DTD SVG 1.1//EN\"\n \"http://www.w3.org/Graphics/SVG/1.1/DTD/svg11.dtd\">\n<!-- Generated by graphviz version 7.1.0 (20230121.1956)\n -->\n<!-- Title: Tree Pages: 1 -->\n<svg width=\"1136pt\" height=\"685pt\"\n viewBox=\"0.00 0.00 1136.33 685.00\" xmlns=\"http://www.w3.org/2000/svg\" xmlns:xlink=\"http://www.w3.org/1999/xlink\">\n<g id=\"graph0\" class=\"graph\" transform=\"scale(1 1) rotate(0) translate(4 681)\">\n<title>Tree</title>\n<polygon fill=\"white\" stroke=\"none\" points=\"-4,4 -4,-681 1132.33,-681 1132.33,4 -4,4\"/>\n<!-- 0 -->\n<g id=\"node1\" class=\"node\">\n<title>0</title>\n<path fill=\"#f5ceb2\" stroke=\"black\" d=\"M596.8,-677C596.8,-677 495.8,-677 495.8,-677 489.8,-677 483.8,-671 483.8,-665 483.8,-665 483.8,-621 483.8,-621 483.8,-615 489.8,-609 495.8,-609 495.8,-609 596.8,-609 596.8,-609 602.8,-609 608.8,-615 608.8,-621 608.8,-621 608.8,-665 608.8,-665 608.8,-671 602.8,-677 596.8,-677\"/>\n<text text-anchor=\"start\" x=\"517.3\" y=\"-661.8\" font-family=\"Helvetica,sans-Serif\" font-size=\"14.00\">Sex ≤ 0.5</text>\n<text text-anchor=\"start\" x=\"514.3\" y=\"-646.8\" font-family=\"Helvetica,sans-Serif\" font-size=\"14.00\">gini = 0.47</text>\n<text text-anchor=\"start\" x=\"501.3\" y=\"-631.8\" font-family=\"Helvetica,sans-Serif\" font-size=\"14.00\">samples = 668</text>\n<text text-anchor=\"start\" x=\"491.8\" y=\"-616.8\" font-family=\"Helvetica,sans-Serif\" font-size=\"14.00\">value = [415, 253]</text>\n</g>\n<!-- 1 -->\n<g id=\"node2\" class=\"node\">\n<title>1</title>\n<path fill=\"#7ebfee\" stroke=\"black\" d=\"M449.8,-573C449.8,-573 356.8,-573 356.8,-573 350.8,-573 344.8,-567 344.8,-561 344.8,-561 344.8,-517 344.8,-517 344.8,-511 350.8,-505 356.8,-505 356.8,-505 449.8,-505 449.8,-505 455.8,-505 461.8,-511 461.8,-517 461.8,-517 461.8,-561 461.8,-561 461.8,-567 455.8,-573 449.8,-573\"/>\n<text text-anchor=\"start\" x=\"366.3\" y=\"-557.8\" font-family=\"Helvetica,sans-Serif\" font-size=\"14.00\">Pclass ≤ 2.5</text>\n<text text-anchor=\"start\" x=\"371.3\" y=\"-542.8\" font-family=\"Helvetica,sans-Serif\" font-size=\"14.00\">gini = 0.38</text>\n<text text-anchor=\"start\" x=\"358.3\" y=\"-527.8\" font-family=\"Helvetica,sans-Serif\" font-size=\"14.00\">samples = 229</text>\n<text text-anchor=\"start\" x=\"352.8\" y=\"-512.8\" font-family=\"Helvetica,sans-Serif\" font-size=\"14.00\">value = [59, 170]</text>\n</g>\n<!-- 0&#45;&gt;1 -->\n<g id=\"edge1\" class=\"edge\">\n<title>0&#45;&gt;1</title>\n<path fill=\"none\" stroke=\"black\" d=\"M499.48,-608.6C486.64,-599.44 472.59,-589.42 459.29,-579.94\"/>\n<polygon fill=\"black\" stroke=\"black\" points=\"461.64,-577.31 451.46,-574.35 457.57,-583.01 461.64,-577.31\"/>\n<text text-anchor=\"middle\" x=\"454.36\" y=\"-594.43\" font-family=\"Helvetica,sans-Serif\" font-size=\"14.00\">True</text>\n</g>\n<!-- 8 -->\n<g id=\"node9\" class=\"node\">\n<title>8</title>\n<path fill=\"#eb9e67\" stroke=\"black\" d=\"M743.8,-573C743.8,-573 650.8,-573 650.8,-573 644.8,-573 638.8,-567 638.8,-561 638.8,-561 638.8,-517 638.8,-517 638.8,-511 644.8,-505 650.8,-505 650.8,-505 743.8,-505 743.8,-505 749.8,-505 755.8,-511 755.8,-517 755.8,-517 755.8,-561 755.8,-561 755.8,-567 749.8,-573 743.8,-573\"/>\n<text text-anchor=\"start\" x=\"651.3\" y=\"-557.8\" font-family=\"Helvetica,sans-Serif\" font-size=\"14.00\">LogFare ≤ 3.31</text>\n<text text-anchor=\"start\" x=\"665.3\" y=\"-542.8\" font-family=\"Helvetica,sans-Serif\" font-size=\"14.00\">gini = 0.31</text>\n<text text-anchor=\"start\" x=\"652.3\" y=\"-527.8\" font-family=\"Helvetica,sans-Serif\" font-size=\"14.00\">samples = 439</text>\n<text text-anchor=\"start\" x=\"646.8\" y=\"-512.8\" font-family=\"Helvetica,sans-Serif\" font-size=\"14.00\">value = [356, 83]</text>\n</g>\n<!-- 0&#45;&gt;8 -->\n<g id=\"edge8\" class=\"edge\">\n<title>0&#45;&gt;8</title>\n<path fill=\"none\" stroke=\"black\" d=\"M595.75,-608.6C609.43,-599.36 624.43,-589.23 638.59,-579.66\"/>\n<polygon fill=\"black\" stroke=\"black\" points=\"640.17,-582.82 646.5,-574.32 636.25,-577.02 640.17,-582.82\"/>\n<text text-anchor=\"middle\" x=\"643\" y=\"-594.32\" font-family=\"Helvetica,sans-Serif\" font-size=\"14.00\">False</text>\n</g>\n<!-- 2 -->\n<g id=\"node3\" class=\"node\">\n<title>2</title>\n<path fill=\"#40a0e6\" stroke=\"black\" d=\"M236.3,-469C236.3,-469 150.3,-469 150.3,-469 144.3,-469 138.3,-463 138.3,-457 138.3,-457 138.3,-413 138.3,-413 138.3,-407 144.3,-401 150.3,-401 150.3,-401 236.3,-401 236.3,-401 242.3,-401 248.3,-407 248.3,-413 248.3,-413 248.3,-457 248.3,-457 248.3,-463 242.3,-469 236.3,-469\"/>\n<text text-anchor=\"start\" x=\"158.3\" y=\"-453.8\" font-family=\"Helvetica,sans-Serif\" font-size=\"14.00\">SibSp ≤ 0.5</text>\n<text text-anchor=\"start\" x=\"161.3\" y=\"-438.8\" font-family=\"Helvetica,sans-Serif\" font-size=\"14.00\">gini = 0.06</text>\n<text text-anchor=\"start\" x=\"148.3\" y=\"-423.8\" font-family=\"Helvetica,sans-Serif\" font-size=\"14.00\">samples = 120</text>\n<text text-anchor=\"start\" x=\"146.3\" y=\"-408.8\" font-family=\"Helvetica,sans-Serif\" font-size=\"14.00\">value = [4, 116]</text>\n</g>\n<!-- 1&#45;&gt;2 -->\n<g id=\"edge2\" class=\"edge\">\n<title>1&#45;&gt;2</title>\n<path fill=\"none\" stroke=\"black\" d=\"M344.53,-509.45C317.84,-496.49 286.19,-481.11 258.75,-467.79\"/>\n<polygon fill=\"black\" stroke=\"black\" points=\"260.34,-464.67 249.82,-463.45 257.28,-470.97 260.34,-464.67\"/>\n</g>\n<!-- 5 -->\n<g id=\"node6\" class=\"node\">\n<title>5</title>\n<path fill=\"#fffdfb\" stroke=\"black\" d=\"M446.3,-469C446.3,-469 360.3,-469 360.3,-469 354.3,-469 348.3,-463 348.3,-457 348.3,-457 348.3,-413 348.3,-413 348.3,-407 354.3,-401 360.3,-401 360.3,-401 446.3,-401 446.3,-401 452.3,-401 458.3,-407 458.3,-413 458.3,-413 458.3,-457 458.3,-457 458.3,-463 452.3,-469 446.3,-469\"/>\n<text text-anchor=\"start\" x=\"360.8\" y=\"-453.8\" font-family=\"Helvetica,sans-Serif\" font-size=\"14.00\">LogFare ≤ 2.7</text>\n<text text-anchor=\"start\" x=\"375.3\" y=\"-438.8\" font-family=\"Helvetica,sans-Serif\" font-size=\"14.00\">gini = 0.5</text>\n<text text-anchor=\"start\" x=\"358.3\" y=\"-423.8\" font-family=\"Helvetica,sans-Serif\" font-size=\"14.00\">samples = 109</text>\n<text text-anchor=\"start\" x=\"356.3\" y=\"-408.8\" font-family=\"Helvetica,sans-Serif\" font-size=\"14.00\">value = [55, 54]</text>\n</g>\n<!-- 1&#45;&gt;5 -->\n<g id=\"edge5\" class=\"edge\">\n<title>1&#45;&gt;5</title>\n<path fill=\"none\" stroke=\"black\" d=\"M403.3,-504.6C403.3,-497.03 403.3,-488.87 403.3,-480.9\"/>\n<polygon fill=\"black\" stroke=\"black\" points=\"406.8,-480.99 403.3,-470.99 399.8,-480.99 406.8,-480.99\"/>\n</g>\n<!-- 3 -->\n<g id=\"node4\" class=\"node\">\n<title>3</title>\n<path fill=\"#3c9ee5\" stroke=\"black\" d=\"M96.3,-357.5C96.3,-357.5 18.3,-357.5 18.3,-357.5 12.3,-357.5 6.3,-351.5 6.3,-345.5 6.3,-345.5 6.3,-316.5 6.3,-316.5 6.3,-310.5 12.3,-304.5 18.3,-304.5 18.3,-304.5 96.3,-304.5 96.3,-304.5 102.3,-304.5 108.3,-310.5 108.3,-316.5 108.3,-316.5 108.3,-345.5 108.3,-345.5 108.3,-351.5 102.3,-357.5 96.3,-357.5\"/>\n<text text-anchor=\"start\" x=\"25.3\" y=\"-342.3\" font-family=\"Helvetica,sans-Serif\" font-size=\"14.00\">gini = 0.03</text>\n<text text-anchor=\"start\" x=\"16.3\" y=\"-327.3\" font-family=\"Helvetica,sans-Serif\" font-size=\"14.00\">samples = 67</text>\n<text text-anchor=\"start\" x=\"14.3\" y=\"-312.3\" font-family=\"Helvetica,sans-Serif\" font-size=\"14.00\">value = [1, 66]</text>\n</g>\n<!-- 2&#45;&gt;3 -->\n<g id=\"edge3\" class=\"edge\">\n<title>2&#45;&gt;3</title>\n<path fill=\"none\" stroke=\"black\" d=\"M148.77,-400.6C133.23,-388.94 115.82,-375.89 100.4,-364.32\"/>\n<polygon fill=\"black\" stroke=\"black\" points=\"102.89,-361.81 92.79,-358.61 98.69,-367.41 102.89,-361.81\"/>\n</g>\n<!-- 4 -->\n<g id=\"node5\" class=\"node\">\n<title>4</title>\n<path fill=\"#45a3e7\" stroke=\"black\" d=\"M232.3,-357.5C232.3,-357.5 154.3,-357.5 154.3,-357.5 148.3,-357.5 142.3,-351.5 142.3,-345.5 142.3,-345.5 142.3,-316.5 142.3,-316.5 142.3,-310.5 148.3,-304.5 154.3,-304.5 154.3,-304.5 232.3,-304.5 232.3,-304.5 238.3,-304.5 244.3,-310.5 244.3,-316.5 244.3,-316.5 244.3,-345.5 244.3,-345.5 244.3,-351.5 238.3,-357.5 232.3,-357.5\"/>\n<text text-anchor=\"start\" x=\"161.3\" y=\"-342.3\" font-family=\"Helvetica,sans-Serif\" font-size=\"14.00\">gini = 0.11</text>\n<text text-anchor=\"start\" x=\"152.3\" y=\"-327.3\" font-family=\"Helvetica,sans-Serif\" font-size=\"14.00\">samples = 53</text>\n<text text-anchor=\"start\" x=\"150.3\" y=\"-312.3\" font-family=\"Helvetica,sans-Serif\" font-size=\"14.00\">value = [3, 50]</text>\n</g>\n<!-- 2&#45;&gt;4 -->\n<g id=\"edge4\" class=\"edge\">\n<title>2&#45;&gt;4</title>\n<path fill=\"none\" stroke=\"black\" d=\"M193.3,-400.6C193.3,-390.47 193.3,-379.28 193.3,-368.93\"/>\n<polygon fill=\"black\" stroke=\"black\" points=\"196.8,-369.22 193.3,-359.22 189.8,-369.22 196.8,-369.22\"/>\n</g>\n<!-- 6 -->\n<g id=\"node7\" class=\"node\">\n<title>6</title>\n<path fill=\"#cbe5f8\" stroke=\"black\" d=\"M376.3,-357.5C376.3,-357.5 290.3,-357.5 290.3,-357.5 284.3,-357.5 278.3,-351.5 278.3,-345.5 278.3,-345.5 278.3,-316.5 278.3,-316.5 278.3,-310.5 284.3,-304.5 290.3,-304.5 290.3,-304.5 376.3,-304.5 376.3,-304.5 382.3,-304.5 388.3,-310.5 388.3,-316.5 388.3,-316.5 388.3,-345.5 388.3,-345.5 388.3,-351.5 382.3,-357.5 376.3,-357.5\"/>\n<text text-anchor=\"start\" x=\"301.3\" y=\"-342.3\" font-family=\"Helvetica,sans-Serif\" font-size=\"14.00\">gini = 0.49</text>\n<text text-anchor=\"start\" x=\"292.3\" y=\"-327.3\" font-family=\"Helvetica,sans-Serif\" font-size=\"14.00\">samples = 59</text>\n<text text-anchor=\"start\" x=\"286.3\" y=\"-312.3\" font-family=\"Helvetica,sans-Serif\" font-size=\"14.00\">value = [25, 34]</text>\n</g>\n<!-- 5&#45;&gt;6 -->\n<g id=\"edge6\" class=\"edge\">\n<title>5&#45;&gt;6</title>\n<path fill=\"none\" stroke=\"black\" d=\"M380.38,-400.6C372.98,-389.82 364.76,-377.83 357.28,-366.94\"/>\n<polygon fill=\"black\" stroke=\"black\" points=\"360.35,-365.22 351.8,-358.95 354.57,-369.18 360.35,-365.22\"/>\n</g>\n<!-- 7 -->\n<g id=\"node8\" class=\"node\">\n<title>7</title>\n<path fill=\"#f6d5bd\" stroke=\"black\" d=\"M521.3,-357.5C521.3,-357.5 435.3,-357.5 435.3,-357.5 429.3,-357.5 423.3,-351.5 423.3,-345.5 423.3,-345.5 423.3,-316.5 423.3,-316.5 423.3,-310.5 429.3,-304.5 435.3,-304.5 435.3,-304.5 521.3,-304.5 521.3,-304.5 527.3,-304.5 533.3,-310.5 533.3,-316.5 533.3,-316.5 533.3,-345.5 533.3,-345.5 533.3,-351.5 527.3,-357.5 521.3,-357.5\"/>\n<text text-anchor=\"start\" x=\"446.3\" y=\"-342.3\" font-family=\"Helvetica,sans-Serif\" font-size=\"14.00\">gini = 0.48</text>\n<text text-anchor=\"start\" x=\"437.3\" y=\"-327.3\" font-family=\"Helvetica,sans-Serif\" font-size=\"14.00\">samples = 50</text>\n<text text-anchor=\"start\" x=\"431.3\" y=\"-312.3\" font-family=\"Helvetica,sans-Serif\" font-size=\"14.00\">value = [30, 20]</text>\n</g>\n<!-- 5&#45;&gt;7 -->\n<g id=\"edge7\" class=\"edge\">\n<title>5&#45;&gt;7</title>\n<path fill=\"none\" stroke=\"black\" d=\"M427.86,-400.6C435.79,-389.82 444.6,-377.83 452.61,-366.94\"/>\n<polygon fill=\"black\" stroke=\"black\" points=\"455.4,-369.06 458.51,-358.93 449.76,-364.91 455.4,-369.06\"/>\n</g>\n<!-- 9 -->\n<g id=\"node10\" class=\"node\">\n<title>9</title>\n<path fill=\"#e99659\" stroke=\"black\" d=\"M743.8,-469C743.8,-469 650.8,-469 650.8,-469 644.8,-469 638.8,-463 638.8,-457 638.8,-457 638.8,-413 638.8,-413 638.8,-407 644.8,-401 650.8,-401 650.8,-401 743.8,-401 743.8,-401 749.8,-401 755.8,-407 755.8,-413 755.8,-413 755.8,-457 755.8,-457 755.8,-463 749.8,-469 743.8,-469\"/>\n<text text-anchor=\"start\" x=\"664.3\" y=\"-453.8\" font-family=\"Helvetica,sans-Serif\" font-size=\"14.00\">Age ≤ 20.5</text>\n<text text-anchor=\"start\" x=\"665.3\" y=\"-438.8\" font-family=\"Helvetica,sans-Serif\" font-size=\"14.00\">gini = 0.24</text>\n<text text-anchor=\"start\" x=\"652.3\" y=\"-423.8\" font-family=\"Helvetica,sans-Serif\" font-size=\"14.00\">samples = 320</text>\n<text text-anchor=\"start\" x=\"646.8\" y=\"-408.8\" font-family=\"Helvetica,sans-Serif\" font-size=\"14.00\">value = [275, 45]</text>\n</g>\n<!-- 8&#45;&gt;9 -->\n<g id=\"edge9\" class=\"edge\">\n<title>8&#45;&gt;9</title>\n<path fill=\"none\" stroke=\"black\" d=\"M697.3,-504.6C697.3,-497.03 697.3,-488.87 697.3,-480.9\"/>\n<polygon fill=\"black\" stroke=\"black\" points=\"700.8,-480.99 697.3,-470.99 693.8,-480.99 700.8,-480.99\"/>\n</g>\n<!-- 18 -->\n<g id=\"node19\" class=\"node\">\n<title>18</title>\n<path fill=\"#f1bc96\" stroke=\"black\" d=\"M964.3,-469C964.3,-469 878.3,-469 878.3,-469 872.3,-469 866.3,-463 866.3,-457 866.3,-457 866.3,-413 866.3,-413 866.3,-407 872.3,-401 878.3,-401 878.3,-401 964.3,-401 964.3,-401 970.3,-401 976.3,-407 976.3,-413 976.3,-413 976.3,-457 976.3,-457 976.3,-463 970.3,-469 964.3,-469\"/>\n<text text-anchor=\"start\" x=\"886.3\" y=\"-453.8\" font-family=\"Helvetica,sans-Serif\" font-size=\"14.00\">SibSp ≤ 0.5</text>\n<text text-anchor=\"start\" x=\"889.3\" y=\"-438.8\" font-family=\"Helvetica,sans-Serif\" font-size=\"14.00\">gini = 0.43</text>\n<text text-anchor=\"start\" x=\"876.3\" y=\"-423.8\" font-family=\"Helvetica,sans-Serif\" font-size=\"14.00\">samples = 119</text>\n<text text-anchor=\"start\" x=\"874.3\" y=\"-408.8\" font-family=\"Helvetica,sans-Serif\" font-size=\"14.00\">value = [81, 38]</text>\n</g>\n<!-- 8&#45;&gt;18 -->\n<g id=\"edge18\" class=\"edge\">\n<title>8&#45;&gt;18</title>\n<path fill=\"none\" stroke=\"black\" d=\"M756.16,-511.2C786.67,-497.31 824.03,-480.29 855.5,-465.97\"/>\n<polygon fill=\"black\" stroke=\"black\" points=\"856.9,-469.17 864.55,-461.84 854,-462.8 856.9,-469.17\"/>\n</g>\n<!-- 10 -->\n<g id=\"node11\" class=\"node\">\n<title>10</title>\n<path fill=\"#f1b992\" stroke=\"black\" d=\"M666.3,-357.5C666.3,-357.5 580.3,-357.5 580.3,-357.5 574.3,-357.5 568.3,-351.5 568.3,-345.5 568.3,-345.5 568.3,-316.5 568.3,-316.5 568.3,-310.5 574.3,-304.5 580.3,-304.5 580.3,-304.5 666.3,-304.5 666.3,-304.5 672.3,-304.5 678.3,-310.5 678.3,-316.5 678.3,-316.5 678.3,-345.5 678.3,-345.5 678.3,-351.5 672.3,-357.5 666.3,-357.5\"/>\n<text text-anchor=\"start\" x=\"591.3\" y=\"-342.3\" font-family=\"Helvetica,sans-Serif\" font-size=\"14.00\">gini = 0.43</text>\n<text text-anchor=\"start\" x=\"582.3\" y=\"-327.3\" font-family=\"Helvetica,sans-Serif\" font-size=\"14.00\">samples = 55</text>\n<text text-anchor=\"start\" x=\"576.3\" y=\"-312.3\" font-family=\"Helvetica,sans-Serif\" font-size=\"14.00\">value = [38, 17]</text>\n</g>\n<!-- 9&#45;&gt;10 -->\n<g id=\"edge10\" class=\"edge\">\n<title>9&#45;&gt;10</title>\n<path fill=\"none\" stroke=\"black\" d=\"M673.07,-400.6C665.25,-389.82 656.56,-377.83 648.65,-366.94\"/>\n<polygon fill=\"black\" stroke=\"black\" points=\"651.55,-364.97 642.84,-358.93 645.88,-369.08 651.55,-364.97\"/>\n</g>\n<!-- 11 -->\n<g id=\"node12\" class=\"node\">\n<title>11</title>\n<path fill=\"#e89050\" stroke=\"black\" d=\"M818.8,-365C818.8,-365 725.8,-365 725.8,-365 719.8,-365 713.8,-359 713.8,-353 713.8,-353 713.8,-309 713.8,-309 713.8,-303 719.8,-297 725.8,-297 725.8,-297 818.8,-297 818.8,-297 824.8,-297 830.8,-303 830.8,-309 830.8,-309 830.8,-353 830.8,-353 830.8,-359 824.8,-365 818.8,-365\"/>\n<text text-anchor=\"start\" x=\"739.3\" y=\"-349.8\" font-family=\"Helvetica,sans-Serif\" font-size=\"14.00\">Age ≤ 32.5</text>\n<text text-anchor=\"start\" x=\"740.3\" y=\"-334.8\" font-family=\"Helvetica,sans-Serif\" font-size=\"14.00\">gini = 0.19</text>\n<text text-anchor=\"start\" x=\"727.3\" y=\"-319.8\" font-family=\"Helvetica,sans-Serif\" font-size=\"14.00\">samples = 265</text>\n<text text-anchor=\"start\" x=\"721.8\" y=\"-304.8\" font-family=\"Helvetica,sans-Serif\" font-size=\"14.00\">value = [237, 28]</text>\n</g>\n<!-- 9&#45;&gt;11 -->\n<g id=\"edge11\" class=\"edge\">\n<title>9&#45;&gt;11</title>\n<path fill=\"none\" stroke=\"black\" d=\"M721.86,-400.6C727.95,-392.32 734.55,-383.34 740.92,-374.69\"/>\n<polygon fill=\"black\" stroke=\"black\" points=\"743.69,-376.82 746.79,-366.69 738.05,-372.68 743.69,-376.82\"/>\n</g>\n<!-- 12 -->\n<g id=\"node13\" class=\"node\">\n<title>12</title>\n<path fill=\"#e99356\" stroke=\"black\" d=\"M746.8,-261C746.8,-261 653.8,-261 653.8,-261 647.8,-261 641.8,-255 641.8,-249 641.8,-249 641.8,-205 641.8,-205 641.8,-199 647.8,-193 653.8,-193 653.8,-193 746.8,-193 746.8,-193 752.8,-193 758.8,-199 758.8,-205 758.8,-205 758.8,-249 758.8,-249 758.8,-255 752.8,-261 746.8,-261\"/>\n<text text-anchor=\"start\" x=\"663.8\" y=\"-245.8\" font-family=\"Helvetica,sans-Serif\" font-size=\"14.00\">Age ≤ 24.75</text>\n<text text-anchor=\"start\" x=\"668.3\" y=\"-230.8\" font-family=\"Helvetica,sans-Serif\" font-size=\"14.00\">gini = 0.22</text>\n<text text-anchor=\"start\" x=\"655.3\" y=\"-215.8\" font-family=\"Helvetica,sans-Serif\" font-size=\"14.00\">samples = 181</text>\n<text text-anchor=\"start\" x=\"649.8\" y=\"-200.8\" font-family=\"Helvetica,sans-Serif\" font-size=\"14.00\">value = [158, 23]</text>\n</g>\n<!-- 11&#45;&gt;12 -->\n<g id=\"edge12\" class=\"edge\">\n<title>11&#45;&gt;12</title>\n<path fill=\"none\" stroke=\"black\" d=\"M748.73,-296.6C742.89,-288.32 736.54,-279.34 730.44,-270.69\"/>\n<polygon fill=\"black\" stroke=\"black\" points=\"733.43,-268.86 724.81,-262.71 727.71,-272.9 733.43,-268.86\"/>\n</g>\n<!-- 17 -->\n<g id=\"node18\" class=\"node\">\n<title>17</title>\n<path fill=\"#e78946\" stroke=\"black\" d=\"M883.3,-253.5C883.3,-253.5 805.3,-253.5 805.3,-253.5 799.3,-253.5 793.3,-247.5 793.3,-241.5 793.3,-241.5 793.3,-212.5 793.3,-212.5 793.3,-206.5 799.3,-200.5 805.3,-200.5 805.3,-200.5 883.3,-200.5 883.3,-200.5 889.3,-200.5 895.3,-206.5 895.3,-212.5 895.3,-212.5 895.3,-241.5 895.3,-241.5 895.3,-247.5 889.3,-253.5 883.3,-253.5\"/>\n<text text-anchor=\"start\" x=\"812.3\" y=\"-238.3\" font-family=\"Helvetica,sans-Serif\" font-size=\"14.00\">gini = 0.11</text>\n<text text-anchor=\"start\" x=\"803.3\" y=\"-223.3\" font-family=\"Helvetica,sans-Serif\" font-size=\"14.00\">samples = 84</text>\n<text text-anchor=\"start\" x=\"801.3\" y=\"-208.3\" font-family=\"Helvetica,sans-Serif\" font-size=\"14.00\">value = [79, 5]</text>\n</g>\n<!-- 11&#45;&gt;17 -->\n<g id=\"edge17\" class=\"edge\">\n<title>11&#45;&gt;17</title>\n<path fill=\"none\" stroke=\"black\" d=\"M795.88,-296.6C803.49,-285.82 811.95,-273.83 819.64,-262.94\"/>\n<polygon fill=\"black\" stroke=\"black\" points=\"822.38,-265.13 825.29,-254.94 816.66,-261.09 822.38,-265.13\"/>\n</g>\n<!-- 13 -->\n<g id=\"node14\" class=\"node\">\n<title>13</title>\n<path fill=\"#e88d4c\" stroke=\"black\" d=\"M671.8,-157C671.8,-157 578.8,-157 578.8,-157 572.8,-157 566.8,-151 566.8,-145 566.8,-145 566.8,-101 566.8,-101 566.8,-95 572.8,-89 578.8,-89 578.8,-89 671.8,-89 671.8,-89 677.8,-89 683.8,-95 683.8,-101 683.8,-101 683.8,-145 683.8,-145 683.8,-151 677.8,-157 671.8,-157\"/>\n<text text-anchor=\"start\" x=\"579.3\" y=\"-141.8\" font-family=\"Helvetica,sans-Serif\" font-size=\"14.00\">LogFare ≤ 2.18</text>\n<text text-anchor=\"start\" x=\"593.3\" y=\"-126.8\" font-family=\"Helvetica,sans-Serif\" font-size=\"14.00\">gini = 0.16</text>\n<text text-anchor=\"start\" x=\"580.3\" y=\"-111.8\" font-family=\"Helvetica,sans-Serif\" font-size=\"14.00\">samples = 114</text>\n<text text-anchor=\"start\" x=\"574.8\" y=\"-96.8\" font-family=\"Helvetica,sans-Serif\" font-size=\"14.00\">value = [104, 10]</text>\n</g>\n<!-- 12&#45;&gt;13 -->\n<g id=\"edge13\" class=\"edge\">\n<title>12&#45;&gt;13</title>\n<path fill=\"none\" stroke=\"black\" d=\"M675.75,-192.6C669.66,-184.32 663.05,-175.34 656.69,-166.69\"/>\n<polygon fill=\"black\" stroke=\"black\" points=\"659.56,-164.68 650.81,-158.69 653.92,-168.82 659.56,-164.68\"/>\n</g>\n<!-- 16 -->\n<g id=\"node17\" class=\"node\">\n<title>16</title>\n<path fill=\"#eb9f69\" stroke=\"black\" d=\"M817.3,-149.5C817.3,-149.5 731.3,-149.5 731.3,-149.5 725.3,-149.5 719.3,-143.5 719.3,-137.5 719.3,-137.5 719.3,-108.5 719.3,-108.5 719.3,-102.5 725.3,-96.5 731.3,-96.5 731.3,-96.5 817.3,-96.5 817.3,-96.5 823.3,-96.5 829.3,-102.5 829.3,-108.5 829.3,-108.5 829.3,-137.5 829.3,-137.5 829.3,-143.5 823.3,-149.5 817.3,-149.5\"/>\n<text text-anchor=\"start\" x=\"742.3\" y=\"-134.3\" font-family=\"Helvetica,sans-Serif\" font-size=\"14.00\">gini = 0.31</text>\n<text text-anchor=\"start\" x=\"733.3\" y=\"-119.3\" font-family=\"Helvetica,sans-Serif\" font-size=\"14.00\">samples = 67</text>\n<text text-anchor=\"start\" x=\"727.3\" y=\"-104.3\" font-family=\"Helvetica,sans-Serif\" font-size=\"14.00\">value = [54, 13]</text>\n</g>\n<!-- 12&#45;&gt;16 -->\n<g id=\"edge16\" class=\"edge\">\n<title>12&#45;&gt;16</title>\n<path fill=\"none\" stroke=\"black\" d=\"M724.53,-192.6C732.36,-181.82 741.05,-169.83 748.95,-158.94\"/>\n<polygon fill=\"black\" stroke=\"black\" points=\"751.73,-161.08 754.77,-150.93 746.06,-156.97 751.73,-161.08\"/>\n</g>\n<!-- 14 -->\n<g id=\"node15\" class=\"node\">\n<title>14</title>\n<path fill=\"#e99254\" stroke=\"black\" d=\"M596.3,-53.5C596.3,-53.5 518.3,-53.5 518.3,-53.5 512.3,-53.5 506.3,-47.5 506.3,-41.5 506.3,-41.5 506.3,-12.5 506.3,-12.5 506.3,-6.5 512.3,-0.5 518.3,-0.5 518.3,-0.5 596.3,-0.5 596.3,-0.5 602.3,-0.5 608.3,-6.5 608.3,-12.5 608.3,-12.5 608.3,-41.5 608.3,-41.5 608.3,-47.5 602.3,-53.5 596.3,-53.5\"/>\n<text text-anchor=\"start\" x=\"525.3\" y=\"-38.3\" font-family=\"Helvetica,sans-Serif\" font-size=\"14.00\">gini = 0.21</text>\n<text text-anchor=\"start\" x=\"516.3\" y=\"-23.3\" font-family=\"Helvetica,sans-Serif\" font-size=\"14.00\">samples = 50</text>\n<text text-anchor=\"start\" x=\"514.3\" y=\"-8.3\" font-family=\"Helvetica,sans-Serif\" font-size=\"14.00\">value = [44, 6]</text>\n</g>\n<!-- 13&#45;&gt;14 -->\n<g id=\"edge14\" class=\"edge\">\n<title>13&#45;&gt;14</title>\n<path fill=\"none\" stroke=\"black\" d=\"M601.14,-88.59C595.15,-80.31 588.71,-71.42 582.66,-63.06\"/>\n<polygon fill=\"black\" stroke=\"black\" points=\"585.63,-61.19 576.94,-55.14 579.96,-65.29 585.63,-61.19\"/>\n</g>\n<!-- 15 -->\n<g id=\"node16\" class=\"node\">\n<title>15</title>\n<path fill=\"#e78946\" stroke=\"black\" d=\"M732.3,-53.5C732.3,-53.5 654.3,-53.5 654.3,-53.5 648.3,-53.5 642.3,-47.5 642.3,-41.5 642.3,-41.5 642.3,-12.5 642.3,-12.5 642.3,-6.5 648.3,-0.5 654.3,-0.5 654.3,-0.5 732.3,-0.5 732.3,-0.5 738.3,-0.5 744.3,-6.5 744.3,-12.5 744.3,-12.5 744.3,-41.5 744.3,-41.5 744.3,-47.5 738.3,-53.5 732.3,-53.5\"/>\n<text text-anchor=\"start\" x=\"661.3\" y=\"-38.3\" font-family=\"Helvetica,sans-Serif\" font-size=\"14.00\">gini = 0.12</text>\n<text text-anchor=\"start\" x=\"652.3\" y=\"-23.3\" font-family=\"Helvetica,sans-Serif\" font-size=\"14.00\">samples = 64</text>\n<text text-anchor=\"start\" x=\"650.3\" y=\"-8.3\" font-family=\"Helvetica,sans-Serif\" font-size=\"14.00\">value = [60, 4]</text>\n</g>\n<!-- 13&#45;&gt;15 -->\n<g id=\"edge15\" class=\"edge\">\n<title>13&#45;&gt;15</title>\n<path fill=\"none\" stroke=\"black\" d=\"M649.47,-88.59C655.46,-80.31 661.9,-71.42 667.94,-63.06\"/>\n<polygon fill=\"black\" stroke=\"black\" points=\"670.65,-65.29 673.67,-55.14 664.98,-61.19 670.65,-65.29\"/>\n</g>\n<!-- 19 -->\n<g id=\"node20\" class=\"node\">\n<title>19</title>\n<path fill=\"#f6d5bd\" stroke=\"black\" d=\"M964.3,-357.5C964.3,-357.5 878.3,-357.5 878.3,-357.5 872.3,-357.5 866.3,-351.5 866.3,-345.5 866.3,-345.5 866.3,-316.5 866.3,-316.5 866.3,-310.5 872.3,-304.5 878.3,-304.5 878.3,-304.5 964.3,-304.5 964.3,-304.5 970.3,-304.5 976.3,-310.5 976.3,-316.5 976.3,-316.5 976.3,-345.5 976.3,-345.5 976.3,-351.5 970.3,-357.5 964.3,-357.5\"/>\n<text text-anchor=\"start\" x=\"889.3\" y=\"-342.3\" font-family=\"Helvetica,sans-Serif\" font-size=\"14.00\">gini = 0.48</text>\n<text text-anchor=\"start\" x=\"880.3\" y=\"-327.3\" font-family=\"Helvetica,sans-Serif\" font-size=\"14.00\">samples = 60</text>\n<text text-anchor=\"start\" x=\"874.3\" y=\"-312.3\" font-family=\"Helvetica,sans-Serif\" font-size=\"14.00\">value = [36, 24]</text>\n</g>\n<!-- 18&#45;&gt;19 -->\n<g id=\"edge19\" class=\"edge\">\n<title>18&#45;&gt;19</title>\n<path fill=\"none\" stroke=\"black\" d=\"M921.3,-400.6C921.3,-390.47 921.3,-379.28 921.3,-368.93\"/>\n<polygon fill=\"black\" stroke=\"black\" points=\"924.8,-369.22 921.3,-359.22 917.8,-369.22 924.8,-369.22\"/>\n</g>\n<!-- 20 -->\n<g id=\"node21\" class=\"node\">\n<title>20</title>\n<path fill=\"#eda877\" stroke=\"black\" d=\"M1109.3,-357.5C1109.3,-357.5 1023.3,-357.5 1023.3,-357.5 1017.3,-357.5 1011.3,-351.5 1011.3,-345.5 1011.3,-345.5 1011.3,-316.5 1011.3,-316.5 1011.3,-310.5 1017.3,-304.5 1023.3,-304.5 1023.3,-304.5 1109.3,-304.5 1109.3,-304.5 1115.3,-304.5 1121.3,-310.5 1121.3,-316.5 1121.3,-316.5 1121.3,-345.5 1121.3,-345.5 1121.3,-351.5 1115.3,-357.5 1109.3,-357.5\"/>\n<text text-anchor=\"start\" x=\"1034.3\" y=\"-342.3\" font-family=\"Helvetica,sans-Serif\" font-size=\"14.00\">gini = 0.36</text>\n<text text-anchor=\"start\" x=\"1025.3\" y=\"-327.3\" font-family=\"Helvetica,sans-Serif\" font-size=\"14.00\">samples = 59</text>\n<text text-anchor=\"start\" x=\"1019.3\" y=\"-312.3\" font-family=\"Helvetica,sans-Serif\" font-size=\"14.00\">value = [45, 14]</text>\n</g>\n<!-- 18&#45;&gt;20 -->\n<g id=\"edge20\" class=\"edge\">\n<title>18&#45;&gt;20</title>\n<path fill=\"none\" stroke=\"black\" d=\"M968.78,-400.6C985.35,-388.94 1003.91,-375.89 1020.35,-364.32\"/>\n<polygon fill=\"black\" stroke=\"black\" points=\"1022.36,-367.19 1028.52,-358.58 1018.33,-361.47 1022.36,-367.19\"/>\n</g>\n</g>\n</svg>\n",
      "text/plain": [
       "<graphviz.sources.Source at 0x16e09df70>"
      ]
     },
     "execution_count": 37,
     "metadata": {},
     "output_type": "execute_result"
    }
   ],
   "source": [
    "m = DecisionTreeClassifier(min_samples_leaf=50)\n",
    "m.fit(trn_xs, trn_y)\n",
    "draw_tree(m, trn_xs, size=25)"
   ]
  },
  {
   "cell_type": "code",
   "execution_count": 38,
   "metadata": {
    "execution": {
     "iopub.execute_input": "2022-05-23T04:38:03.953946Z",
     "iopub.status.busy": "2022-05-23T04:38:03.953608Z",
     "iopub.status.idle": "2022-05-23T04:38:03.965301Z",
     "shell.execute_reply": "2022-05-23T04:38:03.964474Z",
     "shell.execute_reply.started": "2022-05-23T04:38:03.953912Z"
    }
   },
   "outputs": [
    {
     "data": {
      "text/plain": [
       "0.18385650224215247"
      ]
     },
     "execution_count": 38,
     "metadata": {},
     "output_type": "execute_result"
    }
   ],
   "source": [
    "mean_absolute_error(val_y, m.predict(val_xs))"
   ]
  },
  {
   "cell_type": "markdown",
   "metadata": {},
   "source": [
    "It looks like this is an improvement, although again it's a bit hard to tell with small datasets like this. Let's try submitting it to Kaggle:"
   ]
  },
  {
   "cell_type": "code",
   "execution_count": 36,
   "metadata": {
    "execution": {
     "iopub.execute_input": "2022-05-23T04:38:04.158937Z",
     "iopub.status.busy": "2022-05-23T04:38:04.158557Z",
     "iopub.status.idle": "2022-05-23T04:38:04.183949Z",
     "shell.execute_reply": "2022-05-23T04:38:04.182841Z",
     "shell.execute_reply.started": "2022-05-23T04:38:04.158902Z"
    }
   },
   "outputs": [],
   "source": [
    "tst_df[cats] = tst_df[cats].apply(lambda x: x.cat.codes)\n",
    "tst_xs,_ = xs_y(tst_df)\n",
    "\n",
    "def subm(preds, suff):\n",
    "    tst_df['Survived'] = preds\n",
    "    sub_df = tst_df[['PassengerId','Survived']]\n",
    "    sub_df.to_csv(f'sub-{suff}.csv', index=False)\n",
    "\n",
    "subm(m.predict(tst_xs), 'tree')"
   ]
  },
  {
   "cell_type": "markdown",
   "metadata": {},
   "source": [
    "When I submitted this, I got a score of 0.765, which isn't as good as our linear models or most of our neural nets, but it's pretty close to those results.\n",
    "\n",
    "Hopefully you can now see why we didn't really need to create dummy variables, but instead just converted the labels into numbers using some (potentially arbitary) ordering of categories. For instance, here's how the first few items of `Embarked` are labeled:"
   ]
  },
  {
   "cell_type": "code",
   "execution_count": 39,
   "metadata": {
    "execution": {
     "iopub.execute_input": "2022-05-23T04:40:33.30121Z",
     "iopub.status.busy": "2022-05-23T04:40:33.300898Z",
     "iopub.status.idle": "2022-05-23T04:40:33.310952Z",
     "shell.execute_reply": "2022-05-23T04:40:33.309927Z",
     "shell.execute_reply.started": "2022-05-23T04:40:33.301175Z"
    }
   },
   "outputs": [
    {
     "data": {
      "text/plain": [
       "0    S\n",
       "1    C\n",
       "2    S\n",
       "3    S\n",
       "4    S\n",
       "Name: Embarked, dtype: category\n",
       "Categories (3, object): ['C', 'Q', 'S']"
      ]
     },
     "execution_count": 39,
     "metadata": {},
     "output_type": "execute_result"
    }
   ],
   "source": [
    "df.Embarked.head()"
   ]
  },
  {
   "cell_type": "markdown",
   "metadata": {},
   "source": [
    "...resulting in these integer codes:"
   ]
  },
  {
   "cell_type": "code",
   "execution_count": 40,
   "metadata": {
    "execution": {
     "iopub.execute_input": "2022-05-23T04:41:09.343513Z",
     "iopub.status.busy": "2022-05-23T04:41:09.34246Z",
     "iopub.status.idle": "2022-05-23T04:41:09.351674Z",
     "shell.execute_reply": "2022-05-23T04:41:09.350699Z",
     "shell.execute_reply.started": "2022-05-23T04:41:09.343456Z"
    }
   },
   "outputs": [
    {
     "data": {
      "text/plain": [
       "0    2\n",
       "1    0\n",
       "2    2\n",
       "3    2\n",
       "4    2\n",
       "dtype: int8"
      ]
     },
     "execution_count": 40,
     "metadata": {},
     "output_type": "execute_result"
    }
   ],
   "source": [
    "df.Embarked.cat.codes.head()"
   ]
  },
  {
   "cell_type": "markdown",
   "metadata": {},
   "source": [
    "So let's say we wanted to split into \"C\" in one group, vs \"Q\" or \"S\" in the other group. Then we just have to split on codes `<=0` (since `C` is mapped to category `0`). Note that if we wanted to split into \"Q\" in one group, we'd need to use two binary splits, first to separate \"C\" from \"Q\" and \"S\", and then a second split to separate \"Q\" from \"S\". For this reason, sometimes it can still be helpful to use dummy variables for categorical variables with few levels (like this one).\n",
    "\n",
    "In practice, I often use dummy variables for <4 levels, and numeric codes for >=4 levels."
   ]
  },
  {
   "cell_type": "markdown",
   "metadata": {},
   "source": [
    "## The random forest"
   ]
  },
  {
   "cell_type": "markdown",
   "metadata": {},
   "source": [
    "We can't make the decision tree much bigger than the example above, since some leaf nodes already have only 50 rows in them. That's not a lot of data to make a prediction.\n",
    "\n",
    "So how could we use bigger trees? One big insight came from Leo Breiman: what if we create lots of bigger trees, and take the average of their predictions? Taking the average prediction of a bunch of models in this way is known as [bagging](https://link.springer.com/article/10.1007/BF00058655).\n",
    "\n",
    "The idea is that we want each model's predictions in the averaged ensemble to be uncorrelated with each other model. That way, if we average the predictions, the average will be equal to the true target value -- that's because the average of lots of uncorrelated random errors is zero. That's quite an amazing insight!\n",
    "\n",
    "One way we can create a bunch of uncorrelated models is to train each of them on a different random subset of the data. Here's how we can create a tree on a random subset of the data:"
   ]
  },
  {
   "cell_type": "code",
   "execution_count": 41,
   "metadata": {
    "execution": {
     "iopub.execute_input": "2022-05-23T04:51:20.332256Z",
     "iopub.status.busy": "2022-05-23T04:51:20.331981Z",
     "iopub.status.idle": "2022-05-23T04:51:20.338451Z",
     "shell.execute_reply": "2022-05-23T04:51:20.337562Z",
     "shell.execute_reply.started": "2022-05-23T04:51:20.332229Z"
    }
   },
   "outputs": [],
   "source": [
    "def get_tree(prop=0.75):\n",
    "    n = len(trn_y)\n",
    "    idxs = random.choice(n, int(n*prop))\n",
    "    return DecisionTreeClassifier(min_samples_leaf=5).fit(trn_xs.iloc[idxs], trn_y.iloc[idxs])"
   ]
  },
  {
   "cell_type": "markdown",
   "metadata": {},
   "source": [
    "Now we can create as many trees as we want:"
   ]
  },
  {
   "cell_type": "code",
   "execution_count": 42,
   "metadata": {
    "execution": {
     "iopub.execute_input": "2022-05-23T04:51:23.113575Z",
     "iopub.status.busy": "2022-05-23T04:51:23.113271Z",
     "iopub.status.idle": "2022-05-23T04:51:23.392216Z",
     "shell.execute_reply": "2022-05-23T04:51:23.391179Z",
     "shell.execute_reply.started": "2022-05-23T04:51:23.113547Z"
    }
   },
   "outputs": [],
   "source": [
    "trees = [get_tree() for t in range(100)]"
   ]
  },
  {
   "cell_type": "markdown",
   "metadata": {},
   "source": [
    "Our prediction will be the average of these trees' predictions:"
   ]
  },
  {
   "cell_type": "code",
   "execution_count": 43,
   "metadata": {
    "execution": {
     "iopub.execute_input": "2022-05-23T04:51:24.13079Z",
     "iopub.status.busy": "2022-05-23T04:51:24.130425Z",
     "iopub.status.idle": "2022-05-23T04:51:24.27515Z",
     "shell.execute_reply": "2022-05-23T04:51:24.274245Z",
     "shell.execute_reply.started": "2022-05-23T04:51:24.130754Z"
    }
   },
   "outputs": [
    {
     "data": {
      "text/plain": [
       "0.2272645739910314"
      ]
     },
     "execution_count": 43,
     "metadata": {},
     "output_type": "execute_result"
    }
   ],
   "source": [
    "all_probs = [t.predict(val_xs) for t in trees]\n",
    "avg_probs = np.stack(all_probs).mean(0)\n",
    "\n",
    "mean_absolute_error(val_y, avg_probs)"
   ]
  },
  {
   "cell_type": "markdown",
   "metadata": {},
   "source": [
    "This is nearly identical to what `sklearn`'s `RandomForestClassifier` does. The main extra piece in a \"real\" random forest is that as well as choosing a random sample of data for each tree, it also picks a random subset of columns for each split. Here's how we repeat the above process with a random forest:"
   ]
  },
  {
   "cell_type": "code",
   "execution_count": 44,
   "metadata": {
    "execution": {
     "iopub.execute_input": "2022-05-23T04:51:24.302789Z",
     "iopub.status.busy": "2022-05-23T04:51:24.302442Z",
     "iopub.status.idle": "2022-05-23T04:51:24.586127Z",
     "shell.execute_reply": "2022-05-23T04:51:24.584999Z",
     "shell.execute_reply.started": "2022-05-23T04:51:24.302754Z"
    }
   },
   "outputs": [
    {
     "data": {
      "text/plain": [
       "0.18834080717488788"
      ]
     },
     "execution_count": 44,
     "metadata": {},
     "output_type": "execute_result"
    }
   ],
   "source": [
    "from sklearn.ensemble import RandomForestClassifier\n",
    "\n",
    "rf = RandomForestClassifier(100, min_samples_leaf=5)\n",
    "rf.fit(trn_xs, trn_y);\n",
    "mean_absolute_error(val_y, rf.predict(val_xs))"
   ]
  },
  {
   "cell_type": "markdown",
   "metadata": {},
   "source": [
    "We can submit that to Kaggle too:"
   ]
  },
  {
   "cell_type": "code",
   "execution_count": 52,
   "metadata": {
    "execution": {
     "iopub.execute_input": "2022-05-23T04:51:26.868302Z",
     "iopub.status.busy": "2022-05-23T04:51:26.867535Z",
     "iopub.status.idle": "2022-05-23T04:51:26.902301Z",
     "shell.execute_reply": "2022-05-23T04:51:26.901088Z",
     "shell.execute_reply.started": "2022-05-23T04:51:26.868252Z"
    }
   },
   "outputs": [],
   "source": [
    "subm(rf.predict(tst_xs), 'rf')"
   ]
  },
  {
   "cell_type": "markdown",
   "metadata": {},
   "source": [
    "I found that gave nearly an identical result as our single tree (which, in turn, was slightly lower than our linear and neural net models in the previous notebook)."
   ]
  },
  {
   "cell_type": "markdown",
   "metadata": {},
   "source": [
    "One particularly nice feature of random forests is they can tell us which independent variables were the most important in the model, using `feature_importances_`:"
   ]
  },
  {
   "cell_type": "code",
   "execution_count": 45,
   "metadata": {
    "execution": {
     "iopub.execute_input": "2022-05-23T04:53:08.654508Z",
     "iopub.status.busy": "2022-05-23T04:53:08.654163Z",
     "iopub.status.idle": "2022-05-23T04:53:08.906439Z",
     "shell.execute_reply": "2022-05-23T04:53:08.904724Z",
     "shell.execute_reply.started": "2022-05-23T04:53:08.654445Z"
    }
   },
   "outputs": [
    {
     "data": {
      "image/png": "[encoded data removed]",
      "text/plain": [
       "<Figure size 640x480 with 1 Axes>"
      ]
     },
     "metadata": {},
     "output_type": "display_data"
    }
   ],
   "source": [
    "pd.DataFrame(dict(cols=trn_xs.columns, imp=m.feature_importances_)).plot('cols', 'imp', 'barh');"
   ]
  },
  {
   "cell_type": "markdown",
   "metadata": {},
   "source": [
    "We can see that `Sex` is by far the most important predictor, with `Pclass` a distant second, and `LogFare` and `Age` behind that. In datasets with many columns, I generally recommend creating a feature importance plot as soon as possible, in order to find which columns are worth studying more closely. (Note also that we didn't really need to take the `log()` of `Fare`, since random forests only care about order, and `log()` doesn't change the order -- we only did it to make our graphs earlier easier to read.)\n",
    "\n",
    "For details about deriving and understanding feature importances, and the many other important diagnostic tools provided by random forests, take a look at [chapter 8](https://github.com/fastai/fastbook/blob/master/08_collab.ipynb) of [our book](https://www.amazon.com/Deep-Learning-Coders-fastai-PyTorch/dp/1492045527)."
   ]
  },
  {
   "cell_type": "markdown",
   "metadata": {},
   "source": [
    "## Conclusion"
   ]
  },
  {
   "cell_type": "markdown",
   "metadata": {},
   "source": [
    "So what can we take away from all this?\n",
    "\n",
    "I think the first thing I'd note from this is that, clearly, more complex models aren't always better. Our \"OneR\" model, consisting of a single binary split, was nearly as good as our more complex models. Perhaps in practice a simple model like this might be much easier to use, and could be worth considering. Our random forest wasn't an improvement on the single decision tree at all.\n",
    "\n",
    "So we should always be careful to benchmark simple models, as see if they're good enough for our needs. In practice, you will often find that simple models will have trouble providing adequate accuracy for more complex tasks, such as recommendation systems, NLP, computer vision, or multivariate time series. But there's no need to guess -- it's so easy to try a few different models, there's no reason not to give the simpler ones a go too!\n",
    "\n",
    "Another thing I think we can take away is that random forests aren't actually that complicated at all. We were able to implement the key features of them in a notebook quite quickly. And they aren't sensitive to issues like normalization, interactions, or non-linear transformations, which make them extremely easy to work with, and hard to mess up!"
   ]
  },
  {
   "cell_type": "markdown",
   "metadata": {},
   "source": [
    "If you found this notebook useful, please remember to click the little up-arrow at the top to upvote it, since I like to know when people have found my work useful, and it helps others find it too. (BTW, be sure you're looking at my [original notebook here](https://www.kaggle.com/jhoward/how-random-forests-work) when you do that, and are not on your own copy of it, otherwise your upvote won't get counted!) And if you have any questions or comments, please pop them below -- I read every comment I receive!"
   ]
  }
 ],
 "metadata": {
  "kernelspec": {
   "display_name": "Python 3 (ipykernel)",
   "language": "python",
   "name": "python3"
  },
  "language_info": {
   "codemirror_mode": {
    "name": "ipython",
    "version": 3
   },
   "file_extension": ".py",
   "mimetype": "text/x-python",
   "name": "python",
   "nbconvert_exporter": "python",
   "pygments_lexer": "ipython3",
   "version": "3.9.13"
  },
  "toc": {
   "base_numbering": 1,
   "nav_menu": {
    "height": "133.002px",
    "width": "196.553px"
   },
   "number_sections": false,
   "sideBar": true,
   "skip_h1_title": false,
   "title_cell": "Table of Contents",
   "title_sidebar": "Contents",
   "toc_cell": false,
   "toc_position": {},
   "toc_section_display": true,
   "toc_window_display": false
  }
 },
 "nbformat": 4,
 "nbformat_minor": 4
}
